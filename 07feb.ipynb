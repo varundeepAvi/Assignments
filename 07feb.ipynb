{
  "nbformat": 4,
  "nbformat_minor": 0,
  "metadata": {
    "colab": {
      "provenance": []
    },
    "kernelspec": {
      "name": "python3",
      "display_name": "Python 3"
    },
    "language_info": {
      "name": "python"
    }
  },
  "cells": [
    {
      "cell_type": "markdown",
      "source": [
        "1.Write a function that accepts a line of text and a single letter as input (your program should be able to handle all upper and lower cases) and returns the number of times this letter is the second last character of a word. Note your program should be able to handle different cases. And check if the user input is a single letter. Think about how you deal with words ending with punctuation. Example: Input text = \"When the sun rises at dawn, the CHICKEN flies into the window.\" Input letter = \"E\" Output = \"The letter E has appeared 4 times as the second last letter of a word.\"\n"
      ],
      "metadata": {
        "id": "SyOHX8ogIR62"
      }
    },
    {
      "cell_type": "code",
      "execution_count": 12,
      "metadata": {
        "colab": {
          "base_uri": "https://localhost:8080/"
        },
        "id": "4CkaggV_IKnV",
        "outputId": "5fce9407-66d4-4f70-8519-470d0c2b61ac"
      },
      "outputs": [
        {
          "output_type": "stream",
          "name": "stdout",
          "text": [
            "Enter Text: When the sun rises at dawn, the CHICKEN flies into the window.\n",
            "Enter Character: E\n",
            "Character E appears 4 times\n"
          ]
        }
      ],
      "source": [
        "import string\n",
        "text = input(\"Enter Text: \")\n",
        "char = input(\"Enter Character: \")\n",
        "\n",
        "count  = 0\n",
        "text = text.upper()\n",
        "\n",
        "while True:\n",
        "\n",
        "   char = char.upper()\n",
        "   if len(char) == 1:\n",
        "     break;\n",
        "   else :\n",
        "     print(\"Please Enter only one character\")\n",
        "\n",
        "\n",
        "list1 = text.split()\n",
        "for item in list1:\n",
        "   if item[-1]  in string.punctuation:\n",
        "      if item[-3] == char:\n",
        "        count +=1\n",
        "\n",
        "   else :\n",
        "       if item[-2] == char:\n",
        "        count +=1\n",
        "\n",
        "\n",
        "print(f\"Character {char} appears {count} times\" )\n",
        "\n",
        "\n",
        ""
      ]
    },
    {
      "cell_type": "markdown",
      "source": [
        "2.Write a Python program to ask user input of a string, then ask user input of what letters they want to remove from the string. User can either put in \"odd\", \"even\" or a number \"n\" that is greater than 2. When user input \"odd\", it will remove the characters which have odd numbers in the sequence of the string. When user input \"even\", it will remove the characters which have even numbers in the sequence of the string. When user input \"n\" number, it will remove the characters which have nth numbers in the sequence of the string. Note that we are talking about the sequence of the letters, so the first letter in a string is number 1, the second is number 2, and so on.\n",
        "d"
      ],
      "metadata": {
        "id": "0-HpaLPwMwzt"
      }
    },
    {
      "cell_type": "code",
      "source": [
        "def removeCharAtN(str1, N):\n",
        "\n",
        " return str1[:N-1] + str1[N:]\n",
        "\n",
        "\n",
        "def removeOddPlaces(str1):\n",
        "\n",
        "     return ''.join(str1[i] for  i in range(len(str1))  if i % 2 != 0 )\n",
        "\n",
        "def removeEvenPlaces(str1):\n",
        "     return ''.join(str1[i] for  i in range(len(str1))  if i % 2 == 0 )\n",
        "\n",
        "\n",
        "\n",
        "\n",
        "\n",
        "\n",
        "\n",
        "\n",
        "text = input(\"Enter String \")\n",
        "print(\"Enter any following choice:\")\n",
        "choice_string = (\"Type 'Odd' ->   it will remove the characters which have odd numbers in the sequence of the string\\n\"+\n",
        "      \"Type  'Even'  -> it will remove the characters which have even numbers in the sequence of the string\\n\"+\n",
        "      \"Type 'N' -> it will remove Nth Character for the sequence\")\n",
        "\n",
        "\n",
        "print(choice_string)\n",
        "ans = ''\n",
        "FLAG = True\n",
        "while  FLAG :\n",
        "\n",
        " choice = input(\"Enter Choice:\")\n",
        " choice = choice.upper()\n",
        "\n",
        "\n",
        " match choice:\n",
        "   case 'ODD' :\n",
        "      ans = removeOddPlaces(text)\n",
        "      FLAG = False\n",
        "   case 'EVEN':\n",
        "      ans =  removeEvenPlaces(text)\n",
        "      FLAG= False\n",
        "   case 'N' :\n",
        "       n = int(input(\"Enter Value of n index to remove Character : \"))\n",
        "       if (n > len(text)):\n",
        "           print(\"n value is greater than length of string, so no effect on original string \")\n",
        "           ans = text\n",
        "       else :\n",
        "           ans =  removeCharAtN(text, n)\n",
        "       FLAG = False\n",
        "   case default:\n",
        "      print(\"Enter Valid input :- \")\n",
        "      print()\n",
        "      FLAG = True\n",
        "\n",
        "print(\"String After Applying desired Operation is :-\")\n",
        "print(ans)"
      ],
      "metadata": {
        "colab": {
          "base_uri": "https://localhost:8080/"
        },
        "id": "whZh3xSQMyAm",
        "outputId": "74a13815-a6ac-42f2-b48e-03c39c8cce65"
      },
      "execution_count": 36,
      "outputs": [
        {
          "output_type": "stream",
          "name": "stdout",
          "text": [
            "Enter String Varun\n",
            "Enter any following choice:\n",
            "Type 'Odd' ->   it will remove the characters which have odd numbers in the sequence of the string\n",
            "Type  'Even'  -> it will remove the characters which have even numbers in the sequence of the string\n",
            "Type 'N' -> it will remove Nth Character for the sequence\n",
            "Enter Choice:5\n",
            "Enter Valid input :- \n",
            "\n",
            "Enter Choice:N\n",
            "Enter Value of n index to remove Character5\n",
            "String After Applying desired Operation is :-\n",
            "Varu\n"
          ]
        }
      ]
    },
    {
      "cell_type": "markdown",
      "source": [
        "4.Write a Python program to ask how many elements users want to create in a list, then let the user create 2 lists with the number of elements previously entered. Then create and display all combinations of letters, selecting each letter from a different key in a dictionary, and place all these combinations in a new list. Example: How many elements? 2 List 1 = ['a', 'b'] List 2 = ['c','d'] Output: newlist = [ac, ad, bc, bd]\n"
      ],
      "metadata": {
        "id": "lo2dMhKzdq7n"
      }
    },
    {
      "cell_type": "code",
      "source": [
        "def generate_combinations(list1, list2, n):\n",
        "   list_ans  =  []\n",
        "\n",
        "   for ele1 in list1:\n",
        "      for ele2 in list2:\n",
        "         list_ans.append(ele1+ele2)\n",
        "\n",
        "   return list_ans;\n",
        "\n",
        "\n",
        "\n",
        "n = int(input(\"Enter Number of elements for lists : \"))\n",
        "\n",
        "\n",
        "list1 = []\n",
        "list2=  [ ]\n",
        "print(\"Enter Elements for list1:- \")\n",
        "\n",
        "for i in range(n):\n",
        "   list1.append(input(\"Enter Element :\"))\n",
        "\n",
        "\n",
        "\n",
        "\n",
        "ans = generate_combinations(list1, list2, n)\n",
        "print(\"All Possible Combinations of List1 and List2 Elements are :-\")\n",
        "print(ans)\n",
        "\n",
        "\n",
        "\n",
        "\n",
        "\n",
        ""
      ],
      "metadata": {
        "colab": {
          "base_uri": "https://localhost:8080/"
        },
        "id": "eY_wztu3KEWN",
        "outputId": "516a3086-07f2-499c-b14b-b86d9297459b"
      },
      "execution_count": 40,
      "outputs": [
        {
          "output_type": "stream",
          "name": "stdout",
          "text": [
            "Enter Number of elements for lists : 3\n",
            "Enter Elements for list1:- \n",
            "Enter Element:a\n",
            "Enter Element:v\n",
            "Enter Element:c\n",
            "Enter Elements for list2: \n",
            "Enter Element:d\n",
            "Enter Element:c\n",
            "Enter Element:b\n",
            "All Possible Combinations of List1 and List2 Elements are :-\n",
            "['ad', 'ac', 'ab', 'vd', 'vc', 'vb', 'cd', 'cc', 'cb']\n"
          ]
        }
      ]
    },
    {
      "cell_type": "code",
      "source": [
        "#using inbuilt function for cartesian producdt\n",
        "from itertools import product\n",
        "\n",
        "num_elements = int(input(\"Enter no. of Elements: \"))\n",
        "\n",
        "list1 = []\n",
        "list2 = []\n",
        "\n",
        "\n",
        "print(\"List 1:\")\n",
        "for i in range(num_elements):\n",
        "    ele = input(f\"Enter element {i+1} for list 1: \")\n",
        "    list1.append(ele)\n",
        "\n",
        "print(\"List 2:\")\n",
        "for i in range(num_elements):\n",
        "    ele = input(f\"Enter element {i+1} for list 2: \")\n",
        "    list2.append(ele)\n",
        "\n",
        "\n",
        "new_list =  [ ''.join(comb)  for  comb in product(list1, list2)]\n",
        "\n",
        "print(new_list)\n"
      ],
      "metadata": {
        "colab": {
          "base_uri": "https://localhost:8080/"
        },
        "id": "U0uib64Bezzg",
        "outputId": "3171a4a6-5ebf-4f9d-ad86-c39fe9bc64e7"
      },
      "execution_count": 43,
      "outputs": [
        {
          "output_type": "stream",
          "name": "stdout",
          "text": [
            "Enter no. of Elements: 2\n",
            "List 1:\n",
            "Enter element 1 for list 1: a\n",
            "Enter element 2 for list 1: b\n",
            "List 2:\n",
            "Enter element 1 for list 2: c\n",
            "Enter element 2 for list 2: d\n",
            "['ac', 'ad', 'bc', 'bd']\n"
          ]
        }
      ]
    },
    {
      "cell_type": "code",
      "source": [],
      "metadata": {
        "id": "erjj8jUZjF_J"
      },
      "execution_count": null,
      "outputs": []
    },
    {
      "cell_type": "markdown",
      "source": [
        "\n",
        "3.Write a Python program to create a Caesar encryption. Your program will first ask for the input of a secret message, then ask how many places you wish to shift each letter in the alphabet. In the end, your program will produce the shifted secret message as a string. Your program should be able to handle all upper and lower cases, and check if the user inputs are valid. Note: In cryptography, a Caesar cipher, also known as Caesar's cipher, the shift cipher, Caesar's code or Caesar shift, is one of the simplest and most widely known encryption techniques. It is a type of substitution cipher in which each letter in the plaintext is replaced by a letter some fixed number of positions down the alphabet. For example, with a shift of 3, A would be replaced by D, B would become E, and so on. The method is named after Julius Caesar, who used it in his private correspondence. Example: Secret message = \"This is a secret message\" Shift = 5 Each letter is shifted 5 places down in alphabetical order. Secret output: \"ymnx nx f xjhwjy rjxxflj\" Hint: 1, the 26 letters in the alphabet are not indexed, put them into a list and index them first. 2, Think about what to do when the shifted letter goes beyond 26. e.g. letter z shifted by 5?"
      ],
      "metadata": {
        "id": "8n_lfWESl_fu"
      }
    },
    {
      "cell_type": "code",
      "source": [
        "print(\"Implementing Caesar Cipher\")\n",
        "\n",
        "text  = input(\"Enter String :- \")\n",
        "\n",
        "shift = int(input((\"Enter value, how many places to move character\")))\n",
        "cipher_text = ''\n",
        "\n",
        "for item in text:\n",
        "    if item.isalpha():\n",
        "        if item.isupper():\n",
        "           item  = chr((ord(item)-ord('A') + shift  )%  26  + ord('A'))\n",
        "        else :\n",
        "           item  = chr((ord(item)-ord('a') + shift  )%  26  + ord('a'))\n",
        "\n",
        "    cipher_text += item\n",
        "\n",
        "\n",
        "\n",
        "\n",
        "\n",
        "\n",
        "\n",
        "print(cipher_text)\n"
      ],
      "metadata": {
        "colab": {
          "base_uri": "https://localhost:8080/"
        },
        "id": "bi_oBxTlmA0j",
        "outputId": "3532b017-8d6e-4ece-8c7b-0007c63f51f0"
      },
      "execution_count": 50,
      "outputs": [
        {
          "output_type": "stream",
          "name": "stdout",
          "text": [
            "Implementing Caesar Cipher\n",
            "Enter String :- Varundeep @ Singh\n",
            "Enter value, how many places to move character6\n",
            "Bgxatjkkv @ Yotmn\n"
          ]
        }
      ]
    },
    {
      "cell_type": "code",
      "source": [],
      "metadata": {
        "id": "a23z_vuDm3Sk"
      },
      "execution_count": null,
      "outputs": []
    }
  ]
}