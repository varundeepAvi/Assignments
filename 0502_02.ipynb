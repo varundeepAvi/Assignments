{
  "nbformat": 4,
  "nbformat_minor": 0,
  "metadata": {
    "colab": {
      "provenance": []
    },
    "kernelspec": {
      "name": "python3",
      "display_name": "Python 3"
    },
    "language_info": {
      "name": "python"
    }
  },
  "cells": [
    {
      "cell_type": "code",
      "execution_count": 6,
      "metadata": {
        "colab": {
          "base_uri": "https://localhost:8080/"
        },
        "id": "JhBKNOJ57-vL",
        "outputId": "2b6a3b9c-dd2d-456a-b0c8-2c70b15edef8"
      },
      "outputs": [
        {
          "output_type": "stream",
          "name": "stdout",
          "text": [
            "Mounted at /content/drive\n"
          ]
        }
      ],
      "source": [
        "from google.colab import drive\n",
        "drive.mount('/content/drive')\n",
        "\n"
      ]
    },
    {
      "cell_type": "code",
      "source": [
        "from google.colab  import drive\n",
        "drive.mount('/content/drive')"
      ],
      "metadata": {
        "id": "QnsPwrAf8Hai"
      },
      "execution_count": null,
      "outputs": []
    },
    {
      "cell_type": "code",
      "source": [],
      "metadata": {
        "id": "D5lRZk-R-FhA"
      },
      "execution_count": null,
      "outputs": []
    },
    {
      "cell_type": "markdown",
      "source": [
        "3.print the min, max and avg score of given score.csv file\n"
      ],
      "metadata": {
        "id": "HxxcAnpM_0Z_"
      }
    },
    {
      "cell_type": "code",
      "source": [
        "import csv\n",
        "\n",
        "def calculate_min_max_avg(file_path):\n",
        "  try:\n",
        "     with open(file_path, 'r' ,newline = '') as csv_file:\n",
        "\n",
        "       csv_reader = csv.reader(csv_file)\n",
        "\n",
        "       next(csv_reader)\n",
        "\n",
        "       scores = [ float(row[1]) for row in csv_reader]\n",
        "\n",
        "       min_score = min(scores)\n",
        "\n",
        "       max_score = max(scores)\n",
        "\n",
        "       avg_score = sum(scores) / len(scores)\n",
        "\n",
        "\n",
        "       #printing the result\n",
        "\n",
        "       print(f'Minimum Score :{min_score}')\n",
        "\n",
        "       print(f'Maximum Score :{max_score}')\n",
        "\n",
        "       print(f\"Average Score: {avg_score}\")\n",
        "\n",
        "\n",
        "  except FileNotFoundError:\n",
        "     print(f\" file {file_path} not found .\")\n",
        "\n",
        "  except Exception as e:\n",
        "    print(f\"An ExceptionOccured\")\n",
        "\n",
        "file_path = '/content/drive/MyDrive/Colab Notebooks/scores.csv'\n",
        "\n",
        "calculate_min_max_avg(file_path)\n",
        "\n",
        "\n",
        "\n"
      ],
      "metadata": {
        "colab": {
          "base_uri": "https://localhost:8080/"
        },
        "id": "BMfZA7De_3Pc",
        "outputId": "5a589dd1-460c-44ea-bd13-6982b4cb508b"
      },
      "execution_count": null,
      "outputs": [
        {
          "output_type": "stream",
          "name": "stdout",
          "text": [
            "Minimum Score :5.0\n",
            "Maximum Score :140.0\n",
            "Average Score: 84.3076923076923\n"
          ]
        }
      ]
    },
    {
      "cell_type": "code",
      "source": [],
      "metadata": {
        "id": "MhtnTRV4DhfS"
      },
      "execution_count": null,
      "outputs": []
    },
    {
      "cell_type": "markdown",
      "source": [
        "4.Appending To a File in Python\n",
        "i- Append-adds at last\n",
        "ii-Write-Overwrites"
      ],
      "metadata": {
        "id": "D9Re-s7eDh5y"
      }
    },
    {
      "cell_type": "code",
      "source": [
        "try:\n",
        "   with open('example1.txt','a') as file:\n",
        "    file.write('This is new content added to the file')\n",
        "\n",
        "   with open('example1.txt', 'w') as file:\n",
        "    file.write(\"This will overwrite  existing  content or  create a new file\")\n",
        "\n",
        "except FileNotFoundError:\n",
        "   print(f\" file {file_path} not found .\")\n",
        "\n",
        "except Exception as e:\n",
        "   print(f\"An ExceptionOccured\")\n",
        "\n",
        "\n"
      ],
      "metadata": {
        "id": "k4ZfiKW9DkFs"
      },
      "execution_count": null,
      "outputs": []
    },
    {
      "cell_type": "code",
      "source": [],
      "metadata": {
        "id": "tTBBE6ckBnCr"
      },
      "execution_count": null,
      "outputs": []
    },
    {
      "cell_type": "markdown",
      "source": [
        "5.Reading Data From an XML File\n",
        "i-Finding Tags\n",
        "ii-Extracting from tags\n",
        "\n",
        "\n",
        "\n",
        "<root>\n",
        "    <person>\n",
        "        <name>John Doe</name>\n",
        "        <age>30</age>\n",
        "    </person>\n",
        "    <person>\n",
        "        <name>Jane Smith</name>\n",
        "        <age>25</age>\n",
        "    </person>\n",
        "    <address>\n",
        "        <city>New York</city>\n",
        "        <zipcode>10001</zipcode>\n",
        "    </address>\n",
        "</root>\n"
      ],
      "metadata": {
        "id": "95Y4AVXD2X9H"
      }
    },
    {
      "cell_type": "code",
      "source": [
        "import xml.etree.ElementTree as ET\n",
        "\n",
        "\n",
        "tree  = ET.parse('example.xml')\n",
        "root= tree.getroot( )\n",
        "\n",
        "\n",
        "\n",
        "#1 Finding Tags:\n",
        "for element in root.iter():\n",
        "    print(\"Tag\",element.tag)\n",
        "\n",
        "#2 Extracting from tags\n",
        "\n",
        "for person  in root.findall('.//person'):\n",
        "  name = person.find('name').text\n",
        "  age = person.find('age').text\n",
        "  print(\"Name \", name, \"Age:\", age)\n",
        "\n"
      ],
      "metadata": {
        "colab": {
          "base_uri": "https://localhost:8080/",
          "height": 390
        },
        "id": "MOUq7bey2aEr",
        "outputId": "7c50b6c7-b07b-40b5-fbb1-18bbd2b17326"
      },
      "execution_count": 1,
      "outputs": [
        {
          "output_type": "error",
          "ename": "FileNotFoundError",
          "evalue": "[Errno 2] No such file or directory: 'example.xml'",
          "traceback": [
            "\u001b[0;31m---------------------------------------------------------------------------\u001b[0m",
            "\u001b[0;31mFileNotFoundError\u001b[0m                         Traceback (most recent call last)",
            "\u001b[0;32m<ipython-input-1-541d5950b679>\u001b[0m in \u001b[0;36m<cell line: 4>\u001b[0;34m()\u001b[0m\n\u001b[1;32m      2\u001b[0m \u001b[0;34m\u001b[0m\u001b[0m\n\u001b[1;32m      3\u001b[0m \u001b[0;34m\u001b[0m\u001b[0m\n\u001b[0;32m----> 4\u001b[0;31m \u001b[0mtree\u001b[0m  \u001b[0;34m=\u001b[0m \u001b[0mET\u001b[0m\u001b[0;34m.\u001b[0m\u001b[0mparse\u001b[0m\u001b[0;34m(\u001b[0m\u001b[0;34m'example.xml'\u001b[0m\u001b[0;34m)\u001b[0m\u001b[0;34m\u001b[0m\u001b[0;34m\u001b[0m\u001b[0m\n\u001b[0m\u001b[1;32m      5\u001b[0m \u001b[0mroot\u001b[0m\u001b[0;34m=\u001b[0m \u001b[0mtree\u001b[0m\u001b[0;34m.\u001b[0m\u001b[0mgetroot\u001b[0m\u001b[0;34m(\u001b[0m \u001b[0;34m)\u001b[0m\u001b[0;34m\u001b[0m\u001b[0;34m\u001b[0m\u001b[0m\n\u001b[1;32m      6\u001b[0m \u001b[0;34m\u001b[0m\u001b[0m\n",
            "\u001b[0;32m/usr/lib/python3.10/xml/etree/ElementTree.py\u001b[0m in \u001b[0;36mparse\u001b[0;34m(source, parser)\u001b[0m\n\u001b[1;32m   1220\u001b[0m     \"\"\"\n\u001b[1;32m   1221\u001b[0m     \u001b[0mtree\u001b[0m \u001b[0;34m=\u001b[0m \u001b[0mElementTree\u001b[0m\u001b[0;34m(\u001b[0m\u001b[0;34m)\u001b[0m\u001b[0;34m\u001b[0m\u001b[0;34m\u001b[0m\u001b[0m\n\u001b[0;32m-> 1222\u001b[0;31m     \u001b[0mtree\u001b[0m\u001b[0;34m.\u001b[0m\u001b[0mparse\u001b[0m\u001b[0;34m(\u001b[0m\u001b[0msource\u001b[0m\u001b[0;34m,\u001b[0m \u001b[0mparser\u001b[0m\u001b[0;34m)\u001b[0m\u001b[0;34m\u001b[0m\u001b[0;34m\u001b[0m\u001b[0m\n\u001b[0m\u001b[1;32m   1223\u001b[0m     \u001b[0;32mreturn\u001b[0m \u001b[0mtree\u001b[0m\u001b[0;34m\u001b[0m\u001b[0;34m\u001b[0m\u001b[0m\n\u001b[1;32m   1224\u001b[0m \u001b[0;34m\u001b[0m\u001b[0m\n",
            "\u001b[0;32m/usr/lib/python3.10/xml/etree/ElementTree.py\u001b[0m in \u001b[0;36mparse\u001b[0;34m(self, source, parser)\u001b[0m\n\u001b[1;32m    567\u001b[0m         \u001b[0mclose_source\u001b[0m \u001b[0;34m=\u001b[0m \u001b[0;32mFalse\u001b[0m\u001b[0;34m\u001b[0m\u001b[0;34m\u001b[0m\u001b[0m\n\u001b[1;32m    568\u001b[0m         \u001b[0;32mif\u001b[0m \u001b[0;32mnot\u001b[0m \u001b[0mhasattr\u001b[0m\u001b[0;34m(\u001b[0m\u001b[0msource\u001b[0m\u001b[0;34m,\u001b[0m \u001b[0;34m\"read\"\u001b[0m\u001b[0;34m)\u001b[0m\u001b[0;34m:\u001b[0m\u001b[0;34m\u001b[0m\u001b[0;34m\u001b[0m\u001b[0m\n\u001b[0;32m--> 569\u001b[0;31m             \u001b[0msource\u001b[0m \u001b[0;34m=\u001b[0m \u001b[0mopen\u001b[0m\u001b[0;34m(\u001b[0m\u001b[0msource\u001b[0m\u001b[0;34m,\u001b[0m \u001b[0;34m\"rb\"\u001b[0m\u001b[0;34m)\u001b[0m\u001b[0;34m\u001b[0m\u001b[0;34m\u001b[0m\u001b[0m\n\u001b[0m\u001b[1;32m    570\u001b[0m             \u001b[0mclose_source\u001b[0m \u001b[0;34m=\u001b[0m \u001b[0;32mTrue\u001b[0m\u001b[0;34m\u001b[0m\u001b[0;34m\u001b[0m\u001b[0m\n\u001b[1;32m    571\u001b[0m         \u001b[0;32mtry\u001b[0m\u001b[0;34m:\u001b[0m\u001b[0;34m\u001b[0m\u001b[0;34m\u001b[0m\u001b[0m\n",
            "\u001b[0;31mFileNotFoundError\u001b[0m: [Errno 2] No such file or directory: 'example.xml'"
          ]
        }
      ]
    },
    {
      "cell_type": "markdown",
      "source": [
        "6.Reading the data inside the xml file to a variable under the name data\n"
      ],
      "metadata": {
        "id": "B_Zvyoj841rK"
      }
    },
    {
      "cell_type": "code",
      "source": [
        "import xml.etree.ElementTree as ET\n",
        "\n",
        "xml_file_path = 'example.xml'\n",
        "\n",
        "\n",
        "tree = ET.parse(xml_file)\n",
        "root=  tree.getroot()\n",
        "\n",
        "xml_string  =ET.tostring(root, encoding = 'utf-8') .decode(\"utf-8\")\n",
        "\n",
        "data = xml_string\n",
        "\n",
        "print(data)\n"
      ],
      "metadata": {
        "id": "OlT1kpnS252W"
      },
      "execution_count": null,
      "outputs": []
    },
    {
      "cell_type": "markdown",
      "source": [
        "7. Writing xml files"
      ],
      "metadata": {
        "id": "0_EIcdg770sr"
      }
    },
    {
      "cell_type": "code",
      "source": [
        "import xml.etree.ElementTree as ET\n",
        "\n",
        "\n",
        "root = ET.Element(\"bookstore\")\n",
        "\n",
        "\n",
        "book1=  ET.SubElement(root,\"book\")\n",
        "title1=  ET.SubElement(book1,\"title\")\n",
        "\n",
        "title1.text = \"Introduction to Python\"\n",
        "\n",
        "\n",
        "author1 = ET.SubElement(book1, \"author \")\n",
        "author1.text = \"ABC\"\n",
        "\n",
        "price1 = ET.SubElement(book1, \"price\")\n",
        "price1.text = '299'\n",
        "\n",
        "\n",
        "book2 = ET.SubElement(root, \"book\")\n",
        "title2=   ET.SubElelement(book2, 'title')\n",
        "title2.text = \"Automation with Python\"\n",
        "\n",
        "author2= ET.SubElement(book2, \"author\")\n",
        "author2.text =\"DEF\"\n",
        "\n",
        "price2= ET.SubElement(book2, \"price\")\n",
        "price2.text = \"499\"\n",
        "\n",
        "tree = ET.ElementTree(root)\n",
        "\n",
        "xml_file_path = 'output.xml'\n",
        "\n",
        "tree.write(xml_file_path, encoding= \"utf-8\", xml_declaration = True)\n",
        "print(f\"XML written to {xml_file_path}\")\n",
        "\n",
        "\n",
        "\n",
        "\n",
        "\n"
      ],
      "metadata": {
        "colab": {
          "base_uri": "https://localhost:8080/",
          "height": 245
        },
        "id": "xM43SGiQ8qwG",
        "outputId": "2a2a2f35-875c-4fb5-81c0-929f11897495"
      },
      "execution_count": 3,
      "outputs": [
        {
          "output_type": "error",
          "ename": "NameError",
          "evalue": "name 'price' is not defined",
          "traceback": [
            "\u001b[0;31m---------------------------------------------------------------------------\u001b[0m",
            "\u001b[0;31mNameError\u001b[0m                                 Traceback (most recent call last)",
            "\u001b[0;32m<ipython-input-3-1948c1c993c5>\u001b[0m in \u001b[0;36m<cell line: 17>\u001b[0;34m()\u001b[0m\n\u001b[1;32m     15\u001b[0m \u001b[0;34m\u001b[0m\u001b[0m\n\u001b[1;32m     16\u001b[0m \u001b[0mprice1\u001b[0m \u001b[0;34m=\u001b[0m \u001b[0mET\u001b[0m\u001b[0;34m.\u001b[0m\u001b[0mSubElement\u001b[0m\u001b[0;34m(\u001b[0m\u001b[0mbook1\u001b[0m\u001b[0;34m,\u001b[0m \u001b[0;34m\"price\"\u001b[0m\u001b[0;34m)\u001b[0m\u001b[0;34m\u001b[0m\u001b[0;34m\u001b[0m\u001b[0m\n\u001b[0;32m---> 17\u001b[0;31m \u001b[0mprice\u001b[0m\u001b[0;34m.\u001b[0m\u001b[0mtext\u001b[0m \u001b[0;34m=\u001b[0m \u001b[0;34m'299'\u001b[0m\u001b[0;34m\u001b[0m\u001b[0;34m\u001b[0m\u001b[0m\n\u001b[0m\u001b[1;32m     18\u001b[0m \u001b[0;34m\u001b[0m\u001b[0m\n\u001b[1;32m     19\u001b[0m \u001b[0;34m\u001b[0m\u001b[0m\n",
            "\u001b[0;31mNameError\u001b[0m: name 'price' is not defined"
          ]
        }
      ]
    },
    {
      "cell_type": "code",
      "source": [],
      "metadata": {
        "id": "2T7fklaY_zXm"
      },
      "execution_count": null,
      "outputs": []
    },
    {
      "cell_type": "markdown",
      "source": [
        "Writing List to Files in Python\n",
        "Using write()\n",
        "Using writelines()\n",
        "Using String Join Along with “with open” syntax"
      ],
      "metadata": {
        "id": "C3ikAmrVAsJ4"
      }
    },
    {
      "cell_type": "code",
      "source": [
        "my_list =  [\"apple\", \"banana\",\"orange\"]\n",
        "\n",
        "with open(\"outputt.txt\",\"w\") as file\n",
        "   for item in my_list\n",
        "     file.write(item+ '\\n')\n",
        "\n",
        "\n",
        "with open(\"output1.txt\",'w')as file\n",
        "   file.writelines([ item + '\\n' for item in my_list])\n",
        "\n",
        "\n",
        "with open(\"output2.txt\",'w') as file:\n",
        "  file.write('\\n'.join(my_list))"
      ],
      "metadata": {
        "id": "e2a56pEiAvu-"
      },
      "execution_count": null,
      "outputs": []
    },
    {
      "cell_type": "markdown",
      "source": [
        "9.[poem.txt]contains famous poem \"Road not taken\" by poet Robert Frost. You have to read this file in your python program and find out words with maximum occurance.\n",
        "\n"
      ],
      "metadata": {
        "id": "t3airhWGBsvK"
      }
    },
    {
      "cell_type": "code",
      "source": [
        "from collections import Counter\n",
        "import re\n",
        "\n",
        "# Read the contents of the file\n",
        "file_path = \"/content/drive/MyDrive/Colab Notebooks/poem.txt\"\n",
        "with open(file_path, \"r\") as file:\n",
        "    poem_text = file.read()\n",
        "\n",
        "# Tokenize the text into words\n",
        "words = re.findall(r'\\b\\w+\\b', poem_text.lower())  # Using regular expression to extract words\n",
        "\n",
        "# Count the occurrences of each word\n",
        "word_counts = Counter(words)\n",
        "\n",
        "# Find the word(s) with the maximum occurrence\n",
        "max_occurrence = max(word_counts.values())\n",
        "most_common_words = [word for word, count in word_counts.items() if count == max_occurrence]\n",
        "\n",
        "# Print the results\n",
        "print(f\"Words with maximum occurrence ({max_occurrence} times): {most_common_words}\")\n"
      ],
      "metadata": {
        "colab": {
          "base_uri": "https://localhost:8080/",
          "height": 245
        },
        "id": "jprm1SNhB9A0",
        "outputId": "1f4ebfba-0889-41da-e5c5-647c8cd028dd"
      },
      "execution_count": 5,
      "outputs": [
        {
          "output_type": "error",
          "ename": "FileNotFoundError",
          "evalue": "[Errno 2] No such file or directory: '/content/drive/MyDrive/Colab Notebooks/poem.txt'",
          "traceback": [
            "\u001b[0;31m---------------------------------------------------------------------------\u001b[0m",
            "\u001b[0;31mFileNotFoundError\u001b[0m                         Traceback (most recent call last)",
            "\u001b[0;32m<ipython-input-5-9952db919303>\u001b[0m in \u001b[0;36m<cell line: 6>\u001b[0;34m()\u001b[0m\n\u001b[1;32m      4\u001b[0m \u001b[0;31m# Read the contents of the file\u001b[0m\u001b[0;34m\u001b[0m\u001b[0;34m\u001b[0m\u001b[0m\n\u001b[1;32m      5\u001b[0m \u001b[0mfile_path\u001b[0m \u001b[0;34m=\u001b[0m \u001b[0;34m\"/content/drive/MyDrive/Colab Notebooks/poem.txt\"\u001b[0m\u001b[0;34m\u001b[0m\u001b[0;34m\u001b[0m\u001b[0m\n\u001b[0;32m----> 6\u001b[0;31m \u001b[0;32mwith\u001b[0m \u001b[0mopen\u001b[0m\u001b[0;34m(\u001b[0m\u001b[0mfile_path\u001b[0m\u001b[0;34m,\u001b[0m \u001b[0;34m\"r\"\u001b[0m\u001b[0;34m)\u001b[0m \u001b[0;32mas\u001b[0m \u001b[0mfile\u001b[0m\u001b[0;34m:\u001b[0m\u001b[0;34m\u001b[0m\u001b[0;34m\u001b[0m\u001b[0m\n\u001b[0m\u001b[1;32m      7\u001b[0m     \u001b[0mpoem_text\u001b[0m \u001b[0;34m=\u001b[0m \u001b[0mfile\u001b[0m\u001b[0;34m.\u001b[0m\u001b[0mread\u001b[0m\u001b[0;34m(\u001b[0m\u001b[0;34m)\u001b[0m\u001b[0;34m\u001b[0m\u001b[0;34m\u001b[0m\u001b[0m\n\u001b[1;32m      8\u001b[0m \u001b[0;34m\u001b[0m\u001b[0m\n",
            "\u001b[0;31mFileNotFoundError\u001b[0m: [Errno 2] No such file or directory: '/content/drive/MyDrive/Colab Notebooks/poem.txt'"
          ]
        }
      ]
    },
    {
      "cell_type": "code",
      "source": [],
      "metadata": {
        "id": "vMchSccMB-kM"
      },
      "execution_count": null,
      "outputs": []
    },
    {
      "cell_type": "code",
      "source": [],
      "metadata": {
        "id": "rFIRGZSRB9y5"
      },
      "execution_count": null,
      "outputs": []
    },
    {
      "cell_type": "code",
      "source": [],
      "metadata": {
        "id": "9Rcuw8ivB9dJ"
      },
      "execution_count": null,
      "outputs": []
    },
    {
      "cell_type": "markdown",
      "source": [],
      "metadata": {
        "id": "kPIjHx2XC3rk"
      }
    },
    {
      "cell_type": "code",
      "source": [
        "import csv\n",
        "\n",
        "def calculate_ratios(price, earnings_per_share, book_value):\n",
        "    pe_ratio = price / earnings_per_share\n",
        "    pb_ratio = price / book_value\n",
        "    return pe_ratio, pb_ratio\n",
        "\n",
        "# Read the CSV file\n",
        "input_file_path = \"/content/drive/MyDrive/Colab Notebooks/stocks.csv\"\n",
        "output_file_path = \"/content/drive/MyDrive/Colab Notebooks/output.csv\"\n",
        "\n",
        "with open(input_file_path, \"r\", newline='') as infile, open(output_file_path, \"w\", newline='') as outfile:\n",
        "    reader = csv.DictReader(infile)\n",
        "    fieldnames = ['Company Name', 'PE Ratio', 'PB Ratio']\n",
        "    writer = csv.DictWriter(outfile, fieldnames=fieldnames)\n",
        "\n",
        "    # Write the header to the output file\n",
        "    writer.writeheader()\n",
        "\n",
        "    for row in reader:\n",
        "        # Extract values from the row\n",
        "        company_name = row['Company Name']\n",
        "        price = float(row['Price'])\n",
        "        earnings_per_share = float(row['Earnings Per Share'])\n",
        "        book_value = float(row['Book Value'])\n",
        "\n",
        "        # Calculate ratios\n",
        "        pe_ratio, pb_ratio = calculate_ratios(price, earnings_per_share, book_value)\n",
        "\n",
        "        # Write the results to the output file\n",
        "        writer.writerow({'Company Name': company_name, 'PE Ratio': pe_ratio, 'PB Ratio': pb_ratio})\n",
        "\n",
        "# Display the result\n",
        "with open(output_file_path, \"r\", newline='') as result_file:\n",
        "    print(result_file.read())\n"
      ],
      "metadata": {
        "id": "qf4zIx99C4Sb"
      },
      "execution_count": null,
      "outputs": []
    },
    {
      "cell_type": "markdown",
      "source": [
        "1. Reading from CSV file\n"
      ],
      "metadata": {
        "id": "GuPWGpe9DJMz"
      }
    },
    {
      "cell_type": "code",
      "source": [
        "import csv\n",
        "\n",
        "# Read from CSV file\n",
        "input_file_path = \"input.csv\"\n",
        "\n",
        "with open(input_file_path, \"r\", newline='') as infile:\n",
        "    reader = csv.reader(infile)\n",
        "\n",
        "    # Iterate through rows\n",
        "    for row in reader:\n",
        "        print(row)\n"
      ],
      "metadata": {
        "id": "BjUbW-7fDLfl"
      },
      "execution_count": null,
      "outputs": []
    },
    {
      "cell_type": "markdown",
      "source": [
        "2.Writing to CSV file\n",
        "writerow()\n",
        "writerows"
      ],
      "metadata": {
        "id": "_rlH5181DRL3"
      }
    },
    {
      "cell_type": "code",
      "source": [
        "import csv\n",
        "\n",
        "# Write to CSV file with writerow()\n",
        "output_file_path = \"output_writerow.csv\"\n",
        "\n",
        "with open(output_file_path, \"w\", newline='') as outfile:\n",
        "    writer = csv.writer(outfile)\n",
        "\n",
        "    # Write a single row\n",
        "    writer.writerow(['Name', 'Age', 'City'])\n",
        "    writer.writerow(['John', 25, 'New York'])\n",
        "    writer.writerow(['Alice', 30, 'London'])\n"
      ],
      "metadata": {
        "id": "lZoBjbrNDS0j"
      },
      "execution_count": null,
      "outputs": []
    },
    {
      "cell_type": "code",
      "source": [
        "import csv\n",
        "\n",
        "# Write to CSV file with writerows()\n",
        "output_file_path = \"output_writerows.csv\"\n",
        "\n",
        "data_to_write = [\n",
        "    ['Name', 'Age', 'City'],\n",
        "    ['John', 25, 'New York'],\n",
        "    ['Alice', 30, 'London']\n",
        "]\n",
        "\n",
        "with open(output_file_path, \"w\", newline='') as outfile:\n",
        "    writer = csv.writer(outfile)\n",
        "\n",
        "    # Write multiple rows\n",
        "    writer.writerows(data_to_write)\n",
        "\n",
        "\n"
      ],
      "metadata": {
        "id": "upjPOOjvDZ9u"
      },
      "execution_count": null,
      "outputs": []
    }
  ]
}