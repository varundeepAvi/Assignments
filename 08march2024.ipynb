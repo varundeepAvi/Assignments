{
  "nbformat": 4,
  "nbformat_minor": 0,
  "metadata": {
    "colab": {
      "provenance": []
    },
    "kernelspec": {
      "name": "python3",
      "display_name": "Python 3"
    },
    "language_info": {
      "name": "python"
    }
  },
  "cells": [
    {
      "cell_type": "code",
      "execution_count": 3,
      "metadata": {
        "colab": {
          "base_uri": "https://localhost:8080/"
        },
        "id": "eEzWRpLTGgv2",
        "outputId": "e21101f9-988e-47ed-b849-0bdc5cfc6ef0"
      },
      "outputs": [
        {
          "output_type": "stream",
          "name": "stdout",
          "text": [
            "Mounted at /content/drive/\n"
          ]
        }
      ],
      "source": [
        "from google.colab import drive\n",
        "drive.mount('/content/drive/')\n"
      ]
    },
    {
      "cell_type": "markdown",
      "source": [
        "Spark Walmart Data Analysis Project\n",
        "\n",
        "Let's get some quick practice with your new Spark DataFrame skills, you will be asked some basic questions about some stock market data, in this case Walmart Stock from the years 2012-2017. This exercise will just ask a bunch of questions, unlike the machine learning exercises, which will be a little looser and be in the form of \"Consulting Projects\".\n",
        "\n",
        "For now, just answer the questions and complete the tasks below.\n",
        "\n",
        "Use the walmart_stock.csv file to Answer and complete the tasks below!\n",
        "\n",
        "1.Load the Walmart Stock CSV File, have Spark infer the data types."
      ],
      "metadata": {
        "id": "vDWAnxwbGjWi"
      }
    },
    {
      "cell_type": "code",
      "source": [
        "\n",
        "import pandas as pd\n",
        "stock=pd.read_csv('/content/drive/MyDrive/Colab Notebooks/walmart_stock.csv')\n",
        "print(stock.head(5))\n",
        "print(stock.dtypes)\n",
        "\n"
      ],
      "metadata": {
        "colab": {
          "base_uri": "https://localhost:8080/"
        },
        "id": "UywBIMZ-GkSH",
        "outputId": "2e307a72-1bc0-453d-db84-57cea4c2cad7"
      },
      "execution_count": 4,
      "outputs": [
        {
          "output_type": "stream",
          "name": "stdout",
          "text": [
            "         Date       Open       High        Low      Close    Volume  Adj Close\n",
            "0  2012-01-03  59.970001  61.060001  59.869999  60.330002  12668800  52.619235\n",
            "1  2012-01-04  60.209999  60.349998  59.470001  59.709999   9593300  52.078475\n",
            "2  2012-01-05  59.349998  59.619999  58.369999  59.419998  12768200  51.825539\n",
            "3  2012-01-06  59.419998  59.450001  58.869999  59.000000   8069400  51.459220\n",
            "4  2012-01-09  59.029999  59.549999  58.919998  59.180000   6679300  51.616215\n",
            "Date          object\n",
            "Open         float64\n",
            "High         float64\n",
            "Low          float64\n",
            "Close        float64\n",
            "Volume         int64\n",
            "Adj Close    float64\n",
            "dtype: object\n"
          ]
        }
      ]
    },
    {
      "cell_type": "markdown",
      "source": [
        "2.What are the column names?"
      ],
      "metadata": {
        "id": "wgwAlO6uIt0g"
      }
    },
    {
      "cell_type": "code",
      "source": [
        "\n",
        "print(stock.columns)\n",
        "\n",
        "\n",
        "\n"
      ],
      "metadata": {
        "colab": {
          "base_uri": "https://localhost:8080/"
        },
        "id": "H7t-kbbxGqE1",
        "outputId": "20f43d84-e237-4b8f-8038-c79e39ef0df2"
      },
      "execution_count": 7,
      "outputs": [
        {
          "output_type": "stream",
          "name": "stdout",
          "text": [
            "Index(['Date', 'Open', 'High', 'Low', 'Close', 'Volume', 'Adj Close'], dtype='object')\n"
          ]
        }
      ]
    },
    {
      "cell_type": "code",
      "source": [],
      "metadata": {
        "id": "yBDiejMFISXf"
      },
      "execution_count": null,
      "outputs": []
    },
    {
      "cell_type": "markdown",
      "source": [
        "3.What does the Schema look like? A.root |-- Date: timestamp (nullable = true) |-- Open: double (nullable = true) |-- High: double (nullable = true) |-- Low: double (nullable = true) |-- Close: double (nullable = true) |-- Volume: integer (nullable = true) |-- Adj Close: double (nullable = true)"
      ],
      "metadata": {
        "id": "H2039TXmI6UB"
      }
    },
    {
      "cell_type": "code",
      "source": [
        "print(stock.info())\n"
      ],
      "metadata": {
        "colab": {
          "base_uri": "https://localhost:8080/"
        },
        "id": "khz0JejqI64m",
        "outputId": "93039337-664a-4245-97ba-97093ec54e36"
      },
      "execution_count": 8,
      "outputs": [
        {
          "output_type": "stream",
          "name": "stdout",
          "text": [
            "<class 'pandas.core.frame.DataFrame'>\n",
            "RangeIndex: 1258 entries, 0 to 1257\n",
            "Data columns (total 7 columns):\n",
            " #   Column     Non-Null Count  Dtype  \n",
            "---  ------     --------------  -----  \n",
            " 0   Date       1258 non-null   object \n",
            " 1   Open       1258 non-null   float64\n",
            " 2   High       1258 non-null   float64\n",
            " 3   Low        1258 non-null   float64\n",
            " 4   Close      1258 non-null   float64\n",
            " 5   Volume     1258 non-null   int64  \n",
            " 6   Adj Close  1258 non-null   float64\n",
            "dtypes: float64(5), int64(1), object(1)\n",
            "memory usage: 68.9+ KB\n",
            "None\n"
          ]
        }
      ]
    },
    {
      "cell_type": "code",
      "source": [],
      "metadata": {
        "id": "c5yKxwyxI99D"
      },
      "execution_count": null,
      "outputs": []
    },
    {
      "cell_type": "markdown",
      "source": [
        "4.Print out the first 5 columns.\n",
        "\n",
        "\n"
      ],
      "metadata": {
        "id": "YlYl50q7JBwF"
      }
    },
    {
      "cell_type": "code",
      "source": [
        "print(stock.iloc[:, :5].head())\n"
      ],
      "metadata": {
        "colab": {
          "base_uri": "https://localhost:8080/"
        },
        "id": "klkPuoqGJDbU",
        "outputId": "9a085e40-bfca-4d65-bbf1-8bb40d1f4dd7"
      },
      "execution_count": 9,
      "outputs": [
        {
          "output_type": "stream",
          "name": "stdout",
          "text": [
            "         Date       Open       High        Low      Close\n",
            "0  2012-01-03  59.970001  61.060001  59.869999  60.330002\n",
            "1  2012-01-04  60.209999  60.349998  59.470001  59.709999\n",
            "2  2012-01-05  59.349998  59.619999  58.369999  59.419998\n",
            "3  2012-01-06  59.419998  59.450001  58.869999  59.000000\n",
            "4  2012-01-09  59.029999  59.549999  58.919998  59.180000\n"
          ]
        }
      ]
    },
    {
      "cell_type": "code",
      "source": [],
      "metadata": {
        "id": "OmkrTvDOJFf5"
      },
      "execution_count": null,
      "outputs": []
    },
    {
      "cell_type": "markdown",
      "source": [
        "5.Use describe() to learn about the DataFrame. A.+-------+------------------+-----------------+-----------------+-----------------+-----------------+-----------------+ |summary| Open| High| Low| Close| Volume| Adj Close| +-------+------------------+-----------------+-----------------+-----------------+-----------------+-----------------+ | count| 1258| 1258| 1258| 1258| 1258| 1258| | mean| 72.35785375357709|72.83938807631165| 71.9186009594594|72.38844998012726|8222093.481717011|67.23883848728146| | stddev| 6.76809024470826|6.768186808159218|6.744075756255496|6.756859163732991| 4519780.8431556|6.722609449996857| | min|56.389998999999996| 57.060001| 56.299999| 56.419998| 2094900| 50.363689| | max| 90.800003| 90.970001| 89.25| 90.470001| 80898100|84.91421600000001| +-------+------------------+-----------------+-----------------+-----------------+-----------------+-----------------+"
      ],
      "metadata": {
        "id": "uuF-acznJLCO"
      }
    },
    {
      "cell_type": "code",
      "source": [
        "print(stock.describe())"
      ],
      "metadata": {
        "colab": {
          "base_uri": "https://localhost:8080/"
        },
        "id": "O3nkkKrJJLrT",
        "outputId": "05c4d1b1-ec79-4561-a8e2-9f6b4aeceae7"
      },
      "execution_count": 10,
      "outputs": [
        {
          "output_type": "stream",
          "name": "stdout",
          "text": [
            "              Open         High          Low        Close        Volume  \\\n",
            "count  1258.000000  1258.000000  1258.000000  1258.000000  1.258000e+03   \n",
            "mean     72.357854    72.839388    71.918601    72.388450  8.222093e+06   \n",
            "std       6.768090     6.768187     6.744076     6.756859  4.519781e+06   \n",
            "min      56.389999    57.060001    56.299999    56.419998  2.094900e+06   \n",
            "25%      68.627503    69.059998    68.162503    68.632497  5.791100e+06   \n",
            "50%      73.235000    73.725002    72.839996    73.265000  7.093500e+06   \n",
            "75%      76.629997    77.094999    76.250000    76.709999  9.394675e+06   \n",
            "max      90.800003    90.970001    89.250000    90.470001  8.089810e+07   \n",
            "\n",
            "         Adj Close  \n",
            "count  1258.000000  \n",
            "mean     67.238838  \n",
            "std       6.722609  \n",
            "min      50.363689  \n",
            "25%      63.778335  \n",
            "50%      68.541162  \n",
            "75%      71.105668  \n",
            "max      84.914216  \n"
          ]
        }
      ]
    },
    {
      "cell_type": "code",
      "source": [],
      "metadata": {
        "id": "ex1pzDWzJN8D"
      },
      "execution_count": null,
      "outputs": []
    },
    {
      "cell_type": "markdown",
      "source": [
        "6.There are too many decimal places for mean and stddev in the describe() dataframe. Format the numbers to just show up to two decimal places. Pay careful attention to the datatypes that .describe() returns, we didn't cover how to do this exact formatting, but we covered something very similar.\n",
        "\n",
        "A.+-------+--------+--------+--------+--------+----------+ |summary| Open| High| Low| Close| Volume| +-------+--------+--------+--------+--------+----------+ | count|1,258.00|1,258.00|1,258.00|1,258.00| 1,258| | mean| 72.36| 72.84| 71.92| 72.39| 8,222,093| | stddev| 6.77| 6.77| 6.74| 6.76| 4,519,780| | min| 56.39| 57.06| 56.30| 56.42| 2,094,900| | max| 90.80| 90.97| 89.25| 90.47|80,898,100| +-------+--------+--------+--------+--------+----------+"
      ],
      "metadata": {
        "id": "kssyDRiUJUJR"
      }
    },
    {
      "cell_type": "code",
      "source": [
        "summary_df = stock.describe()\n",
        "# Format the 'Volume' column to include commas as thousands separator\n",
        "summary_df['Volume'] = summary_df['Volume'].apply(lambda x: f'{x:,.0f}')\n",
        "# Define the formatting dictionary\n",
        "format_dict = {'Open': '{:,.2f}','High': '{:,.2f}', 'Low': '{:,.2f}', 'Close': '{:,.2f}'}\n",
        "# Apply formatting to the DataFrame\n",
        "summary_df = summary_df.style.format(format_dict)\n",
        "summary_df\n"
      ],
      "metadata": {
        "colab": {
          "base_uri": "https://localhost:8080/",
          "height": 300
        },
        "id": "eR8B2LOrJWtD",
        "outputId": "a208eee1-800b-4ce2-c8fe-7017eb602033"
      },
      "execution_count": 11,
      "outputs": [
        {
          "output_type": "execute_result",
          "data": {
            "text/plain": [
              "<pandas.io.formats.style.Styler at 0x7ae20c43d780>"
            ],
            "text/html": [
              "<style type=\"text/css\">\n",
              "</style>\n",
              "<table id=\"T_9ee5c\" class=\"dataframe\">\n",
              "  <thead>\n",
              "    <tr>\n",
              "      <th class=\"blank level0\" >&nbsp;</th>\n",
              "      <th id=\"T_9ee5c_level0_col0\" class=\"col_heading level0 col0\" >Open</th>\n",
              "      <th id=\"T_9ee5c_level0_col1\" class=\"col_heading level0 col1\" >High</th>\n",
              "      <th id=\"T_9ee5c_level0_col2\" class=\"col_heading level0 col2\" >Low</th>\n",
              "      <th id=\"T_9ee5c_level0_col3\" class=\"col_heading level0 col3\" >Close</th>\n",
              "      <th id=\"T_9ee5c_level0_col4\" class=\"col_heading level0 col4\" >Volume</th>\n",
              "      <th id=\"T_9ee5c_level0_col5\" class=\"col_heading level0 col5\" >Adj Close</th>\n",
              "    </tr>\n",
              "  </thead>\n",
              "  <tbody>\n",
              "    <tr>\n",
              "      <th id=\"T_9ee5c_level0_row0\" class=\"row_heading level0 row0\" >count</th>\n",
              "      <td id=\"T_9ee5c_row0_col0\" class=\"data row0 col0\" >1,258.00</td>\n",
              "      <td id=\"T_9ee5c_row0_col1\" class=\"data row0 col1\" >1,258.00</td>\n",
              "      <td id=\"T_9ee5c_row0_col2\" class=\"data row0 col2\" >1,258.00</td>\n",
              "      <td id=\"T_9ee5c_row0_col3\" class=\"data row0 col3\" >1,258.00</td>\n",
              "      <td id=\"T_9ee5c_row0_col4\" class=\"data row0 col4\" >1,258</td>\n",
              "      <td id=\"T_9ee5c_row0_col5\" class=\"data row0 col5\" >1258.000000</td>\n",
              "    </tr>\n",
              "    <tr>\n",
              "      <th id=\"T_9ee5c_level0_row1\" class=\"row_heading level0 row1\" >mean</th>\n",
              "      <td id=\"T_9ee5c_row1_col0\" class=\"data row1 col0\" >72.36</td>\n",
              "      <td id=\"T_9ee5c_row1_col1\" class=\"data row1 col1\" >72.84</td>\n",
              "      <td id=\"T_9ee5c_row1_col2\" class=\"data row1 col2\" >71.92</td>\n",
              "      <td id=\"T_9ee5c_row1_col3\" class=\"data row1 col3\" >72.39</td>\n",
              "      <td id=\"T_9ee5c_row1_col4\" class=\"data row1 col4\" >8,222,093</td>\n",
              "      <td id=\"T_9ee5c_row1_col5\" class=\"data row1 col5\" >67.238838</td>\n",
              "    </tr>\n",
              "    <tr>\n",
              "      <th id=\"T_9ee5c_level0_row2\" class=\"row_heading level0 row2\" >std</th>\n",
              "      <td id=\"T_9ee5c_row2_col0\" class=\"data row2 col0\" >6.77</td>\n",
              "      <td id=\"T_9ee5c_row2_col1\" class=\"data row2 col1\" >6.77</td>\n",
              "      <td id=\"T_9ee5c_row2_col2\" class=\"data row2 col2\" >6.74</td>\n",
              "      <td id=\"T_9ee5c_row2_col3\" class=\"data row2 col3\" >6.76</td>\n",
              "      <td id=\"T_9ee5c_row2_col4\" class=\"data row2 col4\" >4,519,781</td>\n",
              "      <td id=\"T_9ee5c_row2_col5\" class=\"data row2 col5\" >6.722609</td>\n",
              "    </tr>\n",
              "    <tr>\n",
              "      <th id=\"T_9ee5c_level0_row3\" class=\"row_heading level0 row3\" >min</th>\n",
              "      <td id=\"T_9ee5c_row3_col0\" class=\"data row3 col0\" >56.39</td>\n",
              "      <td id=\"T_9ee5c_row3_col1\" class=\"data row3 col1\" >57.06</td>\n",
              "      <td id=\"T_9ee5c_row3_col2\" class=\"data row3 col2\" >56.30</td>\n",
              "      <td id=\"T_9ee5c_row3_col3\" class=\"data row3 col3\" >56.42</td>\n",
              "      <td id=\"T_9ee5c_row3_col4\" class=\"data row3 col4\" >2,094,900</td>\n",
              "      <td id=\"T_9ee5c_row3_col5\" class=\"data row3 col5\" >50.363689</td>\n",
              "    </tr>\n",
              "    <tr>\n",
              "      <th id=\"T_9ee5c_level0_row4\" class=\"row_heading level0 row4\" >25%</th>\n",
              "      <td id=\"T_9ee5c_row4_col0\" class=\"data row4 col0\" >68.63</td>\n",
              "      <td id=\"T_9ee5c_row4_col1\" class=\"data row4 col1\" >69.06</td>\n",
              "      <td id=\"T_9ee5c_row4_col2\" class=\"data row4 col2\" >68.16</td>\n",
              "      <td id=\"T_9ee5c_row4_col3\" class=\"data row4 col3\" >68.63</td>\n",
              "      <td id=\"T_9ee5c_row4_col4\" class=\"data row4 col4\" >5,791,100</td>\n",
              "      <td id=\"T_9ee5c_row4_col5\" class=\"data row4 col5\" >63.778335</td>\n",
              "    </tr>\n",
              "    <tr>\n",
              "      <th id=\"T_9ee5c_level0_row5\" class=\"row_heading level0 row5\" >50%</th>\n",
              "      <td id=\"T_9ee5c_row5_col0\" class=\"data row5 col0\" >73.24</td>\n",
              "      <td id=\"T_9ee5c_row5_col1\" class=\"data row5 col1\" >73.73</td>\n",
              "      <td id=\"T_9ee5c_row5_col2\" class=\"data row5 col2\" >72.84</td>\n",
              "      <td id=\"T_9ee5c_row5_col3\" class=\"data row5 col3\" >73.26</td>\n",
              "      <td id=\"T_9ee5c_row5_col4\" class=\"data row5 col4\" >7,093,500</td>\n",
              "      <td id=\"T_9ee5c_row5_col5\" class=\"data row5 col5\" >68.541162</td>\n",
              "    </tr>\n",
              "    <tr>\n",
              "      <th id=\"T_9ee5c_level0_row6\" class=\"row_heading level0 row6\" >75%</th>\n",
              "      <td id=\"T_9ee5c_row6_col0\" class=\"data row6 col0\" >76.63</td>\n",
              "      <td id=\"T_9ee5c_row6_col1\" class=\"data row6 col1\" >77.09</td>\n",
              "      <td id=\"T_9ee5c_row6_col2\" class=\"data row6 col2\" >76.25</td>\n",
              "      <td id=\"T_9ee5c_row6_col3\" class=\"data row6 col3\" >76.71</td>\n",
              "      <td id=\"T_9ee5c_row6_col4\" class=\"data row6 col4\" >9,394,675</td>\n",
              "      <td id=\"T_9ee5c_row6_col5\" class=\"data row6 col5\" >71.105668</td>\n",
              "    </tr>\n",
              "    <tr>\n",
              "      <th id=\"T_9ee5c_level0_row7\" class=\"row_heading level0 row7\" >max</th>\n",
              "      <td id=\"T_9ee5c_row7_col0\" class=\"data row7 col0\" >90.80</td>\n",
              "      <td id=\"T_9ee5c_row7_col1\" class=\"data row7 col1\" >90.97</td>\n",
              "      <td id=\"T_9ee5c_row7_col2\" class=\"data row7 col2\" >89.25</td>\n",
              "      <td id=\"T_9ee5c_row7_col3\" class=\"data row7 col3\" >90.47</td>\n",
              "      <td id=\"T_9ee5c_row7_col4\" class=\"data row7 col4\" >80,898,100</td>\n",
              "      <td id=\"T_9ee5c_row7_col5\" class=\"data row7 col5\" >84.914216</td>\n",
              "    </tr>\n",
              "  </tbody>\n",
              "</table>\n"
            ]
          },
          "metadata": {},
          "execution_count": 11
        }
      ]
    },
    {
      "cell_type": "code",
      "source": [],
      "metadata": {
        "id": "Y17VErMrJZ2P"
      },
      "execution_count": null,
      "outputs": []
    },
    {
      "cell_type": "markdown",
      "source": [
        "7.Create a new dataframe with a column called HV Ratio that is the ratio of the High Price versus volume of stock traded for a day.\n",
        "\n",
        "A.+--------------------+ | HV Ratio| +--------------------+ |4.819714653321546E-6| |6.290848613094555E-6| |4.669412994783916E-6| |7.367338463826307E-6| |8.915604778943901E-6| |8.644477436914568E-6| |9.351828421515645E-6| | 8.29141562102703E-6| |7.712212102001476E-6| |7.071764823529412E-6| |1.015495466386981E-5| |6.576354146362592...| | 5.90145296180676E-6| |8.547679455011844E-6| |8.420709512685392E-6| |1.041448341728929...| |8.316075414862431E-6| |9.721183814992126E-6| |8.029436027707578E-6| |6.307432259386365E-6| +--------------------+ only showing top 20 rows"
      ],
      "metadata": {
        "id": "fWfQoHLGJcyu"
      }
    },
    {
      "cell_type": "code",
      "source": [
        "hv_ratio_df = stock.assign(HV_Ratio=stock['High'] / stock['Volume'])\n",
        "print(hv_ratio_df[['HV_Ratio']])"
      ],
      "metadata": {
        "colab": {
          "base_uri": "https://localhost:8080/"
        },
        "id": "XUeRGvuXJdtc",
        "outputId": "a55279e9-6437-4b98-921f-563a69ed09b5"
      },
      "execution_count": 12,
      "outputs": [
        {
          "output_type": "stream",
          "name": "stdout",
          "text": [
            "      HV_Ratio\n",
            "0     0.000005\n",
            "1     0.000006\n",
            "2     0.000005\n",
            "3     0.000007\n",
            "4     0.000009\n",
            "...        ...\n",
            "1253  0.000015\n",
            "1254  0.000016\n",
            "1255  0.000014\n",
            "1256  0.000016\n",
            "1257  0.000010\n",
            "\n",
            "[1258 rows x 1 columns]\n"
          ]
        }
      ]
    },
    {
      "cell_type": "markdown",
      "source": [
        "8.What day had the Peak High in Price? A.datetime.datetime(2015, 1, 13, 0, 0)"
      ],
      "metadata": {
        "id": "Fz1FBn7iJmUU"
      }
    },
    {
      "cell_type": "code",
      "source": [
        "peak_high_row = stock[stock['High'] == stock['High'].max()]\n",
        "peak_high_date = peak_high_row['Date'].iloc[0]\n",
        "print(peak_high_date)"
      ],
      "metadata": {
        "colab": {
          "base_uri": "https://localhost:8080/"
        },
        "id": "7ByvGt5TJiSs",
        "outputId": "f0c06e31-721f-438b-d2a8-b47a216d19f9"
      },
      "execution_count": 13,
      "outputs": [
        {
          "output_type": "stream",
          "name": "stdout",
          "text": [
            "2015-01-13\n"
          ]
        }
      ]
    },
    {
      "cell_type": "markdown",
      "source": [
        "9.What is the max and min of the Volume column? A.+-----------+-----------+ |max(Volume)|min(Volume)| +-----------+-----------+ | 80898100| 2094900| +-----------+-----------+"
      ],
      "metadata": {
        "id": "zOH7UWtgJs_3"
      }
    },
    {
      "cell_type": "code",
      "source": [
        "print(min(stock.Volume))\n",
        "print(max(stock.Volume))"
      ],
      "metadata": {
        "colab": {
          "base_uri": "https://localhost:8080/"
        },
        "id": "_Ped8oqMJwix",
        "outputId": "fea2fc7b-0eb6-44ad-e975-2e5fd15b24e4"
      },
      "execution_count": 14,
      "outputs": [
        {
          "output_type": "stream",
          "name": "stdout",
          "text": [
            "2094900\n",
            "80898100\n"
          ]
        }
      ]
    },
    {
      "cell_type": "markdown",
      "source": [
        "10.How many days was the Close lower than 60 dollars? A.81"
      ],
      "metadata": {
        "id": "fmOAvmU3J2vI"
      }
    },
    {
      "cell_type": "code",
      "source": [
        "lower_than_60_df = stock[stock['Close'] < 60]\n",
        "days_lower_than_60 = len(lower_than_60_df)\n",
        "print(days_lower_than_60)"
      ],
      "metadata": {
        "colab": {
          "base_uri": "https://localhost:8080/"
        },
        "id": "glLHenHxJ5cf",
        "outputId": "b77b549c-8cb4-44f7-deb5-fffafb1ff44b"
      },
      "execution_count": 15,
      "outputs": [
        {
          "output_type": "stream",
          "name": "stdout",
          "text": [
            "81\n"
          ]
        }
      ]
    },
    {
      "cell_type": "markdown",
      "source": [
        "11.What percentage of the time was the High greater than 80 dollars ? A. 9.141494"
      ],
      "metadata": {
        "id": "gjBjZqoQJ_3v"
      }
    },
    {
      "cell_type": "code",
      "source": [
        "totaldays = len(stock)\n",
        "high_greater_than_80_days = stock[stock['High'] > 80]\n",
        "num_high_greater_than_80_days = len(high_greater_than_80_days)\n",
        "percentage_high_greater_than_80 = (num_high_greater_than_80_days / totaldays) * 100\n",
        "print(round(percentage_high_greater_than_80, 6))"
      ],
      "metadata": {
        "colab": {
          "base_uri": "https://localhost:8080/"
        },
        "id": "dRsOFwpFJ9Uq",
        "outputId": "ec5771cf-bac9-43b5-f111-56b527541c5b"
      },
      "execution_count": 16,
      "outputs": [
        {
          "output_type": "stream",
          "name": "stdout",
          "text": [
            "9.141494\n"
          ]
        }
      ]
    },
    {
      "cell_type": "markdown",
      "source": [],
      "metadata": {
        "id": "taaC4B_wKLWB"
      }
    },
    {
      "cell_type": "code",
      "source": [
        "12.What is the Pearson correlation between High and Volume? A.+-------------------+ | corr(High, Volume)| +-------------------+ |-0.3384326061737161| +-------------------+\n"
      ],
      "metadata": {
        "id": "2AJA6CY_KEEg"
      },
      "execution_count": null,
      "outputs": []
    },
    {
      "cell_type": "code",
      "source": [
        "pearson_corr = stock['High'].corr(stock['Volume'])\n",
        "print(pearson_corr)"
      ],
      "metadata": {
        "colab": {
          "base_uri": "https://localhost:8080/"
        },
        "id": "lHAPuw98KTeD",
        "outputId": "25ed77c2-5768-4c99-fa98-074dc1a4f185"
      },
      "execution_count": 17,
      "outputs": [
        {
          "output_type": "stream",
          "name": "stdout",
          "text": [
            "-0.3384326061737164\n"
          ]
        }
      ]
    },
    {
      "cell_type": "markdown",
      "source": [],
      "metadata": {
        "id": "-9-yTJb5KS5W"
      }
    },
    {
      "cell_type": "markdown",
      "source": [
        "13.What is the max High per year? A.+----+---------+ |Year|max(High)| +----+---------+ |2015|90.970001| |2013|81.370003| |2014|88.089996| |2012|77.599998| |2016|75.190002| +----+---------+"
      ],
      "metadata": {
        "id": "dZ9GIktLKZo2"
      }
    },
    {
      "cell_type": "code",
      "source": [
        "stock['Date'] = pd.to_datetime(stock['Date'])\n",
        "stock['Year'] = stock['Date'].dt.year\n",
        "# group by 'Year' and find the maximum high for each year\n",
        "max_high_per_year = stock.groupby('Year')['High'].max().reset_index()\n",
        "\n",
        "print(max_high_per_year)"
      ],
      "metadata": {
        "colab": {
          "base_uri": "https://localhost:8080/"
        },
        "id": "h4mNFjUPKajv",
        "outputId": "3644ccd3-23a9-432e-ca5c-8cfdf637a37d"
      },
      "execution_count": 18,
      "outputs": [
        {
          "output_type": "stream",
          "name": "stdout",
          "text": [
            "   Year       High\n",
            "0  2012  77.599998\n",
            "1  2013  81.370003\n",
            "2  2014  88.089996\n",
            "3  2015  90.970001\n",
            "4  2016  75.190002\n"
          ]
        }
      ]
    },
    {
      "cell_type": "markdown",
      "source": [
        "14.What is the average Close for each Calendar Month? In other words, across all the years, what is the average Close price for Jan,Feb, Mar, etc... Your result will have a value for each of these months.\n",
        "\n",
        "A.+-----+-----------------+ |Month| avg(Close)| +-----+-----------------+ | 1|71.44801958415842| | 2| 71.306804443299| | 3|71.77794377570092| | 4|72.97361900952382| | 5|72.30971688679247| | 6| 72.4953774245283| | 7|74.43971943925233| | 8|73.02981855454546| | 9|72.18411785294116| | 10|71.57854545454543| | 11| 72.1110893069307| | 12|72.84792478301885| +-----+-----------------+"
      ],
      "metadata": {
        "id": "B7FHvfwBKhs6"
      }
    },
    {
      "cell_type": "code",
      "source": [
        "stock['Date'] = pd.to_datetime(stock['Date'])\n",
        "stock['Month'] = stock['Date'].dt.month\n",
        "#group by 'Month' and find the average close for each month\n",
        "avg_close_per_month = stock.groupby('Month')['Close'].mean().reset_index()\n",
        "\n",
        "print(avg_close_per_month)"
      ],
      "metadata": {
        "colab": {
          "base_uri": "https://localhost:8080/"
        },
        "id": "0qvil7waKdlW",
        "outputId": "fb0530c4-ab16-4561-fa85-58c91361b446"
      },
      "execution_count": 19,
      "outputs": [
        {
          "output_type": "stream",
          "name": "stdout",
          "text": [
            "    Month      Close\n",
            "0       1  71.448020\n",
            "1       2  71.306804\n",
            "2       3  71.777944\n",
            "3       4  72.973619\n",
            "4       5  72.309717\n",
            "5       6  72.495377\n",
            "6       7  74.439719\n",
            "7       8  73.029819\n",
            "8       9  72.184118\n",
            "9      10  71.578545\n",
            "10     11  72.111089\n",
            "11     12  72.847925\n"
          ]
        }
      ]
    },
    {
      "cell_type": "code",
      "source": [],
      "metadata": {
        "id": "NJ7obsuyKoH8"
      },
      "execution_count": null,
      "outputs": []
    }
  ]
}