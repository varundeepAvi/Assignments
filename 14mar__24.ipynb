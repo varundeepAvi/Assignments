{
  "nbformat": 4,
  "nbformat_minor": 0,
  "metadata": {
    "colab": {
      "provenance": [],
      "authorship_tag": "ABX9TyN+ot9pEo1evfFHFuZgwDmX",
      "include_colab_link": true
    },
    "kernelspec": {
      "name": "python3",
      "display_name": "Python 3"
    },
    "language_info": {
      "name": "python"
    }
  },
  "cells": [
    {
      "cell_type": "markdown",
      "metadata": {
        "id": "view-in-github",
        "colab_type": "text"
      },
      "source": [
        "<a href=\"https://colab.research.google.com/github/varundeepAvi/Assignments/blob/main/14mar__24.ipynb\" target=\"_parent\"><img src=\"https://colab.research.google.com/assets/colab-badge.svg\" alt=\"Open In Colab\"/></a>"
      ]
    },
    {
      "cell_type": "code",
      "execution_count": null,
      "metadata": {
        "id": "vLVxSC7ud6Wk"
      },
      "outputs": [],
      "source": [
        "-- 1. Find the addresses of all departments.\n",
        "USE test1;\n",
        "\n",
        "SELECT l.location_id, l.street_address, l.city, l.state_province, c.country_name\n",
        "FROM locations l\n",
        "JOIN countries c ON l.country_id = c.country_id;\n",
        "\n",
        "-- 2. Find the names and department details of all employees.\n",
        "SELECT e.first_name, e.last_name, d.department_id, d.department_name\n",
        "FROM employees e\n",
        "JOIN departments d ON e.department_id = d.department_id;\n",
        "\n",
        "-- 3. Find the names, job, and department details of employees working in London.\n",
        "SELECT e.first_name, e.last_name, d.department_id, d.department_name\n",
        "FROM employees e\n",
        "JOIN departments d ON e.department_id = d.department_id\n",
        "WHERE e.location_id = 2400;\n",
        "\n",
        "-- 4. Find employee IDs, names, manager IDs, and manager names.\n",
        "SELECT e1.employee_id, e1.last_name AS employee, e1.manager_id AS mgr_id, e2.last_name AS manager\n",
        "FROM employees e1\n",
        "JOIN employees e2 ON e1.manager_id = e2.employee_id;"
      ]
    }
  ]
}