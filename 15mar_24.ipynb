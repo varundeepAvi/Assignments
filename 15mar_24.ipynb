{
  "nbformat": 4,
  "nbformat_minor": 0,
  "metadata": {
    "colab": {
      "provenance": [],
      "authorship_tag": "ABX9TyNqbl5rdndNfUIUkPsJ0j60",
      "include_colab_link": true
    },
    "kernelspec": {
      "name": "python3",
      "display_name": "Python 3"
    },
    "language_info": {
      "name": "python"
    }
  },
  "cells": [
    {
      "cell_type": "markdown",
      "metadata": {
        "id": "view-in-github",
        "colab_type": "text"
      },
      "source": [
        "<a href=\"https://colab.research.google.com/github/varundeepAvi/Assignments/blob/main/15mar_24.ipynb\" target=\"_parent\"><img src=\"https://colab.research.google.com/assets/colab-badge.svg\" alt=\"Open In Colab\"/></a>"
      ]
    },
    {
      "cell_type": "code",
      "execution_count": null,
      "metadata": {
        "id": "os7CKIZ8u2vr"
      },
      "outputs": [],
      "source": [
        "-- Query to find the name (first_name, last_name) and hire date of the employees hired after 'Jones'.\n",
        "SELECT FIRST_NAME, LAST_NAME, HIRE_DATE\n",
        "FROM employees\n",
        "WHERE HIRE_DATE > (SELECT HIRE_DATE FROM employees WHERE LAST_NAME = 'Jones')\n",
        "ORDER BY HIRE_DATE;\n",
        "\n",
        "-- Query to get the department name and number of employees in the department.\n",
        "SELECT d.DEPARTMENT_NAME, COUNT(e.EMPLOYEE_ID) AS Number_of_Employees\n",
        "FROM employees e\n",
        "JOIN departments d ON e.DEPARTMENT_ID = d.DEPARTMENT_ID\n",
        "GROUP BY d.DEPARTMENT_NAME;\n",
        "\n",
        "-- Query to find the employee ID, job title, number of days between ending date and starting date for all jobs in department 90 from job history.\n",
        "SELECT jh.employee_id, j.job_title, DATEDIFF(jh.end_date, jh.start_date) AS Number_of_days\n",
        "FROM job_history jh\n",
        "JOIN jobs j ON j.job_id=jh.job_id\n",
        "WHERE jh.department_id=90;\n",
        "\n",
        "-- Query to display the department ID and name and first name of manager.\n",
        "SELECT e.DEPARTMENT_ID, d.MANAGER_ID, e.FIRST_NAME, d.DEPARTMENT_NAME\n",
        "FROM employees e\n",
        "JOIN departments d ON e.DEPARTMENT_ID=d.DEPARTMENT_ID\n",
        "WHERE e.EMPLOYEE_ID=d.MANAGER_ID;\n",
        "\n",
        "-- Query to display the department name, manager name, and city.\n",
        "SELECT e.DEPARTMENT_ID, d.MANAGER_ID, e.FIRST_NAME, d.DEPARTMENT_NAME, l.city\n",
        "FROM employees e\n",
        "JOIN departments d ON e.DEPARTMENT_ID = d.DEPARTMENT_ID\n",
        "JOIN locations l ON l.location_id = d.LOCATION_ID\n",
        "WHERE e.EMPLOYEE_ID = d.MANAGER_ID;\n",
        "\n",
        "-- Query to display the job title and average salary of employees.\n",
        "SELECT j.JOB_TITLE, AVG(e.SALARY)\n",
        "FROM jobs j\n",
        "JOIN employees e ON e.JOB_ID = j.JOB_ID\n",
        "GROUP BY j.JOB_TITLE;"
      ]
    }
  ]
}