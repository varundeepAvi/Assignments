{
  "nbformat": 4,
  "nbformat_minor": 0,
  "metadata": {
    "colab": {
      "provenance": []
    },
    "kernelspec": {
      "name": "python3",
      "display_name": "Python 3"
    },
    "language_info": {
      "name": "python"
    }
  },
  "cells": [
    {
      "cell_type": "code",
      "execution_count": null,
      "metadata": {
        "id": "VmKAYv1TXwmv"
      },
      "outputs": [],
      "source": [
        "str1="
      ]
    },
    {
      "cell_type": "markdown",
      "source": [
        "\n",
        "1.Similar Strings\n",
        "Problem statement\n",
        "You are given two strings, ‘A’ and ‘B’ each of length ‘N’. Your task is to print 1 if ‘A’ is similar to ‘B’.\n",
        "\n",
        "Note :\n",
        "\n",
        "String ‘A’ is said to be similar to string ‘B’ if and only if\n",
        "1. ‘A’ is equal to ‘B’.\n",
        "2. Divide both ‘A’ and ‘B’ into two – two strings ‘A1’, ‘A2’ , ‘B1’ and ‘B2’ such that both of them('A1' and 'A2') have same size. Then at least one of the following must hold true:\n",
        "   a. ‘A1’ is similar to ‘B1’ and ‘A2’ is similar to ‘B2’.\n",
        "   b. ‘A1’ is similar to ‘B2’ and ‘A2’ is similar to ‘B1’.\n",
        "\n",
        "Sample Input 1 :\n",
        "2\n",
        "aa aa\n",
        "ab ba\n",
        "Sample Output 1 :\n",
        "1\n",
        "1\n",
        "Explanation Of Sample Input 1 :\n",
        "Test Case 1 :  \n",
        "Given A = “aa” and B = “aa”\n",
        "Here A and B are equal. So A is similar to B.\n"
      ],
      "metadata": {
        "id": "XCF9FA59XzAC"
      }
    },
    {
      "cell_type": "code",
      "source": [
        "\n",
        "def checkStrings(st1, str2):\n",
        "\n",
        "   ans = True\n",
        "   if l1 != l2 :\n",
        "    ans = False\n",
        "    return ans\n",
        "\n",
        "\n",
        "if str1 != str2:\n",
        "  # strings are not equal so divide strings in equal len and check for similar substrings\n",
        "   if l1 % 2 == 1 :\n",
        "      ans = False\n",
        "      return ans\n",
        "\n",
        "   else :\n",
        "\n",
        "    mid = l1 // 2\n",
        "    str1_a1 = str1[:mid]\n",
        "    str1_a2 = str1[mid:]\n",
        "\n",
        "    str2_a1 = str2[:mid]\n",
        "    str2_a2 = str2[mid:]\n",
        "\n",
        "\n",
        "    if str1_a1 == str2_a1:\n",
        "        if str1_a2 ==  str2_a2:\n",
        "             return True\n",
        "        else:\n",
        "         return  checkString(str1_a2,str2_a2)\n",
        "\n",
        "\n",
        "\n",
        "    else :\n",
        "       if str1_a1 == str2_a2 :\n",
        "         if str1_a2 == str2_a1:\n",
        "             return True\n",
        "\n",
        "         else :\n",
        "           return checkString(str1_a2, str2_a1)\n",
        "\n",
        "\n",
        "\n",
        "\n",
        "\n",
        "\n",
        "str1 = input(\"Enter string1 \")\n",
        "\n",
        "str2= input(\"Enter string2 \")\n",
        "\n",
        "l1 = len(str1)\n",
        "\n",
        "l2 = len(str2)\n",
        "\n",
        "\n",
        "\n",
        "\n",
        "\n",
        "print(ans)\n",
        "\n",
        "\n",
        "\n"
      ],
      "metadata": {
        "colab": {
          "base_uri": "https://localhost:8080/"
        },
        "id": "4zdjD5_GX2Nd",
        "outputId": "6cdf3863-2f83-412b-fe9f-d81046951c19"
      },
      "execution_count": null,
      "outputs": [
        {
          "output_type": "stream",
          "name": "stdout",
          "text": [
            "Enter string1 abcde \n",
            "Enter string2cdeab\n",
            "False\n"
          ]
        }
      ]
    },
    {
      "cell_type": "code",
      "source": [],
      "metadata": {
        "id": "9v23zeGYcf93"
      },
      "execution_count": null,
      "outputs": []
    },
    {
      "cell_type": "markdown",
      "source": [
        "Test Case 2 :\n",
        "Given A = “aaca” and B = “acaa”.\n",
        "A = “aa” + “ca”  A1 = “aa” and A2 = “ca”\n",
        "B = “ac” + “aa”  B1 = “ac” and B2 = “ca”\n",
        "Here A1 = B2 So, A1 is similar to B2.\n",
        "Now consider A2 = “ca” and B1 =”ac”\n",
        "Divide both them into equal size A2 = “c” + “a” and B1 = “a” + “c”.\n",
        "We can easily see that A2 and B1 are similar.\n",
        "So, we have A1 is similar to B2 and A2 is similar to B1.\n",
        "Hence A and B are similar to each other."
      ],
      "metadata": {
        "id": "1BIi56JGyhZh"
      }
    },
    {
      "cell_type": "code",
      "source": [
        "str1 = input(\"Enter string1 \")\n",
        "\n",
        "str2= input(\"Enter string2 \")\n",
        "\n",
        "l1 = len(str1)\n",
        "\n",
        "l2 = len(str2)\n",
        "\n",
        "\n",
        "\n",
        "def useRecur(str1, str2):\n",
        "\n",
        "  if len(str1) != len(str2) :\n",
        "     return False\n",
        "\n",
        "  if str1 == str2 :\n",
        "    return True\n",
        "\n",
        "  if len(str1) %2 == 1 :\n",
        "     return False\n",
        "\n",
        "  elif str1 != str2 :\n",
        "     if len(str1) == 1 :\n",
        "       return False\n",
        "     else :\n",
        "        mid = len(str1) // 2\n",
        "        str1_a1 = str1[:mid]\n",
        "        str1_a2 = str1[mid:]\n",
        "\n",
        "        str2_a1 = str2[:mid]\n",
        "        str2_a2 = str2[mid:]\n",
        "\n",
        "        a =  useRecur(str1_a1 , str2_a1) and useRecur(str1_a2, str2_a2)\n",
        "\n",
        "        if a== True :\n",
        "         return a\n",
        "\n",
        "        b =   useRecur(str1_a1, str2_a2) and useRecur(str1_a2, str2_a1)\n",
        "\n",
        "\n",
        "        return b\n",
        "\n",
        "\n",
        "\n",
        "\n",
        "\n",
        "\n",
        "\n",
        "\n",
        "\n",
        "\n",
        "\n",
        "\n",
        "\n",
        "\n",
        "\n",
        "print(useRecur(str1, str2))\n",
        "\n"
      ],
      "metadata": {
        "colab": {
          "base_uri": "https://localhost:8080/"
        },
        "id": "jMh7xTj0yiyr",
        "outputId": "cfbcb7f6-1299-4d9f-df15-7ff5c45a559c"
      },
      "execution_count": null,
      "outputs": [
        {
          "output_type": "stream",
          "name": "stdout",
          "text": [
            "Enter string1 abcd\n",
            "Enter string2 dcba\n",
            "True\n"
          ]
        }
      ]
    },
    {
      "cell_type": "markdown",
      "source": [],
      "metadata": {
        "id": "mBz6KdUiHTvn"
      }
    },
    {
      "cell_type": "code",
      "source": [
        "\n",
        "2.Distinct Substrings\n",
        "Problem statement\n",
        "You are given a string 'S' of length 'N' consisting of lowercase English letters. You want all substrings of the string 'S' to be distinct. You are allowed to change characters at some positions to some other lowercase English letters.\n",
        "\n",
        "You have to find the minimum number of changes required to make all the substrings of the string distinct or return -1 if you can't make it.\n",
        "\n",
        "A substring is a contiguous subsegment of a string. For example, \"acab\" is a substring of \"abacaba\" (it starts in position 3 and ends in position 6), but \"aa\" or \"d\" aren't substrings of this string.\n",
        "\n",
        "\n",
        "Hint:\n",
        "Think about substrings of length one.\n",
        "For Example:-\n",
        "Let 'N' = 3, 'S' = \"aac\".\n",
        "You can change characters at index 2 to some other character (1-based indexing).\n",
        "Like 'S' = \"abc\".\n",
        "All substrings of 'S' are \"a\", \"b\", \"c\", \"ab\", \"bc\", \"abc\", all of which are distinct.\n",
        "So the answer is 1.\n",
        "Sample Input 1:-\n",
        "2\n",
        "3\n",
        "abc\n",
        "4\n",
        "xxyz\n",
        "Sample Output 1:-\n",
        "0\n",
        "1\n",
        "\n",
        "\n",
        "\n",
        "\n"
      ],
      "metadata": {
        "id": "UPl8PCAkz3wP"
      },
      "execution_count": null,
      "outputs": []
    },
    {
      "cell_type": "code",
      "source": [
        "str1= input(\"Enter string  \")\n",
        "\n",
        "l = len(str1)\n",
        "\n",
        "set1 = set( )\n",
        "\n",
        "\n",
        "for item in str1:\n",
        "    set1.add(item)\n",
        "\n",
        "\n",
        "\n",
        "if  l - len(set1) != 0\n",
        "   print(l - len(set1))\n",
        "else\n",
        "   print(-1)\n",
        "\n",
        "\n"
      ],
      "metadata": {
        "colab": {
          "base_uri": "https://localhost:8080/"
        },
        "id": "4g_3VUpnHWr_",
        "outputId": "3ca01268-0999-428a-b52e-7ad6782d788c"
      },
      "execution_count": null,
      "outputs": [
        {
          "output_type": "stream",
          "name": "stdout",
          "text": [
            "Enter string  aabbc\n",
            "2\n"
          ]
        }
      ]
    },
    {
      "cell_type": "markdown",
      "source": [
        "\n",
        "4.Multiply Strings\n",
        "Problem statement\n",
        "You are given two big numbers ‘A’ and ‘B’ as strings. Your task is to find the product of both the numbers.\n",
        "\n",
        "Note:\n",
        "\n",
        "There are no leading zeros in both the strings, except the number 0 itself.\n",
        "Do not use any built-in Big Integer Library.\n",
        "For Example:\n",
        "If, A = 123, and B = 456.\n",
        "So the product of both numbers will be 56088.\n",
        "\n",
        "Sample Input 1:\n",
        "2\n",
        "17281\n",
        "91276\n",
        "123\n",
        "456\n",
        "Sample Output 1:\n",
        "1577340556\n",
        "56088    \n",
        "Explanation for sample 1:\n",
        "For the first test case:\n",
        "A=17281, and B=91276\n",
        "The product of both numbers is 1577340556.\n",
        "\n",
        "For the second test case:\n",
        "A=123, B=456\n",
        "The product of both numbers is 56088\n",
        "\n",
        "\n"
      ],
      "metadata": {
        "id": "cwFGQsgBP-a3"
      }
    },
    {
      "cell_type": "markdown",
      "source": [],
      "metadata": {
        "id": "bA3JcV_fQCte"
      }
    },
    {
      "cell_type": "code",
      "source": [
        "str1 = input(\"Enter Number 1: \")\n",
        "\n",
        "\n",
        "str2 = input(\"Enter Number 2: \")\n",
        "\n",
        "c = 0\n",
        "d =0 ; rem = 0\n",
        "for  i in range(len(str1)):\n",
        "   rem = ord(str1[i]) - ord('0')\n",
        "   c = c * 10 + rem\n",
        "\n",
        "for  i in range(len(str2)):\n",
        "   rem = ord(str2[i]) - ord('0')\n",
        "   d = d * 10 + rem\n",
        "\n",
        "\n",
        "print( c * d)\n",
        "\n",
        "\n"
      ],
      "metadata": {
        "colab": {
          "base_uri": "https://localhost:8080/"
        },
        "id": "8xz1PHP0JP35",
        "outputId": "581acd36-3fbf-4b4b-fdc7-3e19d1d3cc65"
      },
      "execution_count": null,
      "outputs": [
        {
          "output_type": "stream",
          "name": "stdout",
          "text": [
            "Enter Number 1: 11\n",
            "Enter Number 2: 11\n",
            "121\n"
          ]
        }
      ]
    },
    {
      "cell_type": "markdown",
      "source": [
        "3.Possible Balanced Strings\n",
        "Problem statement\n",
        "Avisoft has been given a string S, consisting of only the '(' or ')' parenthesis. The string is not balanced, and to make the string balanced, he can remove one or more parentheses. He needs to print all possible balanced strings that can be formed from the given string by removing the minimum number of parentheses.\n",
        "\n",
        "Note:\n",
        "\n",
        "Print only those distinct strings that can be formed by removing the minimum number of parentheses.\n",
        "\n",
        "If the string is already balanced, return the original string.\n",
        "For example:\n",
        "\n",
        "(()()()\n",
        "\n",
        "Expected strings are:\n",
        "\n",
        "[ (()()), (())(), ()()() ]\n",
        "\n",
        "Sample Input 1:\n",
        "1\n",
        "(()()()\n",
        "Sample Output 1:\n",
        "1"
      ],
      "metadata": {
        "id": "ouBUawi9YUMk"
      }
    },
    {
      "cell_type": "code",
      "source": [
        "#Output - min number of paranthesis to  be removed, and printing all possible parantheses\n",
        "\n",
        "\n",
        "set1 = set()\n",
        "def checkValidString(temp):\n",
        "   stack  = []\n",
        "\n",
        "   l = len(temp)\n",
        "   for i in range(l):\n",
        "    if len(stack) ==  0:\n",
        "         if temp[i] == ')' :\n",
        "           return False\n",
        "\n",
        "         stack.append(temp[i])\n",
        "\n",
        "    elif temp[i] == ')' :\n",
        "       if stack[-1] == '(':\n",
        "        stack.pop()\n",
        "       else:\n",
        "        return False\n",
        "    else :\n",
        "        stack.append(temp[i])\n",
        "\n",
        "   if len(stack) > 0  :\n",
        "     return  False\n",
        "   else :\n",
        "     return True\n",
        "\n",
        "\n",
        "def makeString(str1, temp, ind,l):\n",
        "  temp_str = temp\n",
        "  for i in range(ind+1,len(str1)):\n",
        "\n",
        "     temp_str = temp_str + str1[i]\n",
        "\n",
        "  if checkValidString(temp_str) :\n",
        "     set1.add(temp_str)\n",
        "\n",
        "\n",
        "\n",
        "def helper1(str1, l):\n",
        "   temp  = \"\"\n",
        "\n",
        "   for i in range(l):\n",
        "       makeString(str1 ,temp, i, l)\n",
        "       temp = temp+ str1[i]\n",
        "\n",
        "\"\"\"\n",
        "def helper(str1, l) :\n",
        " for i in range(l):\n",
        "   temp = \"\"\n",
        "   makeString(str1, temp, i, l)\n",
        "\"\"\"\n",
        "\n",
        "\n",
        "\n",
        "\n",
        "\n",
        "\n",
        "str1 = input(\"Enter String \")\n",
        "\n",
        "l = len(str1)\n",
        "\n",
        "count_openBrac = 0\n",
        "count_closedBrac = 0\n",
        "\n",
        "for item in str1:\n",
        "   if item == '(' :\n",
        "      count_openBrac +=1\n",
        "\n",
        "   else :\n",
        "     count_closedBrac +=1\n",
        "\n",
        "\n",
        "if count_openBrac == count_closedBrac  :\n",
        "   print(\"Balanced String \")\n",
        "   exit()\n",
        "\n",
        "helper1(str1,l)\n",
        "\n",
        "print(\"Minimum no of paranthesis to be removed are :-\")\n",
        "print(count_openBrac - count_closedBrac)\n",
        "print(set1)"
      ],
      "metadata": {
        "colab": {
          "base_uri": "https://localhost:8080/"
        },
        "id": "3nctP9WbYaVn",
        "outputId": "8387a42f-82ce-4876-fca7-a23b8666bcd0"
      },
      "execution_count": 4,
      "outputs": [
        {
          "output_type": "stream",
          "name": "stdout",
          "text": [
            "Enter String ))((\n",
            "Balanced String \n",
            "Minimum no of paranthesis to be removed are :-\n",
            "0\n",
            "set()\n"
          ]
        }
      ]
    },
    {
      "cell_type": "code",
      "source": [],
      "metadata": {
        "id": "nAUqTgsPwuIl"
      },
      "execution_count": null,
      "outputs": []
    },
    {
      "cell_type": "markdown",
      "source": [
        "Problem statement\n",
        "You are given a positive integer 'N'. Your task is to find the number of strings of length ‘N’ that can be formed using only the characters ‘a’, ‘b’ and ‘c’. The strings formed should be such that the number of ‘b’ and ‘c’ in the string is at most 1 and 2, respectively.\n",
        "\n",
        "Example:\n",
        "Let’s say N = 2. The strings of length 2, which satisfy the given constraints are: “aa”, “ab”, “ac”, “ba”, “bc”, “ca”, “cb”, “cc”. Hence, the output is 8.\n",
        "\n",
        "Sample Input 1:\n",
        "2\n",
        "2\n",
        "3\n",
        "Sample Output 1:\n",
        "8\n",
        "19\n",
        "Explanation 1:\n",
        "For the first test case, refer to the example explained before.\n"
      ],
      "metadata": {
        "id": "HC93OKWdwSrk"
      }
    },
    {
      "cell_type": "code",
      "source": [
        "#Output - No. of of strings on length n that can be generated and also printing the list\n",
        "\n",
        "\n",
        "n= int(input(\"Enter value of N :\"))\n",
        "\n",
        "dict1 = {}\n",
        "\n",
        "dict1[\"a\"] = n\n",
        "dict1[\"b\"] = 1\n",
        "dict1[\"c\"] = 2\n",
        "\n",
        "\n",
        "ans =  [ ]\n",
        "\n",
        "def useRecur(str1, temp, ind, n):\n",
        "    # base case\n",
        "    if ind == n :\n",
        "       ans.append(temp)\n",
        "       return\n",
        "    char_inserted = True\n",
        "    for item in str1:\n",
        "       if dict1[item] > 0 :\n",
        "\n",
        "         temp += item\n",
        "         dict1[item] = dict1[item] -1\n",
        "\n",
        "\n",
        "         useRecur(str1, temp, ind+1, n)\n",
        "\n",
        "         temp = temp[:-1]\n",
        "         dict1[item] = dict1[item] + 1\n",
        "\n",
        "       else :\n",
        "         continue\n",
        "\n",
        "\n",
        "\n",
        "\n",
        "\n",
        "\n",
        "str1= \"abc\"\n",
        "temp = \"\"\n",
        "useRecur(str1, temp, 0, n)\n",
        "\n",
        "\n",
        "print(dict1)\n",
        "print(ans)\n",
        "print(len(ans))"
      ],
      "metadata": {
        "colab": {
          "base_uri": "https://localhost:8080/"
        },
        "id": "__5J2Av-2zKL",
        "outputId": "677cf46a-c478-41b5-a21c-43bd98c7b7af"
      },
      "execution_count": null,
      "outputs": [
        {
          "output_type": "stream",
          "name": "stdout",
          "text": [
            "Enter value of N :5\n",
            "{'a': 5, 'b': 1, 'c': 2}\n",
            "['aaaaa', 'aaaab', 'aaaac', 'aaaba', 'aaabc', 'aaaca', 'aaacb', 'aaacc', 'aabaa', 'aabac', 'aabca', 'aabcc', 'aacaa', 'aacab', 'aacac', 'aacba', 'aacbc', 'aacca', 'aaccb', 'abaaa', 'abaac', 'abaca', 'abacc', 'abcaa', 'abcac', 'abcca', 'acaaa', 'acaab', 'acaac', 'acaba', 'acabc', 'acaca', 'acacb', 'acbaa', 'acbac', 'acbca', 'accaa', 'accab', 'accba', 'baaaa', 'baaac', 'baaca', 'baacc', 'bacaa', 'bacac', 'bacca', 'bcaaa', 'bcaac', 'bcaca', 'bccaa', 'caaaa', 'caaab', 'caaac', 'caaba', 'caabc', 'caaca', 'caacb', 'cabaa', 'cabac', 'cabca', 'cacaa', 'cacab', 'cacba', 'cbaaa', 'cbaac', 'cbaca', 'cbcaa', 'ccaaa', 'ccaab', 'ccaba', 'ccbaa']\n",
            "71\n"
          ]
        }
      ]
    },
    {
      "cell_type": "code",
      "source": [],
      "metadata": {
        "id": "EetiP56Z3LRA"
      },
      "execution_count": null,
      "outputs": []
    },
    {
      "cell_type": "markdown",
      "source": [
        "Problem statement\n",
        "You are given two big numbers ‘A’ and ‘B’ as strings. Your task is to find the product of both the numbers.\n",
        "\n",
        "Note:\n",
        "\n",
        "There are no leading zeros in both the strings, except the number 0 itself.\n",
        "Do not use any built-in Big Integer Library.\n",
        "For Example:\n",
        "If, A = 123, and B = 456.\n",
        "So the product of both numbers will be 56088."
      ],
      "metadata": {
        "id": "GTvWt3pe_5ml"
      }
    },
    {
      "cell_type": "code",
      "source": [
        "number_1= int(input(\"Enter number 1 : \"))\n",
        "\n",
        "\n",
        "number_2 = int(input(\"Enter number 2 : \"))\n",
        "\n",
        "list_temp = [ ]\n",
        "\n",
        "while(number_2):\n",
        "   digit = number_2 % 10\n",
        "   num_temp = number_1 * digit\n",
        "   num_temp_str = str(num_temp)\n",
        "   list_temp.append(num_temp_str)\n",
        "\n",
        "   number_2 = number_2 // 10\n",
        "\n",
        "l= len(list_temp)\n",
        "for i in  range(l):\n",
        "   for j in range(i):\n",
        "      list_temp[i]= list_temp[i] +'0'\n",
        "\n",
        "\n",
        "ans = 0\n",
        "\n",
        "for i in range(l):\n",
        "   ans += int(list_temp[i])\n",
        "\n",
        "\n",
        "print(ans)\n"
      ],
      "metadata": {
        "colab": {
          "base_uri": "https://localhost:8080/"
        },
        "id": "j-4JzTQ3_9ZJ",
        "outputId": "76d65640-cfcd-4771-8493-7df7c18bbef9"
      },
      "execution_count": null,
      "outputs": [
        {
          "output_type": "stream",
          "name": "stdout",
          "text": [
            "Enter number 1 : 123\n",
            "Enter number 2 : 456\n",
            "56088\n"
          ]
        }
      ]
    },
    {
      "cell_type": "code",
      "source": [],
      "metadata": {
        "id": "pzMbKrt_HQkC"
      },
      "execution_count": null,
      "outputs": []
    },
    {
      "cell_type": "markdown",
      "source": [
        "Problem statement\n",
        "You are given two big numbers ‘A’ and ‘B’ as strings. Your task is to find the product of both the numbers.\n",
        "\n",
        "Note:\n",
        "\n",
        "There are no leading zeros in both the strings, except the number 0 itself.\n",
        "Do not use any built-in Big Integer Library.\n",
        "For Example:\n",
        "If, A = 123, and B = 456.\n",
        "So the product of both numbers will be 56088."
      ],
      "metadata": {
        "id": "Coe60YacNRDa"
      }
    },
    {
      "cell_type": "code",
      "source": [
        "\n",
        "num1 = input(\"Enter number1: \")\n",
        "\n",
        "num1= num1[::-1]\n",
        "num2 = input(\"Enter number2 : \" )\n",
        "num2= num2[::-1]\n",
        "\n",
        "list1 = []\n",
        "l1 = len(num1)\n",
        "l2= len(num2)\n",
        "m= l1 + l2\n",
        "\n",
        "ind_n1 = 0\n",
        "ind_n2 = 0\n",
        "\n",
        "for i in range(m):\n",
        "   list1.append(0)\n",
        "\n",
        "for n1 in num1:\n",
        "   carry = 0\n",
        "   n1= ord(n1) - ord('0')\n",
        "   ind_n2 = 0\n",
        "   for n2 in num2:\n",
        "\n",
        "     n2 = ord(n2) - ord('0')\n",
        "     sum = n1 *n2 + list1[ind_n1 + ind_n2 ] +carry\n",
        "\n",
        "     carry = sum // 10\n",
        "\n",
        "     list1[ind_n1 + ind_n2]  = sum % 10\n",
        "\n",
        "     ind_n2 +=1\n",
        "\n",
        "   if carry > 0 :\n",
        "     list1[ ind_n1 + ind_n2] += carry\n",
        "\n",
        "   ind_n1 +=1\n",
        "\n",
        "\n",
        "ind = len(list1)-1\n",
        "\n",
        "while ind >=0 and  list1[ind] == 0:\n",
        "  ind -= 1\n",
        "\n",
        "if ind == -1 :\n",
        " print(\"0\")\n",
        " exit()\n",
        "ans = \"\"\n",
        "ans = ''.join(map(str, list1[: ind+1]))[::-1]\n",
        "#ans = ''.join(list1)\n",
        "\n",
        "print(ans)"
      ],
      "metadata": {
        "colab": {
          "base_uri": "https://localhost:8080/"
        },
        "id": "QNdYCfuKNVJC",
        "outputId": "87723316-95c4-4693-faa1-17c4514d3f80"
      },
      "execution_count": 3,
      "outputs": [
        {
          "output_type": "stream",
          "name": "stdout",
          "text": [
            "Enter number1: 123\n",
            "Enter number2 : 456\n",
            "56088\n"
          ]
        }
      ]
    },
    {
      "cell_type": "code",
      "source": [],
      "metadata": {
        "id": "W8jROj50QUcB"
      },
      "execution_count": null,
      "outputs": []
    }
  ]
}