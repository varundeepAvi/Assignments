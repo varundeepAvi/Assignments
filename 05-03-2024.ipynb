{
  "nbformat": 4,
  "nbformat_minor": 0,
  "metadata": {
    "colab": {
      "provenance": []
    },
    "kernelspec": {
      "name": "python3",
      "display_name": "Python 3"
    },
    "language_info": {
      "name": "python"
    }
  },
  "cells": [
    {
      "cell_type": "markdown",
      "source": [
        "1.You are given the following :\n",
        "\n",
        "A positive number N\n",
        "Heights : A list of heights of N persons standing in a queue\n",
        "Infronts : A list of numbers corresponding to each person (P) that gives the number of persons who are taller than P and standing in front of P\n",
        "You need to return  list of actual order of persons’s height\n",
        "\n",
        "Consider that heights will be unique\n",
        "\n",
        "Example\n",
        "\n",
        "Input :\n",
        "Heights: 5 3 2 6 1 4\n",
        "InFronts: 0 1 2 0 3 2\n",
        "Output :\n",
        "actual order is: 5 3 2 1 6 4\n",
        "So, you can see that for the person with height 5, there is no one taller than him who is in front of him, and hence Infronts has 0 for him.\n",
        "\n",
        "For person with height 3, there is 1 person ( Height : 5 ) in front of him who is taller than him.\n",
        "\n",
        "You can do similar inference for other people in the list"
      ],
      "metadata": {
        "id": "mtKwtDpxO8u0"
      }
    },
    {
      "cell_type": "code",
      "source": [
        "class Solution:\n",
        "    def reconstructQueue(self, people: List[List[int]]) -> List[List[int]]:\n",
        "        sorted_list = sorted(people, key=lambda x: (-x[0], x[1]))\n",
        "\n",
        "        ans_list = []\n",
        "        for person in sorted_list:\n",
        "            ans_list.insert(person[1], person)\n",
        "\n",
        "        return ans_list\n"
      ],
      "metadata": {
        "id": "O5ARlZVdO_9O"
      },
      "execution_count": 2,
      "outputs": []
    },
    {
      "cell_type": "code",
      "source": [
        "heights = [5, 3, 2, 6, 1, 4]\n",
        "infronts = [0, 1, 2, 0, 3, 2]\n",
        "\n",
        "ans = Solution().order(heights, infronts)\n",
        "print(ans)\n",
        "\n",
        "[5, 3, 2, 1, 6, 4]"
      ],
      "metadata": {
        "colab": {
          "base_uri": "https://localhost:8080/"
        },
        "id": "sthVUsXBPRJu",
        "outputId": "af5206ab-5e4c-4762-d1fe-f9fe95289f96"
      },
      "execution_count": 3,
      "outputs": [
        {
          "output_type": "stream",
          "name": "stdout",
          "text": [
            "[5, 3, 2, 1, 6, 4]\n"
          ]
        },
        {
          "output_type": "execute_result",
          "data": {
            "text/plain": [
              "[5, 3, 2, 1, 6, 4]"
            ]
          },
          "metadata": {},
          "execution_count": 3
        }
      ]
    },
    {
      "cell_type": "markdown",
      "source": [
        "2.Find shortest unique prefix to represent each word in the list.\n",
        "\n",
        "Example:\n",
        "\n",
        "Input: [zebra, dog, duck, dove]\n",
        "Output: {z, dog, du, dov}\n",
        "where we can see that\n",
        "zebra = z\n",
        "dog = dog\n",
        "duck = du\n",
        "dove = dov\n",
        "NOTE : Assume that no word is prefix of another. In other words, the representation is always possible."
      ],
      "metadata": {
        "id": "WDtxs8siPX9n"
      }
    },
    {
      "cell_type": "code",
      "source": [
        "# Get the number of strings from user input\n",
        "num_strings = int(input(\"Enter the numbers of strings:\"))\n",
        "\n",
        "# List to store the entered strings\n",
        "strings_list = []\n",
        "\n",
        "# Loop to get the strings from the user\n",
        "for i in range(num_strings):\n",
        "    string = input(f\"Enter string {i+1}: \")\n",
        "    strings_list.append(string)\n",
        "\n",
        "# Dictionary to store all prefixes and their counts\n",
        "all_prefixes_counts = {}\n",
        "\n",
        "# Iterate through each string to find all prefixes and their counts\n",
        "for word in strings_list:\n",
        "    prefix = \"\"\n",
        "    for i in range(len(word)):\n",
        "        prefix += word[i]\n",
        "        if prefix not in all_prefixes_counts:\n",
        "            all_prefixes_counts[prefix] = 0\n",
        "        all_prefixes_counts[prefix] += 1\n",
        "\n",
        "# List to store the shortest unique prefixes\n",
        "shortest_unique_prefixes = []\n",
        "\n",
        "# Iterate through each string to find shortest unique prefixes\n",
        "for word in strings_list:\n",
        "    prefix = \"\"\n",
        "    for i in range(len(word)):\n",
        "        prefix += word[i]\n",
        "        if all_prefixes_counts[prefix] == 1:\n",
        "            shortest_unique_prefixes.append(prefix)\n",
        "            break\n",
        "\n",
        "# Print the shortest unique prefixes\n",
        "print(shortest_unique_prefixes)"
      ],
      "metadata": {
        "colab": {
          "base_uri": "https://localhost:8080/"
        },
        "id": "ZeETWmWMPRu_",
        "outputId": "74e67661-8446-402e-c27a-785d562fd0fd"
      },
      "execution_count": 5,
      "outputs": [
        {
          "output_type": "stream",
          "name": "stdout",
          "text": [
            "Enter the numbers of strings:4\n",
            "Enter string 1: zebra\n",
            "Enter string 2: dog\n",
            "Enter string 3: duck\n",
            "Enter string 4: dove\n",
            "['z', 'dog', 'du', 'dov']\n"
          ]
        }
      ]
    },
    {
      "cell_type": "markdown",
      "source": [
        "3.Given a 2 x N grid of integer, A, choose numbers such that the sum of the numbers\n",
        "\n",
        "is maximum and no two chosen numbers are adjacent horizontally, vertically or diagonally, and return it.\n",
        "\n",
        "Note: You can choose more than 2 numbers.\n",
        "\n",
        "Input Format:\n",
        "\n",
        "The first and the only argument of input contains a 2d matrix, A.\n",
        "Output Format:\n",
        "\n",
        "Return an integer, representing the maximum possible sum.\n",
        "Constraints:\n",
        "\n",
        "1 <= N <= 20000\n",
        "1 <= A[i] <= 2000\n",
        "Example:\n",
        "\n",
        "Input 1:\n",
        "    A = [   [1]\n",
        "            [2]    ]\n",
        "\n",
        "Output 1:\n",
        "    2\n",
        "\n",
        "Explanation 1:\n",
        "    We will choose 2.\n",
        "\n",
        "Input 2:\n",
        "    A = [   [1, 2, 3, 4]\n",
        "            [2, 3, 4, 5]    ]\n",
        "    \n",
        "Output 2:"
      ],
      "metadata": {
        "id": "WPku0i1UPse_"
      }
    },
    {
      "cell_type": "code",
      "source": [
        "def max_sum_no_adjacent(matrix):\n",
        "    n = len(matrix[0])\n",
        "\n",
        "    # Initialize dp array to store maximum sum\n",
        "    dp = [0] * (n + 1)\n",
        "    dp[1] = max(matrix[0][0], matrix[1][0])\n",
        "\n",
        "    # Traverse through each column\n",
        "    for i in range(2, n + 1):\n",
        "        # Calculate maximum sum at column i\n",
        "        dp[i] = max(dp[i - 1], dp[i - 2] + max(matrix[0][i - 1], matrix[1][i - 1]))\n",
        "\n",
        "    return dp[n]\n",
        "\n",
        "# Example usage\n",
        "if __name__ == \"__main__\":\n",
        "    A1 = [[1], [2]]\n",
        "    print(\"Output 1:\", max_sum_no_adjacent(A1))  # Output: 2\n",
        "\n",
        "    A2 = [[1, 2, 3, 4], [2, 3, 4, 5]]\n",
        "    print(\"Output 2:\", max_sum_no_adjacent(A2))  # Output: 8 (choosing 3 and 5)\n"
      ],
      "metadata": {
        "colab": {
          "base_uri": "https://localhost:8080/"
        },
        "id": "wTFzdT_vPitp",
        "outputId": "d7f9365f-05ee-43e9-b47b-f845e774f678"
      },
      "execution_count": 6,
      "outputs": [
        {
          "output_type": "stream",
          "name": "stdout",
          "text": [
            "Output 1: 2\n",
            "Output 2: 8\n"
          ]
        }
      ]
    },
    {
      "cell_type": "code",
      "source": [],
      "metadata": {
        "id": "O0W56HP6Py90"
      },
      "execution_count": null,
      "outputs": []
    }
  ]
}