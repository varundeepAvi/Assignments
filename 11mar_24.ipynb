{
  "nbformat": 4,
  "nbformat_minor": 0,
  "metadata": {
    "colab": {
      "provenance": []
    },
    "kernelspec": {
      "name": "python3",
      "display_name": "Python 3"
    },
    "language_info": {
      "name": "python"
    }
  },
  "cells": [
    {
      "cell_type": "code",
      "execution_count": null,
      "metadata": {
        "colab": {
          "base_uri": "https://localhost:8080/"
        },
        "id": "8bKHPAPOEPqy",
        "outputId": "e775589f-324e-4822-98f5-17a8298a8550"
      },
      "outputs": [
        {
          "output_type": "stream",
          "name": "stdout",
          "text": [
            "Mounted at /content/drive\n"
          ]
        }
      ],
      "source": [
        "from google.colab import drive\n",
        "drive.mount('/content/drive')\n",
        "\n"
      ]
    },
    {
      "cell_type": "code",
      "source": [
        "# Importing necessary libraries\n",
        "import pandas as pd\n",
        "import numpy as np\n",
        "\n",
        "# Reading data from the text file \"Ecommerce Purchases.txt\" into a pandas DataFrame\n",
        "df = pd.read_csv(\"/content/drive/MyDrive/Colab Notebooks/Ecommerce Purchases.txt\")\n",
        "\n",
        "# Saving the DataFrame to a new CSV file named \"New_file.csv\" without including the index\n",
        "df.to_csv(\"New_file.csv\", index=False)\n",
        "\n",
        "\n"
      ],
      "metadata": {
        "id": "3bhY5iZiE0R_"
      },
      "execution_count": 3,
      "outputs": []
    },
    {
      "cell_type": "code",
      "source": [],
      "metadata": {
        "id": "wL1tEIyjE9qq"
      },
      "execution_count": null,
      "outputs": []
    },
    {
      "cell_type": "markdown",
      "source": [
        "1.Check the head of dataframe\n"
      ],
      "metadata": {
        "id": "Vp_vfMZzF8Iq"
      }
    },
    {
      "cell_type": "code",
      "source": [
        "df.head()\n"
      ],
      "metadata": {
        "colab": {
          "base_uri": "https://localhost:8080/",
          "height": 608
        },
        "id": "OAGp4ZU_GAMj",
        "outputId": "78ec15d6-db76-4efc-8ad1-a82f2f600a6f"
      },
      "execution_count": 4,
      "outputs": [
        {
          "output_type": "execute_result",
          "data": {
            "text/plain": [
              "                                             Address    Lot AM or PM  \\\n",
              "0  16629 Pace Camp Apt. 448\\nAlexisborough, NE 77...  46 in       PM   \n",
              "1  9374 Jasmine Spurs Suite 508\\nSouth John, TN 8...  28 rn       PM   \n",
              "2                   Unit 0065 Box 5052\\nDPO AP 27450  94 vE       PM   \n",
              "3              7780 Julia Fords\\nNew Stacy, WA 45798  36 vm       PM   \n",
              "4  23012 Munoz Drive Suite 337\\nNew Cynthia, TX 5...  20 IE       AM   \n",
              "\n",
              "                                        Browser Info  \\\n",
              "0  Opera/9.56.(X11; Linux x86_64; sl-SI) Presto/2...   \n",
              "1  Opera/8.93.(Windows 98; Win 9x 4.90; en-US) Pr...   \n",
              "2  Mozilla/5.0 (compatible; MSIE 9.0; Windows NT ...   \n",
              "3  Mozilla/5.0 (Macintosh; Intel Mac OS X 10_8_0 ...   \n",
              "4  Opera/9.58.(X11; Linux x86_64; it-IT) Presto/2...   \n",
              "\n",
              "                           Company       Credit Card CC Exp Date  \\\n",
              "0                  Martinez-Herman  6011929061123406       02/20   \n",
              "1  Fletcher, Richards and Whitaker  3337758169645356       11/18   \n",
              "2       Simpson, Williams and Pham      675957666125       08/19   \n",
              "3  Williams, Marshall and Buchanan  6011578504430710       02/24   \n",
              "4        Brown, Watson and Andrews  6011456623207998       10/25   \n",
              "\n",
              "   CC Security Code                  CC Provider  \\\n",
              "0               900                 JCB 16 digit   \n",
              "1               561                   Mastercard   \n",
              "2               699                 JCB 16 digit   \n",
              "3               384                     Discover   \n",
              "4               678  Diners Club / Carte Blanche   \n",
              "\n",
              "                            Email                                     Job  \\\n",
              "0               pdunlap@yahoo.com  Scientist, product/process development   \n",
              "1              anthony41@reed.com                       Drilling engineer   \n",
              "2  amymiller@morales-harrison.com                Customer service manager   \n",
              "3     brent16@olson-robinson.info                       Drilling engineer   \n",
              "4     christopherwright@gmail.com                             Fine artist   \n",
              "\n",
              "        IP Address Language  Purchase Price  \n",
              "0  149.146.147.205       el           98.14  \n",
              "1     15.160.41.51       fr           70.73  \n",
              "2   132.207.160.22       de            0.95  \n",
              "3     30.250.74.19       es           78.04  \n",
              "4     24.140.33.94       es           77.82  "
            ],
            "text/html": [
              "\n",
              "  <div id=\"df-47563ae6-36df-4a8b-9025-a8b5f4266c7a\" class=\"colab-df-container\">\n",
              "    <div>\n",
              "<style scoped>\n",
              "    .dataframe tbody tr th:only-of-type {\n",
              "        vertical-align: middle;\n",
              "    }\n",
              "\n",
              "    .dataframe tbody tr th {\n",
              "        vertical-align: top;\n",
              "    }\n",
              "\n",
              "    .dataframe thead th {\n",
              "        text-align: right;\n",
              "    }\n",
              "</style>\n",
              "<table border=\"1\" class=\"dataframe\">\n",
              "  <thead>\n",
              "    <tr style=\"text-align: right;\">\n",
              "      <th></th>\n",
              "      <th>Address</th>\n",
              "      <th>Lot</th>\n",
              "      <th>AM or PM</th>\n",
              "      <th>Browser Info</th>\n",
              "      <th>Company</th>\n",
              "      <th>Credit Card</th>\n",
              "      <th>CC Exp Date</th>\n",
              "      <th>CC Security Code</th>\n",
              "      <th>CC Provider</th>\n",
              "      <th>Email</th>\n",
              "      <th>Job</th>\n",
              "      <th>IP Address</th>\n",
              "      <th>Language</th>\n",
              "      <th>Purchase Price</th>\n",
              "    </tr>\n",
              "  </thead>\n",
              "  <tbody>\n",
              "    <tr>\n",
              "      <th>0</th>\n",
              "      <td>16629 Pace Camp Apt. 448\\nAlexisborough, NE 77...</td>\n",
              "      <td>46 in</td>\n",
              "      <td>PM</td>\n",
              "      <td>Opera/9.56.(X11; Linux x86_64; sl-SI) Presto/2...</td>\n",
              "      <td>Martinez-Herman</td>\n",
              "      <td>6011929061123406</td>\n",
              "      <td>02/20</td>\n",
              "      <td>900</td>\n",
              "      <td>JCB 16 digit</td>\n",
              "      <td>pdunlap@yahoo.com</td>\n",
              "      <td>Scientist, product/process development</td>\n",
              "      <td>149.146.147.205</td>\n",
              "      <td>el</td>\n",
              "      <td>98.14</td>\n",
              "    </tr>\n",
              "    <tr>\n",
              "      <th>1</th>\n",
              "      <td>9374 Jasmine Spurs Suite 508\\nSouth John, TN 8...</td>\n",
              "      <td>28 rn</td>\n",
              "      <td>PM</td>\n",
              "      <td>Opera/8.93.(Windows 98; Win 9x 4.90; en-US) Pr...</td>\n",
              "      <td>Fletcher, Richards and Whitaker</td>\n",
              "      <td>3337758169645356</td>\n",
              "      <td>11/18</td>\n",
              "      <td>561</td>\n",
              "      <td>Mastercard</td>\n",
              "      <td>anthony41@reed.com</td>\n",
              "      <td>Drilling engineer</td>\n",
              "      <td>15.160.41.51</td>\n",
              "      <td>fr</td>\n",
              "      <td>70.73</td>\n",
              "    </tr>\n",
              "    <tr>\n",
              "      <th>2</th>\n",
              "      <td>Unit 0065 Box 5052\\nDPO AP 27450</td>\n",
              "      <td>94 vE</td>\n",
              "      <td>PM</td>\n",
              "      <td>Mozilla/5.0 (compatible; MSIE 9.0; Windows NT ...</td>\n",
              "      <td>Simpson, Williams and Pham</td>\n",
              "      <td>675957666125</td>\n",
              "      <td>08/19</td>\n",
              "      <td>699</td>\n",
              "      <td>JCB 16 digit</td>\n",
              "      <td>amymiller@morales-harrison.com</td>\n",
              "      <td>Customer service manager</td>\n",
              "      <td>132.207.160.22</td>\n",
              "      <td>de</td>\n",
              "      <td>0.95</td>\n",
              "    </tr>\n",
              "    <tr>\n",
              "      <th>3</th>\n",
              "      <td>7780 Julia Fords\\nNew Stacy, WA 45798</td>\n",
              "      <td>36 vm</td>\n",
              "      <td>PM</td>\n",
              "      <td>Mozilla/5.0 (Macintosh; Intel Mac OS X 10_8_0 ...</td>\n",
              "      <td>Williams, Marshall and Buchanan</td>\n",
              "      <td>6011578504430710</td>\n",
              "      <td>02/24</td>\n",
              "      <td>384</td>\n",
              "      <td>Discover</td>\n",
              "      <td>brent16@olson-robinson.info</td>\n",
              "      <td>Drilling engineer</td>\n",
              "      <td>30.250.74.19</td>\n",
              "      <td>es</td>\n",
              "      <td>78.04</td>\n",
              "    </tr>\n",
              "    <tr>\n",
              "      <th>4</th>\n",
              "      <td>23012 Munoz Drive Suite 337\\nNew Cynthia, TX 5...</td>\n",
              "      <td>20 IE</td>\n",
              "      <td>AM</td>\n",
              "      <td>Opera/9.58.(X11; Linux x86_64; it-IT) Presto/2...</td>\n",
              "      <td>Brown, Watson and Andrews</td>\n",
              "      <td>6011456623207998</td>\n",
              "      <td>10/25</td>\n",
              "      <td>678</td>\n",
              "      <td>Diners Club / Carte Blanche</td>\n",
              "      <td>christopherwright@gmail.com</td>\n",
              "      <td>Fine artist</td>\n",
              "      <td>24.140.33.94</td>\n",
              "      <td>es</td>\n",
              "      <td>77.82</td>\n",
              "    </tr>\n",
              "  </tbody>\n",
              "</table>\n",
              "</div>\n",
              "    <div class=\"colab-df-buttons\">\n",
              "\n",
              "  <div class=\"colab-df-container\">\n",
              "    <button class=\"colab-df-convert\" onclick=\"convertToInteractive('df-47563ae6-36df-4a8b-9025-a8b5f4266c7a')\"\n",
              "            title=\"Convert this dataframe to an interactive table.\"\n",
              "            style=\"display:none;\">\n",
              "\n",
              "  <svg xmlns=\"http://www.w3.org/2000/svg\" height=\"24px\" viewBox=\"0 -960 960 960\">\n",
              "    <path d=\"M120-120v-720h720v720H120Zm60-500h600v-160H180v160Zm220 220h160v-160H400v160Zm0 220h160v-160H400v160ZM180-400h160v-160H180v160Zm440 0h160v-160H620v160ZM180-180h160v-160H180v160Zm440 0h160v-160H620v160Z\"/>\n",
              "  </svg>\n",
              "    </button>\n",
              "\n",
              "  <style>\n",
              "    .colab-df-container {\n",
              "      display:flex;\n",
              "      gap: 12px;\n",
              "    }\n",
              "\n",
              "    .colab-df-convert {\n",
              "      background-color: #E8F0FE;\n",
              "      border: none;\n",
              "      border-radius: 50%;\n",
              "      cursor: pointer;\n",
              "      display: none;\n",
              "      fill: #1967D2;\n",
              "      height: 32px;\n",
              "      padding: 0 0 0 0;\n",
              "      width: 32px;\n",
              "    }\n",
              "\n",
              "    .colab-df-convert:hover {\n",
              "      background-color: #E2EBFA;\n",
              "      box-shadow: 0px 1px 2px rgba(60, 64, 67, 0.3), 0px 1px 3px 1px rgba(60, 64, 67, 0.15);\n",
              "      fill: #174EA6;\n",
              "    }\n",
              "\n",
              "    .colab-df-buttons div {\n",
              "      margin-bottom: 4px;\n",
              "    }\n",
              "\n",
              "    [theme=dark] .colab-df-convert {\n",
              "      background-color: #3B4455;\n",
              "      fill: #D2E3FC;\n",
              "    }\n",
              "\n",
              "    [theme=dark] .colab-df-convert:hover {\n",
              "      background-color: #434B5C;\n",
              "      box-shadow: 0px 1px 3px 1px rgba(0, 0, 0, 0.15);\n",
              "      filter: drop-shadow(0px 1px 2px rgba(0, 0, 0, 0.3));\n",
              "      fill: #FFFFFF;\n",
              "    }\n",
              "  </style>\n",
              "\n",
              "    <script>\n",
              "      const buttonEl =\n",
              "        document.querySelector('#df-47563ae6-36df-4a8b-9025-a8b5f4266c7a button.colab-df-convert');\n",
              "      buttonEl.style.display =\n",
              "        google.colab.kernel.accessAllowed ? 'block' : 'none';\n",
              "\n",
              "      async function convertToInteractive(key) {\n",
              "        const element = document.querySelector('#df-47563ae6-36df-4a8b-9025-a8b5f4266c7a');\n",
              "        const dataTable =\n",
              "          await google.colab.kernel.invokeFunction('convertToInteractive',\n",
              "                                                    [key], {});\n",
              "        if (!dataTable) return;\n",
              "\n",
              "        const docLinkHtml = 'Like what you see? Visit the ' +\n",
              "          '<a target=\"_blank\" href=https://colab.research.google.com/notebooks/data_table.ipynb>data table notebook</a>'\n",
              "          + ' to learn more about interactive tables.';\n",
              "        element.innerHTML = '';\n",
              "        dataTable['output_type'] = 'display_data';\n",
              "        await google.colab.output.renderOutput(dataTable, element);\n",
              "        const docLink = document.createElement('div');\n",
              "        docLink.innerHTML = docLinkHtml;\n",
              "        element.appendChild(docLink);\n",
              "      }\n",
              "    </script>\n",
              "  </div>\n",
              "\n",
              "\n",
              "<div id=\"df-a1ed59c3-fe90-4443-bdf0-7c458340a089\">\n",
              "  <button class=\"colab-df-quickchart\" onclick=\"quickchart('df-a1ed59c3-fe90-4443-bdf0-7c458340a089')\"\n",
              "            title=\"Suggest charts\"\n",
              "            style=\"display:none;\">\n",
              "\n",
              "<svg xmlns=\"http://www.w3.org/2000/svg\" height=\"24px\"viewBox=\"0 0 24 24\"\n",
              "     width=\"24px\">\n",
              "    <g>\n",
              "        <path d=\"M19 3H5c-1.1 0-2 .9-2 2v14c0 1.1.9 2 2 2h14c1.1 0 2-.9 2-2V5c0-1.1-.9-2-2-2zM9 17H7v-7h2v7zm4 0h-2V7h2v10zm4 0h-2v-4h2v4z\"/>\n",
              "    </g>\n",
              "</svg>\n",
              "  </button>\n",
              "\n",
              "<style>\n",
              "  .colab-df-quickchart {\n",
              "      --bg-color: #E8F0FE;\n",
              "      --fill-color: #1967D2;\n",
              "      --hover-bg-color: #E2EBFA;\n",
              "      --hover-fill-color: #174EA6;\n",
              "      --disabled-fill-color: #AAA;\n",
              "      --disabled-bg-color: #DDD;\n",
              "  }\n",
              "\n",
              "  [theme=dark] .colab-df-quickchart {\n",
              "      --bg-color: #3B4455;\n",
              "      --fill-color: #D2E3FC;\n",
              "      --hover-bg-color: #434B5C;\n",
              "      --hover-fill-color: #FFFFFF;\n",
              "      --disabled-bg-color: #3B4455;\n",
              "      --disabled-fill-color: #666;\n",
              "  }\n",
              "\n",
              "  .colab-df-quickchart {\n",
              "    background-color: var(--bg-color);\n",
              "    border: none;\n",
              "    border-radius: 50%;\n",
              "    cursor: pointer;\n",
              "    display: none;\n",
              "    fill: var(--fill-color);\n",
              "    height: 32px;\n",
              "    padding: 0;\n",
              "    width: 32px;\n",
              "  }\n",
              "\n",
              "  .colab-df-quickchart:hover {\n",
              "    background-color: var(--hover-bg-color);\n",
              "    box-shadow: 0 1px 2px rgba(60, 64, 67, 0.3), 0 1px 3px 1px rgba(60, 64, 67, 0.15);\n",
              "    fill: var(--button-hover-fill-color);\n",
              "  }\n",
              "\n",
              "  .colab-df-quickchart-complete:disabled,\n",
              "  .colab-df-quickchart-complete:disabled:hover {\n",
              "    background-color: var(--disabled-bg-color);\n",
              "    fill: var(--disabled-fill-color);\n",
              "    box-shadow: none;\n",
              "  }\n",
              "\n",
              "  .colab-df-spinner {\n",
              "    border: 2px solid var(--fill-color);\n",
              "    border-color: transparent;\n",
              "    border-bottom-color: var(--fill-color);\n",
              "    animation:\n",
              "      spin 1s steps(1) infinite;\n",
              "  }\n",
              "\n",
              "  @keyframes spin {\n",
              "    0% {\n",
              "      border-color: transparent;\n",
              "      border-bottom-color: var(--fill-color);\n",
              "      border-left-color: var(--fill-color);\n",
              "    }\n",
              "    20% {\n",
              "      border-color: transparent;\n",
              "      border-left-color: var(--fill-color);\n",
              "      border-top-color: var(--fill-color);\n",
              "    }\n",
              "    30% {\n",
              "      border-color: transparent;\n",
              "      border-left-color: var(--fill-color);\n",
              "      border-top-color: var(--fill-color);\n",
              "      border-right-color: var(--fill-color);\n",
              "    }\n",
              "    40% {\n",
              "      border-color: transparent;\n",
              "      border-right-color: var(--fill-color);\n",
              "      border-top-color: var(--fill-color);\n",
              "    }\n",
              "    60% {\n",
              "      border-color: transparent;\n",
              "      border-right-color: var(--fill-color);\n",
              "    }\n",
              "    80% {\n",
              "      border-color: transparent;\n",
              "      border-right-color: var(--fill-color);\n",
              "      border-bottom-color: var(--fill-color);\n",
              "    }\n",
              "    90% {\n",
              "      border-color: transparent;\n",
              "      border-bottom-color: var(--fill-color);\n",
              "    }\n",
              "  }\n",
              "</style>\n",
              "\n",
              "  <script>\n",
              "    async function quickchart(key) {\n",
              "      const quickchartButtonEl =\n",
              "        document.querySelector('#' + key + ' button');\n",
              "      quickchartButtonEl.disabled = true;  // To prevent multiple clicks.\n",
              "      quickchartButtonEl.classList.add('colab-df-spinner');\n",
              "      try {\n",
              "        const charts = await google.colab.kernel.invokeFunction(\n",
              "            'suggestCharts', [key], {});\n",
              "      } catch (error) {\n",
              "        console.error('Error during call to suggestCharts:', error);\n",
              "      }\n",
              "      quickchartButtonEl.classList.remove('colab-df-spinner');\n",
              "      quickchartButtonEl.classList.add('colab-df-quickchart-complete');\n",
              "    }\n",
              "    (() => {\n",
              "      let quickchartButtonEl =\n",
              "        document.querySelector('#df-a1ed59c3-fe90-4443-bdf0-7c458340a089 button');\n",
              "      quickchartButtonEl.style.display =\n",
              "        google.colab.kernel.accessAllowed ? 'block' : 'none';\n",
              "    })();\n",
              "  </script>\n",
              "</div>\n",
              "    </div>\n",
              "  </div>\n"
            ],
            "application/vnd.google.colaboratory.intrinsic+json": {
              "type": "dataframe",
              "variable_name": "df",
              "summary": "{\n  \"name\": \"df\",\n  \"rows\": 10000,\n  \"fields\": [\n    {\n      \"column\": \"Address\",\n      \"properties\": {\n        \"dtype\": \"string\",\n        \"num_unique_values\": 10000,\n        \"samples\": [\n          \"1606 Martin Roads Apt. 575\\nLake Bradleymouth, GU 86537-3756\",\n          \"8859 Jackson Motorway Suite 400\\nEast Samanthaland, DE 40105-9834\",\n          \"392 Andrew Loaf Suite 571\\nSouth Karen, GU 04082\"\n        ],\n        \"semantic_type\": \"\",\n        \"description\": \"\"\n      }\n    },\n    {\n      \"column\": \"Lot\",\n      \"properties\": {\n        \"dtype\": \"string\",\n        \"num_unique_values\": 9822,\n        \"samples\": [\n          \"60 uq\",\n          \"14 FY\",\n          \"54 iF\"\n        ],\n        \"semantic_type\": \"\",\n        \"description\": \"\"\n      }\n    },\n    {\n      \"column\": \"AM or PM\",\n      \"properties\": {\n        \"dtype\": \"category\",\n        \"num_unique_values\": 2,\n        \"samples\": [\n          \"AM\",\n          \"PM\"\n        ],\n        \"semantic_type\": \"\",\n        \"description\": \"\"\n      }\n    },\n    {\n      \"column\": \"Browser Info\",\n      \"properties\": {\n        \"dtype\": \"string\",\n        \"num_unique_values\": 8287,\n        \"samples\": [\n          \"Mozilla/5.0 (Macintosh; U; PPC Mac OS X 10_8_1 rv:2.0; en-US) AppleWebKit/534.29.5 (KHTML, like Gecko) Version/4.1 Safari/534.29.5\",\n          \"Mozilla/5.0 (Windows NT 4.0) AppleWebKit/5332 (KHTML, like Gecko) Chrome/14.0.891.0 Safari/5332\"\n        ],\n        \"semantic_type\": \"\",\n        \"description\": \"\"\n      }\n    },\n    {\n      \"column\": \"Company\",\n      \"properties\": {\n        \"dtype\": \"string\",\n        \"num_unique_values\": 8653,\n        \"samples\": [\n          \"Richards-Steele\",\n          \"Forbes, Orozco and Ellis\"\n        ],\n        \"semantic_type\": \"\",\n        \"description\": \"\"\n      }\n    },\n    {\n      \"column\": \"Credit Card\",\n      \"properties\": {\n        \"dtype\": \"number\",\n        \"std\": 2256102885223829,\n        \"min\": 60401860543,\n        \"max\": 6011999761615928,\n        \"num_unique_values\": 10000,\n        \"samples\": [\n          3528401718511980,\n          501814809031\n        ],\n        \"semantic_type\": \"\",\n        \"description\": \"\"\n      }\n    },\n    {\n      \"column\": \"CC Exp Date\",\n      \"properties\": {\n        \"dtype\": \"category\",\n        \"num_unique_values\": 121,\n        \"samples\": [\n          \"11/23\",\n          \"01/24\"\n        ],\n        \"semantic_type\": \"\",\n        \"description\": \"\"\n      }\n    },\n    {\n      \"column\": \"CC Security Code\",\n      \"properties\": {\n        \"dtype\": \"number\",\n        \"std\": 1589,\n        \"min\": 0,\n        \"max\": 9993,\n        \"num_unique_values\": 1758,\n        \"samples\": [\n          541,\n          341\n        ],\n        \"semantic_type\": \"\",\n        \"description\": \"\"\n      }\n    },\n    {\n      \"column\": \"CC Provider\",\n      \"properties\": {\n        \"dtype\": \"category\",\n        \"num_unique_values\": 10,\n        \"samples\": [\n          \"JCB 15 digit\",\n          \"Mastercard\"\n        ],\n        \"semantic_type\": \"\",\n        \"description\": \"\"\n      }\n    },\n    {\n      \"column\": \"Email\",\n      \"properties\": {\n        \"dtype\": \"string\",\n        \"num_unique_values\": 9954,\n        \"samples\": [\n          \"matthewwade@mcintyre.info\",\n          \"olsonscott@yahoo.com\"\n        ],\n        \"semantic_type\": \"\",\n        \"description\": \"\"\n      }\n    },\n    {\n      \"column\": \"Job\",\n      \"properties\": {\n        \"dtype\": \"category\",\n        \"num_unique_values\": 623,\n        \"samples\": [\n          \"Engineer, structural\",\n          \"Programmer, applications\"\n        ],\n        \"semantic_type\": \"\",\n        \"description\": \"\"\n      }\n    },\n    {\n      \"column\": \"IP Address\",\n      \"properties\": {\n        \"dtype\": \"string\",\n        \"num_unique_values\": 10000,\n        \"samples\": [\n          \"30.49.135.47\",\n          \"165.76.105.181\"\n        ],\n        \"semantic_type\": \"\",\n        \"description\": \"\"\n      }\n    },\n    {\n      \"column\": \"Language\",\n      \"properties\": {\n        \"dtype\": \"category\",\n        \"num_unique_values\": 9,\n        \"samples\": [\n          \"en\",\n          \"fr\"\n        ],\n        \"semantic_type\": \"\",\n        \"description\": \"\"\n      }\n    },\n    {\n      \"column\": \"Purchase Price\",\n      \"properties\": {\n        \"dtype\": \"number\",\n        \"std\": 29.01583630978903,\n        \"min\": 0.0,\n        \"max\": 99.99,\n        \"num_unique_values\": 6349,\n        \"samples\": [\n          8.61,\n          0.21\n        ],\n        \"semantic_type\": \"\",\n        \"description\": \"\"\n      }\n    }\n  ]\n}"
            }
          },
          "metadata": {},
          "execution_count": 4
        }
      ]
    },
    {
      "cell_type": "code",
      "source": [],
      "metadata": {
        "id": "FXj90-TeGBqU"
      },
      "execution_count": null,
      "outputs": []
    },
    {
      "cell_type": "markdown",
      "source": [
        "2. How many columns and rows are there?\n"
      ],
      "metadata": {
        "id": "JFC8CEJbGFN0"
      }
    },
    {
      "cell_type": "code",
      "source": [
        "# Getting the number of rows and columns in the DataFrame\n",
        "nrow = df.shape[0]  # Number of rows\n",
        "ncol = df.shape[1]  # Number of columns\n",
        "\n",
        "# Printing the number of rows and columns\n",
        "print(f\"Number of rows: {nrow}\")\n",
        "print(f\"Number of columns: {ncol}\")\n"
      ],
      "metadata": {
        "colab": {
          "base_uri": "https://localhost:8080/"
        },
        "id": "gDjROpUFGI_x",
        "outputId": "a57f6e1d-f83d-421b-b376-cdf989575194"
      },
      "execution_count": 5,
      "outputs": [
        {
          "output_type": "stream",
          "name": "stdout",
          "text": [
            "Number of rows: 10000\n",
            "Number of columns: 14\n"
          ]
        }
      ]
    },
    {
      "cell_type": "markdown",
      "source": [
        "what is Average Purchase Price?"
      ],
      "metadata": {
        "id": "JI_8zHNYGNFX"
      }
    },
    {
      "cell_type": "code",
      "source": [
        "# Calculating the average purchase price from the 'Purchase Price' column\n",
        "average_purchase_price = df['Purchase Price'].mean()\n",
        "\n",
        "# Printing the average purchase price\n",
        "print(f\"Average Purchasing price: {average_purchase_price}\")\n",
        "\n",
        ""
      ],
      "metadata": {
        "colab": {
          "base_uri": "https://localhost:8080/"
        },
        "id": "5SK6D0pkGLUD",
        "outputId": "4e9a8e68-8be2-4f54-9e14-7211d0634577"
      },
      "execution_count": 6,
      "outputs": [
        {
          "output_type": "stream",
          "name": "stdout",
          "text": [
            "Average Purchasing price: 50.347302\n"
          ]
        }
      ]
    },
    {
      "cell_type": "markdown",
      "source": [
        "3. What were the highest and lowest purchase prices?"
      ],
      "metadata": {
        "id": "28gbTNooGUMl"
      }
    },
    {
      "cell_type": "code",
      "source": [
        "# Finding the minimum and maximum purchase prices from the 'Purchase Price' column\n",
        "min_purchase_price = df['Purchase Price'].min()  # Minimum purchase price\n",
        "max_purchase_price = df['Purchase Price'].max()  # Maximum purchase price\n",
        "\n",
        "# Printing the minimum and maximum purchase prices\n",
        "print(f\"Minimum Purchasing Price: {min_purchase_price}\")\n",
        "print(f\"Maximum Purchasing Price: {max_purchase_price}\")\n",
        "\n",
        ""
      ],
      "metadata": {
        "colab": {
          "base_uri": "https://localhost:8080/"
        },
        "id": "6JbpTgcUGSP8",
        "outputId": "6d9a8d27-c1d5-4a74-e4e4-74ce070b234b"
      },
      "execution_count": 7,
      "outputs": [
        {
          "output_type": "stream",
          "name": "stdout",
          "text": [
            "Minimum Purchasing Price: 0.0\n",
            "Maximum Purchasing Price: 99.99\n"
          ]
        }
      ]
    },
    {
      "cell_type": "markdown",
      "source": [
        "4. How many people have English 'en' as their Language of choice on the website?\n",
        "\n"
      ],
      "metadata": {
        "id": "ulVBjCiFGc0N"
      }
    },
    {
      "cell_type": "code",
      "source": [
        "# Filtering the DataFrame to include only rows where the language is 'en' (English)\n",
        "English_lang = df[df['Language'] == 'en']\n",
        "\n",
        "# Getting the number of rows in the filtered DataFrame\n",
        "N = len(English_lang)\n",
        "\n",
        "# Printing the number of people who chose English as their language\n",
        "print(f\"Number of English (en) language choosing people: {N}\")\n"
      ],
      "metadata": {
        "colab": {
          "base_uri": "https://localhost:8080/"
        },
        "id": "f9Rc-qtnGamS",
        "outputId": "2c5e7df3-09d7-46e4-d6f3-b21cc08d253f"
      },
      "execution_count": 9,
      "outputs": [
        {
          "output_type": "stream",
          "name": "stdout",
          "text": [
            "Number of English (en) language choosing people: 1098\n"
          ]
        }
      ]
    },
    {
      "cell_type": "markdown",
      "source": [
        "5.How many people have the job title of \"Lawyer\" ?\n",
        "\n"
      ],
      "metadata": {
        "id": "Ll3r7Y3-Gpn8"
      }
    },
    {
      "cell_type": "code",
      "source": [
        "# Filtering the DataFrame to include only rows where the job is 'Lawyer'\n",
        "Law = df[df['Job'] == 'Lawyer']\n",
        "\n",
        "# Getting the number of rows in the filtered DataFrame\n",
        "N_law = len(Law)\n",
        "\n",
        "# Printing the number of lawyers purchasing goods\n",
        "print(f\"Number of lawyers purchasing goods: {N_law}\")\n",
        "\n",
        ""
      ],
      "metadata": {
        "colab": {
          "base_uri": "https://localhost:8080/"
        },
        "id": "n-nb4b1aGjDO",
        "outputId": "6aa784b3-459a-4145-b8bc-3495b3827a20"
      },
      "execution_count": 10,
      "outputs": [
        {
          "output_type": "stream",
          "name": "stdout",
          "text": [
            "Number of lawyers purchasing goods: 30\n"
          ]
        }
      ]
    },
    {
      "cell_type": "markdown",
      "source": [
        "6. How many people made the purchase during the AM and how many people made the purchase during PM ?\n",
        "\n"
      ],
      "metadata": {
        "id": "kcWv6RXcGwjg"
      }
    },
    {
      "cell_type": "code",
      "source": [
        "# Filtering the DataFrame to include only rows where the time period is 'AM' (early morning)\n",
        "M_T = df[df['AM or PM'] == 'AM']\n",
        "\n",
        "# Filtering the DataFrame to include only rows where the time period is 'PM' (afternoon or evening)\n",
        "E_T = df[df['AM or PM'] == 'PM']\n",
        "\n",
        "# Getting the number of rows in the filtered DataFrames\n",
        "n1 = len(M_T)  # Number of people making purchases during early morning (AM)\n",
        "n2 = len(E_T)  # Number of people making purchases during the remaining time (PM)\n",
        "\n",
        "# Printing the number of people making purchases during early morning (AM) period and during the remaining time (PM)\n",
        "print(f\"People making purchases during early morning (AM) period and during the remaining time (PM) respectively: {n1}, {n2}\")\n"
      ],
      "metadata": {
        "colab": {
          "base_uri": "https://localhost:8080/"
        },
        "id": "folmui4SGtQz",
        "outputId": "c01f32c2-c4c6-4142-fd72-32293a6a6081"
      },
      "execution_count": 11,
      "outputs": [
        {
          "output_type": "stream",
          "name": "stdout",
          "text": [
            "People making purchases during early morning (AM) period and during the remaining time (PM) respectively: 4932, 5068\n"
          ]
        }
      ]
    },
    {
      "cell_type": "code",
      "source": [],
      "metadata": {
        "id": "K_JV5U0AG1Iy"
      },
      "execution_count": null,
      "outputs": []
    },
    {
      "cell_type": "markdown",
      "source": [
        "7.What are the 5 most common Job Titles?\n"
      ],
      "metadata": {
        "id": "2gTWOZDrG3L8"
      }
    },
    {
      "cell_type": "code",
      "source": [
        "# Finding the 5 most common jobs by counting occurrences of each job and selecting the top 5\n",
        "most_common_jobs_5 = df['Job'].value_counts().nlargest(5)\n",
        "\n",
        "# Printing the 5 most common jobs\n",
        "print(most_common_jobs_5)"
      ],
      "metadata": {
        "colab": {
          "base_uri": "https://localhost:8080/"
        },
        "id": "Wv02auriG6wh",
        "outputId": "a9ca67ba-3794-4e8f-ba45-256b7baaa6be"
      },
      "execution_count": 12,
      "outputs": [
        {
          "output_type": "stream",
          "name": "stdout",
          "text": [
            "Interior and spatial designer    31\n",
            "Lawyer                           30\n",
            "Social researcher                28\n",
            "Purchasing manager               27\n",
            "Designer, jewellery              27\n",
            "Name: Job, dtype: int64\n"
          ]
        }
      ]
    },
    {
      "cell_type": "markdown",
      "source": [
        "8. Someone made a purchase that came from Lot: \"90 WT\" , what was the Purchase Price for this transaction?"
      ],
      "metadata": {
        "id": "_NGvbQbwG_YE"
      }
    },
    {
      "cell_type": "code",
      "source": [
        "# Finding the index of the first occurrence of the specified lot\n",
        "lot_purchase_index = df.loc[df['Lot'] == '90 WT'].index[0]\n",
        "\n",
        "# Finding the purchase price for the specified lot using its index\n",
        "purchase_price_for_lot = df.loc[lot_purchase_index, 'Purchase Price']\n",
        "\n",
        "# Printing the purchase price for Lot '90 WT'\n",
        "print(f\"Purchase Price for Lot '90 WT': {purchase_price_for_lot}\")"
      ],
      "metadata": {
        "colab": {
          "base_uri": "https://localhost:8080/"
        },
        "id": "O9z8jHzmG7rl",
        "outputId": "b1d20486-382a-4120-987a-a0e0a3003fb9"
      },
      "execution_count": 13,
      "outputs": [
        {
          "output_type": "stream",
          "name": "stdout",
          "text": [
            "Purchase Price for Lot '90 WT': 75.1\n"
          ]
        }
      ]
    },
    {
      "cell_type": "markdown",
      "source": [
        "9. What is the email of the person with the following Credit Card Number: 4926535242672853"
      ],
      "metadata": {
        "id": "fJ5HlwUWHHrj"
      }
    },
    {
      "cell_type": "code",
      "source": [
        "# Finding rows where the credit card number matches the specified value\n",
        "cred_user = df.loc[df['Credit Card'] == 4926535242672853]\n",
        "\n",
        "# Extracting the email of the user(s) with the specified credit card number\n",
        "user_mail = cred_user['Email']\n",
        "\n",
        "# Checking if any user(s) are found with the given credit card number\n",
        "if cred_user.shape[0] > 0:\n",
        "    # If user(s) are found, extracting the email of the first user and printing it\n",
        "    user_mail = cred_user['Email'].values[0]\n",
        "    print(f\"The email of the particular person: {user_mail}\")\n",
        "else:\n",
        "    # If no user is found with the given credit card number, printing a message\n",
        "    print(\"No user found with the given credit card number.\")"
      ],
      "metadata": {
        "colab": {
          "base_uri": "https://localhost:8080/"
        },
        "id": "29-HZhmiHEqZ",
        "outputId": "0f1be46d-e5d8-4ebe-85b9-70ace239e8e5"
      },
      "execution_count": 14,
      "outputs": [
        {
          "output_type": "stream",
          "name": "stdout",
          "text": [
            "The email of the particular person: bondellen@williams-garza.com\n"
          ]
        }
      ]
    },
    {
      "cell_type": "markdown",
      "source": [
        "10. How many people have American Express as their Credit Card Provider and made a purchase above $95 ?"
      ],
      "metadata": {
        "id": "CFmJLzLkHOBe"
      }
    },
    {
      "cell_type": "code",
      "source": [
        "# Filtering the DataFrame to include only rows where the credit card provider is 'American Express'\n",
        "AExpress_provider = df[df['CC Provider'] == 'American Express']\n",
        "\n",
        "# Counting the number of people with American Express as their CC Provider and making purchases above $95\n",
        "purchase_above_95 = len(AExpress_provider[AExpress_provider['Purchase Price'] > 95])\n",
        "\n",
        "# Printing the number of people having American Express as their CC Provider and making purchases above $95\n",
        "print(f\"Number of people having CC Provider American Express and making purchases above $95: {purchase_above_95}\")\n",
        "\n",
        ""
      ],
      "metadata": {
        "colab": {
          "base_uri": "https://localhost:8080/"
        },
        "id": "RltjNXLJHLau",
        "outputId": "ad6612f1-8fe9-4340-b078-384a4668ad3d"
      },
      "execution_count": 15,
      "outputs": [
        {
          "output_type": "stream",
          "name": "stdout",
          "text": [
            "Number of people having CC Provider American Express and making purchases above $95: 39\n"
          ]
        }
      ]
    },
    {
      "cell_type": "markdown",
      "source": [
        "11. How many people have a credit card that expires in 2025?"
      ],
      "metadata": {
        "id": "_UBUPIzLHWwg"
      }
    },
    {
      "cell_type": "code",
      "source": [
        "import re\n",
        "\n",
        "# Define the pattern for matching credit card expiration dates ending with '25'\n",
        "pattern = r'\\d{2}/25'\n",
        "\n",
        "# Filtering the DataFrame to include only rows where the credit card expiration date matches the pattern\n",
        "Expire25 = df[df['CC Exp Date'].str.contains(pattern)]\n",
        "\n",
        "# Counting the number of people with credit cards expiring in the year 2025\n",
        "N_people = len(Expire25)\n",
        "\n",
        "# Printing the number of people having credit cards expired in the year 2025\n",
        "print(f\"The number of people having credit card expired in year 2025: {N_people}\")\n"
      ],
      "metadata": {
        "colab": {
          "base_uri": "https://localhost:8080/"
        },
        "id": "mE5LXiEWHPyq",
        "outputId": "fba68f1c-1286-4cd0-b33a-5d19ba1f67db"
      },
      "execution_count": 16,
      "outputs": [
        {
          "output_type": "stream",
          "name": "stdout",
          "text": [
            "The number of people having credit card expired in year 2025: 1033\n"
          ]
        }
      ]
    },
    {
      "cell_type": "markdown",
      "source": [
        "12.. What are the top 5 most popular email providers/hosts (e.g. gmail.com, yahoo.com, etc...)\n",
        "\n"
      ],
      "metadata": {
        "id": "bYewS9z7HdPc"
      }
    },
    {
      "cell_type": "code",
      "source": [
        "# Extracting email domains from the 'Email' column\n",
        "emails = df[\"Email\"].tolist()\n",
        "providers = [email.split(\"@\")[1] for email in emails]\n",
        "\n",
        "# Counting occurrences of each email domain\n",
        "provider_counts = {}\n",
        "for provider in providers:\n",
        "    if provider not in provider_counts:\n",
        "        provider_counts[provider] = 0\n",
        "    provider_counts[provider] += 1\n",
        "\n",
        "# Sorting the email domains based on their occurrence count\n",
        "sorted_providers = sorted(provider_counts.items(), key=lambda item: item[1], reverse=True)\n",
        "\n",
        "# Printing the top 5 email providers/hosts\n",
        "print(\"Top 5 email providers/hosts:\")\n",
        "for i in range(5):\n",
        "    print(f\"{i+1}. {sorted_providers[i][0]} ({sorted_providers[i][1]})\")\n"
      ],
      "metadata": {
        "colab": {
          "base_uri": "https://localhost:8080/"
        },
        "id": "if-dmuMmHWiL",
        "outputId": "585adbad-8b54-431e-fcfc-7e9a9bbe2435"
      },
      "execution_count": 17,
      "outputs": [
        {
          "output_type": "stream",
          "name": "stdout",
          "text": [
            "Top 5 email providers/hosts:\n",
            "1. hotmail.com (1638)\n",
            "2. yahoo.com (1616)\n",
            "3. gmail.com (1605)\n",
            "4. smith.com (42)\n",
            "5. williams.com (37)\n"
          ]
        }
      ]
    },
    {
      "cell_type": "code",
      "source": [],
      "metadata": {
        "id": "aggb_uyOHifo"
      },
      "execution_count": null,
      "outputs": []
    }
  ]
}