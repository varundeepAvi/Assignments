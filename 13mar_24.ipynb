{
  "nbformat": 4,
  "nbformat_minor": 0,
  "metadata": {
    "colab": {
      "provenance": []
    },
    "kernelspec": {
      "name": "python3",
      "display_name": "Python 3"
    },
    "language_info": {
      "name": "python"
    }
  },
  "cells": [
    {
      "cell_type": "code",
      "execution_count": null,
      "metadata": {
        "id": "6EwNNS2xUSEu"
      },
      "outputs": [],
      "source": [
        "USE DB;\n",
        "\n",
        "-- Query to find customer ids that bought all products\n",
        "/* Find customer ids from Customer table who bought all products listed in Product table */\n",
        "SELECT * FROM Product;\n",
        "SELECT * FROM Customer;\n",
        "SELECT customer_id FROM Customer GROUP BY customer_id HAVING COUNT(DISTINCT product_key) = (SELECT COUNT(*) FROM Product);\n",
        "\n",
        "-- Query to find products that are both low fat and recyclable\n",
        "/* Find product ids of products that are both low fat and recyclable */\n",
        "SELECT * FROM products;\n",
        "SELECT product_id FROM Products WHERE low_fats='Y' AND recyclable='Y';\n",
        "\n",
        "-- Query to determine if three line segments can form a triangle\n",
        "/* Determine if three line segments can form a triangle */\n",
        "SELECT * FROM Triangle;\n",
        "SELECT x,y,z,\n",
        "\tCASE\n",
        "\t\tWHEN x+y>z AND x+z>y AND y+z>x THEN 'Yes'\n",
        "\t\tELSE 'No'\n",
        "\tEND AS triangle\n",
        "FROM Triangle;\n",
        "\n",
        "-- Query to find activities with neither maximum nor minimum participants\n",
        "/* Find activities with neither maximum nor minimum participants */\n",
        "SELECT * FROM Friends;\n",
        "SELECT * FROM Activities;\n",
        "SELECT activity\n",
        "FROM Friends\n",
        "GROUP BY activity\n",
        "HAVING COUNT(activity) != (\n",
        "\tSELECT MAX(activity_count) FROM (\n",
        "\t\tSELECT COUNT(activity) AS activity_count\n",
        "\t\tFROM Friends\n",
        "\t\tGROUP BY activity\n",
        "        ) AS subquery\n",
        ") AND COUNT(activity) != (\n",
        "\tSELECT MIN(activity_count) FROM (\n",
        "\t\tSELECT COUNT(activity) AS activity_count\n",
        "\t\tFROM Friends\n",
        "\t\tGROUP BY activity\n",
        "       ) AS subquery\n",
        "    );\n",
        "\n",
        "-- Query to list classes with five or more students\n",
        "/* List classes with five or more students */\n",
        "SELECT class\n",
        "FROM courses\n",
        "GROUP BY class\n",
        "HAVING COUNT(student) >= 5;\n",
        "\n",
        "-- Query to find duplicate emails in the Person table\n",
        "/* Find duplicate emails in the Person table */\n",
        "SELECT Email\n",
        "FROM Person\n",
        "GROUP BY Email\n",
        "HAVING COUNT(*) > 1;\n",
        "\n",
        "\n",
        "-- Query to find number of comments per each post\n",
        "/* Find number of comments per each post */\n",
        "-- SELECT * FROM Submissions\n",
        "SELECT s.sub_id AS post_id,\n",
        "COUNT(DISTINCT c.sub_id) AS number_of_comments\n",
        "FROM Submissions s LEFT JOIN Submissions c ON s.sub_id=c.parent_id\n",
        "WHERE s.parent_id IS NULL\n",
        "GROUP BY s.sub_id\n",
        "ORDER BY s.sub_id;\n",
        "\n"
      ]
    }
  ]
}