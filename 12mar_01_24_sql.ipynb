{
  "nbformat": 4,
  "nbformat_minor": 0,
  "metadata": {
    "colab": {
      "provenance": []
    },
    "kernelspec": {
      "name": "python3",
      "display_name": "Python 3"
    },
    "language_info": {
      "name": "python"
    }
  },
  "cells": [
    {
      "cell_type": "code",
      "execution_count": null,
      "metadata": {
        "id": "ZJSW83MWQzXC"
      },
      "outputs": [],
      "source": [
        "-- Write a SQL query to get the second highest salary\n",
        "-- Select all records from the secondhigh table\n",
        "SELECT * FROM secondhigh;\n",
        "-- Retrieve the maximum salary as the second highest salary by filtering out the maximum salary from the table\n",
        "SELECT MAX(Salary) AS SecondHighestSalary FROM Secondhigh WHERE Salary < (SELECT MAX(Salary) FROM Secondhigh);\n",
        "\n",
        "-- Write an SQL query to report the number of calls and the total call duration between each pair of distinct persons (person1, person2) where person1 < person2\n",
        "-- Select all records from the duration table\n",
        "SELECT * FROM duration;\n",
        "-- Retrieve the number of calls and the total call duration between each pair of distinct persons where person1 < person2\n",
        "SELECT\n",
        "    least(from_id, to_id) AS person1,\n",
        "    greatest(from_id, to_id) AS person2,\n",
        "    count(*) AS call_count,\n",
        "    SUM(duration) AS total_duration\n",
        "FROM\n",
        "    Duration\n",
        "GROUP BYx\n",
        "    least(from_id, to_id),\n",
        "    greatest(from_id, to_id);\n",
        "\n",
        "-- Pivot the continent column in this table so that each name is sorted alphabetically and displayed underneath its corresponding continent. The output headers should be America, Asia, and Europe respectively. It is guaranteed that the student number from America is no less than either Asia or Europe.\n",
        "-- Select all records from the student table\n",
        "SELECT * FROM student;\n",
        "-- Pivot the continent column to display names alphabetically under their corresponding continents\n",
        "SELECT\n",
        "    MAX(CASE WHEN continent = 'America' THEN name END) AS America,\n",
        "    MAX(CASE WHEN continent = 'Asia' THEN name END) AS Asia,\n",
        "    MAX(CASE WHEN continent = 'Europe' THEN name END) AS Europe\n",
        "FROM\n",
        "    student\n",
        "GROUP BY\n",
        "    name\n",
        "ORDER BY\n",
        "    America;"
      ]
    }
  ]
}