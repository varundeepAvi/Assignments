{
  "nbformat": 4,
  "nbformat_minor": 0,
  "metadata": {
    "colab": {
      "provenance": []
    },
    "kernelspec": {
      "name": "python3",
      "display_name": "Python 3"
    },
    "language_info": {
      "name": "python"
    }
  },
  "cells": [
    {
      "cell_type": "markdown",
      "source": [
        "1.Write a NumPy program to test whether each element of a 1-D array is also present in a second array.\n",
        "Expected Output:\n",
        "Array1: [ 0 10 20 40 60]\n",
        "Array2: [0, 40]\n",
        "Compare each element of array1 and array2\n",
        "Output: [ True False False True False]\n",
        "\n"
      ],
      "metadata": {
        "id": "c1S8p4vNXTeg"
      }
    },
    {
      "cell_type": "code",
      "execution_count": 3,
      "metadata": {
        "colab": {
          "base_uri": "https://localhost:8080/"
        },
        "id": "JPW9YpJMfJ6m",
        "outputId": "7b79ff00-d5bb-4abd-f03a-c31affc57a71"
      },
      "outputs": [
        {
          "output_type": "stream",
          "name": "stdout",
          "text": [
            "Array1: [ 0 10 20 40 60]\n",
            "Array2: [ 0 40]\n",
            "Compare each element of array1 and array2\n",
            "Output: [ True  True]\n"
          ]
        }
      ],
      "source": [
        "import numpy as np\n",
        "\n",
        "array1 = np.array([0, 10, 20, 40, 60])\n",
        "array2 = np.array([0, 40])\n",
        "\n",
        "output = np.isin(array2 , array1)\n",
        "\n",
        "print(\"Array1:\", array1)\n",
        "print(\"Array2:\", array2)\n",
        "print(\"Compare each element of array1 and array2\")\n",
        "print(\"Output:\", output)"
      ]
    },
    {
      "cell_type": "code",
      "source": [],
      "metadata": {
        "id": "ngfnjvXpgO2I"
      },
      "execution_count": null,
      "outputs": []
    },
    {
      "cell_type": "markdown",
      "source": [
        "2.Write a NumPy program to get the unique elements of an array\n",
        "Expected Output:\n",
        "Original array:\n",
        "[10 10 20 20 30 30]\n",
        "Unique elements of the above array:\n",
        "[10 20 30]\n",
        "Original array:\n",
        "[[1 1]\n",
        "[2 3]]\n",
        "Unique elements of the above array:\n",
        "[1 2 3]"
      ],
      "metadata": {
        "id": "d0KlHuUrgnB8"
      }
    },
    {
      "cell_type": "code",
      "source": [
        "array1= np.array([10, 10, 20, 20, 30, 40, 40])\n",
        "array2 = np.array([[1, 1],[2, 3]])\n",
        "\n",
        "#print(\"\")\n",
        "print(\"Original array:\")\n",
        "print(array1)\n",
        "\n",
        "unique_ele = np.unique(array1)\n",
        "\n",
        "#print()\n",
        "print(\"Unique elements of the above array:\")\n",
        "print(unique_ele)\n",
        "\n",
        "#print original array\n",
        "print(\"Original array:\")\n",
        "print(array2)\n",
        "\n",
        "unique_ele = np.unique(array2)\n",
        "\n",
        "print(\"Unique elements of the above array:\")\n",
        "\n",
        "print(unique_ele)\n",
        "\n"
      ],
      "metadata": {
        "id": "9xnvIxkRgoCz"
      },
      "execution_count": null,
      "outputs": []
    },
    {
      "cell_type": "markdown",
      "source": [],
      "metadata": {
        "id": "-2ndJ6LthTJJ"
      }
    },
    {
      "cell_type": "markdown",
      "source": [
        "3.Write a NumPy program to sort an along the first, last axis of an array.\n",
        "Sample array: [[2,5],[4,4]]\n",
        "Expected Output:\n",
        "Original array:\n",
        "[[4 6]\n",
        "[2 1]]\n",
        "Sort along the first axis:\n",
        "[[2 1]\n",
        "[4 6]]\n",
        "Sort along the last axis:\n",
        "[[1 2]\n",
        "[4 6]]\n"
      ],
      "metadata": {
        "id": "gQBI_pDrXbdn"
      }
    },
    {
      "cell_type": "code",
      "source": [
        "import numpy as np\n",
        "\n",
        "# Define the sample array\n",
        "sample_array = np.array([[4, 6], [2, 1]])\n",
        "\n",
        "# Print the original array\n",
        "print(\"Original array:\")\n",
        "print(sample_array)\n",
        "\n",
        "# Sort along the first axis\n",
        "sorted_first_axis = np.sort(sample_array, axis = 0)\n",
        "#sorted_first_axis = np.sort(sample_array, axis=0)\n",
        "print(\"Sort along the first axis:\")\n",
        "print(sorted_first_axis)\n",
        "\n",
        "# Sort along the last axis\n",
        "sorted_last_axis = np.sort(sample_array, axis = -1)\n",
        "#sorted_last_axis = np.sort(sample_array, axis=-1)\n",
        "print(\"Sort along the last axis:\")\n",
        "print(sorted_last_axis)\n"
      ],
      "metadata": {
        "colab": {
          "base_uri": "https://localhost:8080/"
        },
        "id": "EfSyyxE3itM0",
        "outputId": "a4da3d88-6b9b-4d93-ddfa-e77c72305c82"
      },
      "execution_count": 4,
      "outputs": [
        {
          "output_type": "stream",
          "name": "stdout",
          "text": [
            "Original array:\n",
            "[[4 6]\n",
            " [2 1]]\n",
            "Sort along the first axis:\n",
            "[[2 1]\n",
            " [4 6]]\n",
            "Sort along the last axis:\n",
            "[[4 6]\n",
            " [1 2]]\n"
          ]
        }
      ]
    },
    {
      "cell_type": "markdown",
      "source": [
        "4.Write a NumPy program to count the occurrence of a specified item in a given NumPy array.\n",
        "Sample Output:\n",
        "Original array:\n",
        "[10 20 20 20 20 0 20 30 30 30 0 0 20 20 0]\n",
        "[4,1,7,3]\n"
      ],
      "metadata": {
        "id": "uAyIQyy5jQbY"
      }
    },
    {
      "cell_type": "code",
      "source": [
        "array1 = np.array([0, 20, 30, 30, 30, 0, 0, 20, 20, 0])\n",
        "\n",
        "specified_item = 4\n",
        "\n",
        "occurence = np.count_nonzero(array1 == specified_item)\n",
        "\n",
        "print(\"Original array:\")\n",
        "print(array1)\n",
        "print(\"Occurrences of\", specified_item, \":\", occurence)"
      ],
      "metadata": {
        "colab": {
          "base_uri": "https://localhost:8080/"
        },
        "id": "S-H3cb3qlbsi",
        "outputId": "94ca9702-5f70-44f2-a3b2-63522bdb808d"
      },
      "execution_count": 7,
      "outputs": [
        {
          "output_type": "stream",
          "name": "stdout",
          "text": [
            "Original array:\n",
            "[ 0 20 30 30 30  0  0 20 20  0]\n",
            "Occurrences of 4 : 0\n"
          ]
        }
      ]
    },
    {
      "cell_type": "code",
      "source": [
        "original_array = np.array([[1,2, 3],\n",
        "                            [4, 5, 6],\n",
        "                           [ 7 ,8, 9]])\n",
        "\n",
        "specified_item = 5\n",
        "\n",
        "boolean_array =  original_array == specified_item\n",
        "\n",
        "print(boolean_array)\n",
        "occurence = np.count_nonzero(boolean_array)\n",
        "print(occurence)"
      ],
      "metadata": {
        "colab": {
          "base_uri": "https://localhost:8080/"
        },
        "id": "F03Z7XZkjNDT",
        "outputId": "5c8b578b-c756-4da1-8061-8226b4c82bbd"
      },
      "execution_count": 10,
      "outputs": [
        {
          "output_type": "stream",
          "name": "stdout",
          "text": [
            "[[False False False]\n",
            " [False  True False]\n",
            " [False False False]]\n",
            "1\n"
          ]
        }
      ]
    },
    {
      "cell_type": "code",
      "source": [],
      "metadata": {
        "id": "PvzCNgeqmpt1"
      },
      "execution_count": null,
      "outputs": []
    },
    {
      "cell_type": "markdown",
      "source": [
        "5.Write a NumPy program to remove nan values from a given array.\n",
        "Sample Output:\n",
        "Original array:\n",
        "[200. 300. nan nan nan 700.]\n",
        "After removing nan values:\n",
        "[200. 300. 700.]"
      ],
      "metadata": {
        "id": "K_mJgDUHm8a9"
      }
    },
    {
      "cell_type": "code",
      "source": [
        "import numpy as np\n",
        "\n",
        "# Define the original array\n",
        "original_array = np.array([200, 300, np.nan, np.nan, np.nan, 700])\n",
        "\n",
        "# Print the original array\n",
        "print(\"Original array:\")\n",
        "print(original_array)\n",
        "\n",
        "# Remove NaN values using boolean indexing\n",
        "array_without_nan = original_array[~np.isnan(original_array)]\n",
        "\n",
        "# Print the array after removing NaN values\n",
        "print(\"After removing nan values:\")\n",
        "print(array_without_nan)\n"
      ],
      "metadata": {
        "colab": {
          "base_uri": "https://localhost:8080/"
        },
        "id": "GS0khHVdnBEM",
        "outputId": "92b9541e-301b-4b7c-8089-5240fda7ed83"
      },
      "execution_count": 12,
      "outputs": [
        {
          "output_type": "stream",
          "name": "stdout",
          "text": [
            "Original array:\n",
            "[200. 300.  nan  nan  nan 700.]\n",
            "After removing nan values:\n",
            "[200. 300. 700.]\n"
          ]
        }
      ]
    },
    {
      "cell_type": "code",
      "source": [
        ""
      ],
      "metadata": {
        "colab": {
          "base_uri": "https://localhost:8080/"
        },
        "id": "MBafTxKopIhK",
        "outputId": "ad7058ea-902c-47e9-bebb-c38634c4ec81"
      },
      "execution_count": 17,
      "outputs": [
        {
          "output_type": "stream",
          "name": "stdout",
          "text": [
            "Original array:\n",
            "[200. 300.  nan  nan  nan 700.]\n",
            "[ True  True False False False  True]\n",
            "[200. 300. 700.]\n"
          ]
        }
      ]
    },
    {
      "cell_type": "code",
      "source": [
        ""
      ],
      "metadata": {
        "id": "2zRIxfq9pZ_v"
      },
      "execution_count": null,
      "outputs": []
    },
    {
      "cell_type": "markdown",
      "source": [
        "7.Write a NumPy program to find indices of elements equal to zero in a NumPy array.\n",
        "Sample Output:\n",
        "Original array:\n",
        "[1 0 2 0 3 0 4 5 6 7 8]\n",
        "Indices of elements equal to zero of the said array:\n",
        "[1 3 5]\n"
      ],
      "metadata": {
        "id": "m6EiRX0KsuH6"
      }
    },
    {
      "cell_type": "code",
      "source": [
        "import numpy as np\n",
        "\n",
        "# Define the original array\n",
        "original_array = np.array([1, 0, 2, 0, 3, 0, 4, 5, 6, 7, 8])\n",
        "\n",
        "# Print the original array\n",
        "print(\"Original array:\")\n",
        "print(original_array)\n",
        "\n",
        "# Find indices of elements equal to zero\n",
        "zero_indices = np.where(original_array == 0)[0]\n",
        "\n",
        "#zero_indices = np.where(original_array == 0)[0]\n",
        "\n",
        "# Print the indices of elements equal to zero\n",
        "print(\"Indices of elements equal to zero of the said array:\")\n",
        "print(zero_indices)\n"
      ],
      "metadata": {
        "colab": {
          "base_uri": "https://localhost:8080/"
        },
        "id": "ORNJOrVEsvEK",
        "outputId": "61e9ca5e-e101-472b-ace8-ceff6806f825"
      },
      "execution_count": 1,
      "outputs": [
        {
          "output_type": "stream",
          "name": "stdout",
          "text": [
            "Original array:\n",
            "[1 0 2 0 3 0 4 5 6 7 8]\n",
            "Indices of elements equal to zero of the said array:\n",
            "[1 3 5]\n"
          ]
        }
      ]
    },
    {
      "cell_type": "markdown",
      "source": [
        "8.Write a NumPy program to round elements of the array to the nearest integer, and then calculate the abslute value element wise.\n",
        "Sample Output:\n",
        "Original array:\n",
        "[-0.7 -1.5 -1.7 0.3 1.5 1.8 2. ]\n",
        "Round elements of the array to the nearest integer:\n",
        "[1. 2. 2. 0. 2. 2. 2.]\n"
      ],
      "metadata": {
        "id": "syJP4blqGyj5"
      }
    },
    {
      "cell_type": "code",
      "source": [
        "import numpy as np\n",
        "\n",
        "# Define the original array\n",
        "original_array = np.array([-0.7, -1.5, -1.7, 0.3, 1.5, 1.8, 2.])\n",
        "\n",
        "# Print the original array\n",
        "print(\"Original array:\")\n",
        "print(original_array)\n",
        "\n",
        "rounded_array = np.round(original_array)\n",
        "print(\"Round elements of the array to the nearest integer:\")\n",
        "print(rounded_array)\n",
        "\n",
        "\n",
        "absolute_array = np.abs(rounded_array)\n",
        "\n",
        "print(\"Absolute value of elements in the rounded array:\")\n",
        "\n",
        "print(absolute_array)\n",
        "\n",
        "\n"
      ],
      "metadata": {
        "colab": {
          "base_uri": "https://localhost:8080/"
        },
        "id": "Im_s6vY8HDwN",
        "outputId": "fda343ea-3d1a-46b4-ab9c-1a9b816d19c0"
      },
      "execution_count": 2,
      "outputs": [
        {
          "output_type": "stream",
          "name": "stdout",
          "text": [
            "Original array:\n",
            "[-0.7 -1.5 -1.7  0.3  1.5  1.8  2. ]\n",
            "Round elements of the array to the nearest integer:\n",
            "[-1. -2. -2.  0.  2.  2.  2.]\n",
            "Absolute value of elements in the rounded array:\n",
            "[1. 2. 2. 0. 2. 2. 2.]\n"
          ]
        }
      ]
    },
    {
      "cell_type": "code",
      "source": [],
      "metadata": {
        "id": "zk9zdeIiGioh"
      },
      "execution_count": null,
      "outputs": []
    },
    {
      "cell_type": "markdown",
      "source": [
        "9.Write a NumPy program to calculate the difference between neighboring elements, element-wise, and prepend [0, 0] and append[200] to a given array.\n",
        "Sample output:\n",
        "Original array:\n",
        "[1 3 5 7 0]\n",
        "Difference between neighboring elements, element-wise, and prepend [0, 0] and append[200] to the said array:\n",
        "[ 0 0 2 2 2 -7 200]\n"
      ],
      "metadata": {
        "id": "IG_oAbTOJD23"
      }
    },
    {
      "cell_type": "code",
      "source": [
        "arr1 =  np.array([1, 3, 5 ,7 ,0])\n",
        "\n",
        "\n",
        "arr_diff = np.diff(arr1)\n",
        "\n",
        "arr_diff = np.concatenate(([0,0], arr_diff))\n",
        "\n",
        "arr_diff= np.append(arr_diff, [200] )\n",
        "\n",
        "\n",
        "print(\"Difference between neighboring elements, element-wise, and prepend [0, 0] and append [200] to the said array:\")\n",
        "print(arr_diff)\n",
        "\n"
      ],
      "metadata": {
        "colab": {
          "base_uri": "https://localhost:8080/"
        },
        "id": "CcAeQGhHJFLh",
        "outputId": "79bff978-0848-4a43-fa9d-9a2008d19829"
      },
      "execution_count": 4,
      "outputs": [
        {
          "output_type": "stream",
          "name": "stdout",
          "text": [
            "Difference between neighboring elements, element-wise, and prepend [0, 0] and append [200] to the said array:\n",
            "[  0   0   2   2   2  -7 200]\n"
          ]
        }
      ]
    },
    {
      "cell_type": "code",
      "source": [],
      "metadata": {
        "id": "qJI2gZmgKdkc"
      },
      "execution_count": null,
      "outputs": []
    },
    {
      "cell_type": "markdown",
      "source": [
        "10.Write a NumPy program to get the indices of the sorted elements of a given array.\n",
        "Expected Output:\n",
        "Original array:\n",
        "[1023 5202 6230 1671 1682 5241 4532]\n",
        "Indices of the sorted elements of a given array:\n",
        "[0 3 4 6 1 5 2]"
      ],
      "metadata": {
        "id": "qjtaw5QxKyCW"
      }
    },
    {
      "cell_type": "code",
      "source": [
        "import numpy as np\n",
        "\n",
        "# Define the original array\n",
        "original_array = np.array([1023, 5202, 6230, 1671, 1682, 5241, 4532])\n",
        "\n",
        "# Print the original array\n",
        "print(\"Original array:\")\n",
        "print(original_array)\n",
        "\n",
        "# Get the indices of the sorted elements\n",
        "sorted_indices = np.argsort(original_array)\n",
        "\n",
        "# Print the sorted indices\n",
        "print(\"Indices of the sorted elements of a given array:\")\n",
        "print(sorted_indices)\n",
        "\n",
        "\n",
        "\n"
      ],
      "metadata": {
        "colab": {
          "base_uri": "https://localhost:8080/"
        },
        "id": "qtvNXo_nKynj",
        "outputId": "2c1beb46-8ba5-40f9-d18d-d5a85ebb7e41"
      },
      "execution_count": 6,
      "outputs": [
        {
          "output_type": "stream",
          "name": "stdout",
          "text": [
            "Original array:\n",
            "[1023 5202 6230 1671 1682 5241 4532]\n",
            "Indices of the sorted elements of a given array:\n",
            "[0 3 4 6 1 5 2]\n"
          ]
        }
      ]
    },
    {
      "cell_type": "code",
      "source": [],
      "metadata": {
        "id": "4X9qv6OOLqo-"
      },
      "execution_count": null,
      "outputs": []
    },
    {
      "cell_type": "markdown",
      "source": [
        "11.Write a NumPy program to partition a given array in a specified position and move all the smaller elements values to the left of the partition, and the remaining values to the right, in arbitrary order (based on random choice).\n",
        "Sample output:\n",
        "Original array:\n",
        "[ 70 50 20 30 -11 60 50 40]\n",
        "After partitioning on 4 the position:\n",
        "[-11 30 20 40 50 50 60 70]"
      ],
      "metadata": {
        "id": "-qtrchvYM6k0"
      }
    },
    {
      "cell_type": "code",
      "source": [
        "import numpy as np\n",
        "\n",
        "# Define the original array\n",
        "original_array = np.array([70, 50, 20, 30, -11, 60, 50, 40])\n",
        "\n",
        "# Print the original array\n",
        "print(\"Original array:\")\n",
        "print(original_array)\n",
        "\n",
        "# Define the partition position\n",
        "partition_position = 4\n",
        "\n",
        "# Partition the array\n",
        "\n",
        "np.random.shuffle(original_array)\n",
        "partitioned_array = np.partition(original_array, partition_position)\n",
        "\n",
        "# Print the partitioned array\n",
        "print(\"After partitioning on the position:\", partition_position)\n",
        "print(partitioned_array)\n"
      ],
      "metadata": {
        "id": "cj1qLY0fM8Bl"
      },
      "execution_count": null,
      "outputs": []
    },
    {
      "cell_type": "markdown",
      "source": [
        "12.Problem 12\n",
        "Compute the euclidean distance between two arrays a and b.\n",
        "Input:\n",
        "[1,2,3,4,5]\n",
        "[4,5,6,7,8]\n",
        "Euclidean distance is: 6.7082"
      ],
      "metadata": {
        "id": "g-YIOJUwYUmc"
      }
    },
    {
      "cell_type": "code",
      "source": [
        "import numpy as np\n",
        "\n",
        "# Input arrays\n",
        "a = np.array([1, 2, 3, 4, 5])\n",
        "b = np.array([4, 5, 6, 7, 8])\n",
        "\n",
        "# Compute Euclidean distance\n",
        "distance = np.linalg.norm(a - b)\n",
        "\n",
        "print(\"Euclidean distance is:\", round(distance, 4))\n"
      ],
      "metadata": {
        "id": "C68FjXHnX-4t"
      },
      "execution_count": null,
      "outputs": []
    },
    {
      "cell_type": "markdown",
      "source": [
        "Problem 13\n",
        "Find all the peaks in a 1D numpy array a. Peaks are points surrounded by smaller values on both sides.\n",
        "Input:\n",
        "array([1, 3, 7, 1, 2, 6, 0, 1])\n",
        "Desired Output:\n",
        "array( [2, 5])\n",
        "where, 2 and 5 are the positions of peak values 7 and 6.\n"
      ],
      "metadata": {
        "id": "O3Nh14hYWF8k"
      }
    },
    {
      "cell_type": "code",
      "source": [
        "def find_peaks(array):\n",
        "    peaks = []\n",
        "    for i in range(1, len(array) - 1):\n",
        "        if array[i] > array[i - 1] and array[i] > array[i + 1]:\n",
        "            peaks.append(i)\n",
        "    return np.array(peaks)\n",
        "\n",
        "# Input array\n",
        "a = np.array([1, 3, 7, 1, 2, 6, 0, 1])\n",
        "\n",
        "# Find peaks\n",
        "peak_positions = find_peaks(a)\n",
        "\n",
        "# Print result\n",
        "print(\"Peak positions:\", peak_positions)\n",
        "\n",
        ""
      ],
      "metadata": {
        "id": "B_XHqkA2ZG2Z"
      },
      "execution_count": null,
      "outputs": []
    },
    {
      "cell_type": "markdown",
      "source": [
        "\n",
        "Problem 14\n",
        "Find the index of nth repetition of number i .\n",
        "Inputs\n",
        "array([1, 2, 1, 1, 3, 4, 3, 1, 1, 2, 1, 1, 2])\n",
        "n = 5 (from user)\n",
        "i = 1 (from user)\n",
        "Output\n",
        "8"
      ],
      "metadata": {
        "id": "FHMlK8_-WSvh"
      }
    },
    {
      "cell_type": "code",
      "source": [
        "def find_nth_repetition_index(array, n, i):\n",
        "    indices = np.where(array == i)[0]  # Find indices where i appears\n",
        "    if len(indices) < n:  # If number of occurrences is less than n\n",
        "        return -1  # Return -1 indicating not found\n",
        "    return indices[n - 1]  # Return the index of the nth occurrence\n",
        "\n",
        "# Input array\n",
        "arr = np.array([1, 2, 1, 1, 3, 4, 3, 1, 1, 2, 1, 1, 2])\n",
        "# i is one and and fith time one repeats on index 8\n",
        "n = 5\n",
        "i = 1\n",
        "\n",
        "# Find nth repetition index\n",
        "index = find_nth_repetition_index(arr, n, i)\n",
        "\n",
        "# Print result\n",
        "print(\"Index of nth repetition of number\", i, \"is:\", index)\n",
        "\n",
        ""
      ],
      "metadata": {
        "colab": {
          "base_uri": "https://localhost:8080/"
        },
        "id": "LfgSnYmFN4lZ",
        "outputId": "1bfb81b6-9503-4633-8b2a-5e451aa23b66"
      },
      "execution_count": 9,
      "outputs": [
        {
          "output_type": "stream",
          "name": "stdout",
          "text": [
            "Index of nth repetition of number 1 is: 8\n"
          ]
        }
      ]
    },
    {
      "cell_type": "code",
      "source": [],
      "metadata": {
        "id": "hDpW6Ky2VxvY"
      },
      "execution_count": null,
      "outputs": []
    },
    {
      "cell_type": "markdown",
      "source": [
        "6.Write a NumPy program to calculate percentiles for a sequence or single-dimensional NumPy array.\n",
        "Sample Output:\n",
        "50th percentile (median):\n",
        "3.0\n",
        "40th percentile:\n",
        "2.6\n",
        "90th percentile:\n",
        "4.6\n"
      ],
      "metadata": {
        "id": "3H-RGoc3XpRg"
      }
    },
    {
      "cell_type": "code",
      "source": [
        "# Sample array\n",
        "array = np.array([1, 2, 3, 4, 5])\n",
        "\n",
        "# Calculate percentiles\n",
        "percentile_50 = np.percentile(array, 50)\n",
        "percentile_40 = np.percentile(array, 40)\n",
        "percentile_90 = np.percentile(array, 90)\n",
        "\n",
        "# Print percentiles\n",
        "print(\"50th percentile (median):\")\n",
        "print(percentile_50)\n",
        "print(\"40th percentile:\")\n",
        "print(percentile_40)\n",
        "print(\"90th percentile:\")\n",
        "print(percentile_90)"
      ],
      "metadata": {
        "colab": {
          "base_uri": "https://localhost:8080/"
        },
        "id": "Ysk9fpi5Xqqd",
        "outputId": "097d69d8-aef3-42ee-8c40-929c7cf47e20"
      },
      "execution_count": 17,
      "outputs": [
        {
          "output_type": "stream",
          "name": "stdout",
          "text": [
            "50th percentile (median):\n",
            "3.0\n",
            "40th percentile:\n",
            "2.6\n",
            "90th percentile:\n",
            "4.6\n"
          ]
        }
      ]
    }
  ]
}