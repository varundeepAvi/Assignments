{
  "nbformat": 4,
  "nbformat_minor": 0,
  "metadata": {
    "colab": {
      "provenance": []
    },
    "kernelspec": {
      "name": "python3",
      "display_name": "Python 3"
    },
    "language_info": {
      "name": "python"
    }
  },
  "cells": [
    {
      "cell_type": "code",
      "execution_count": null,
      "metadata": {
        "id": "ZD-kVJtMiPmi"
      },
      "outputs": [],
      "source": []
    },
    {
      "cell_type": "markdown",
      "source": [
        "\n",
        "1.Count Words\n",
        "Problem statement\n",
        "For a given input string(str), find and return the total number of words present in it.\n",
        "\n",
        "It is assumed that two words will have only a single space in between. Also, there wouldn't be any leading and trailing spaces in the given input string."
      ],
      "metadata": {
        "id": "3FSsIWb6iQm7"
      }
    },
    {
      "cell_type": "code",
      "source": [
        "#using python functions\n",
        "text = input(\"Enter text: \")\n",
        "\n",
        "list1 = text.split()\n",
        "\n",
        "print(\"Total Number of words are :\", len(list1))\n",
        "\n",
        "print(len(list1))\n",
        "\n",
        "\n"
      ],
      "metadata": {
        "colab": {
          "base_uri": "https://localhost:8080/"
        },
        "id": "c_kXk8LxiZof",
        "outputId": "1c55a76f-b92e-4552-e783-73e9cd58cd8c"
      },
      "execution_count": null,
      "outputs": [
        {
          "output_type": "stream",
          "name": "stdout",
          "text": [
            "Enter textVarun deep Singh\n",
            "3\n"
          ]
        }
      ]
    },
    {
      "cell_type": "code",
      "source": [],
      "metadata": {
        "id": "fqKO2WZaaF3n"
      },
      "execution_count": null,
      "outputs": []
    },
    {
      "cell_type": "code",
      "source": [
        "text = input(\"Enter text\")\n",
        "\n",
        "count = 0\n",
        "for ch in text:\n",
        "   if ch ==' ':\n",
        "    count +=1\n",
        "\n",
        "print(\"Total Number of words are :\", count+1)\n",
        "\n"
      ],
      "metadata": {
        "colab": {
          "base_uri": "https://localhost:8080/"
        },
        "id": "Xq6v6Mksi14g",
        "outputId": "e50d0ef7-6f85-4036-eb16-1fe6007d093c"
      },
      "execution_count": null,
      "outputs": [
        {
          "output_type": "stream",
          "name": "stdout",
          "text": [
            "Enter textVarun deep singh\n",
            "Total Number of words are : 3\n"
          ]
        }
      ]
    },
    {
      "cell_type": "markdown",
      "source": [
        "2.String Palindrome\n",
        "Problem statement\n",
        "Given a string, determine if it is a palindrome, considering only alphanumeric characters.\n",
        "\n",
        "Palindrome\n",
        "A palindrome is a word, number, phrase, or other sequences of characters which read the same backwards and forwards.\n",
        "Example:\n",
        "If the input string happens to be, \"malayalam\" then as we see that this word can be read the same as forward and backwards, it is said to be a valid palindrome.\n",
        "\n",
        "The expected output for this example will print, 'true'.\n",
        "From that being said, you are required to return a boolean value from the function that has been asked to implement.\n"
      ],
      "metadata": {
        "id": "UVrCymB6j0RZ"
      }
    },
    {
      "cell_type": "code",
      "source": [
        "text = input(\"Enter String \")\n",
        "\n",
        "str_temp = text[::-1]\n",
        "\n",
        "if text == str_temp :\n",
        " print(\"true\")\n",
        "else :\n",
        " print(\"false\")"
      ],
      "metadata": {
        "colab": {
          "base_uri": "https://localhost:8080/"
        },
        "id": "z69mkwvdj3v8",
        "outputId": "30ca769a-ae34-4961-c819-f40f6ddbfd39"
      },
      "execution_count": null,
      "outputs": [
        {
          "output_type": "stream",
          "name": "stdout",
          "text": [
            "Enter String var123321rav\n",
            "true\n"
          ]
        }
      ]
    },
    {
      "cell_type": "code",
      "source": [
        "text = input(\"Enter String\")\n",
        "\n",
        "i =0\n",
        "e = len(text)-1\n",
        "\n",
        "is_palindrome = True\n",
        "while i < e:\n",
        "  if text[i] != text[e] :\n",
        "      is_palindrome = False\n",
        "      break\n",
        "\n",
        "  i +=1\n",
        "  e -=1\n",
        "\n",
        "\n",
        "if is_palindrome :\n",
        "   print(\"It is an Palindromic String \")\n",
        "else :\n",
        "   print(\"It is not an Palindromic String\")\n",
        "\n",
        "\n",
        "\n"
      ],
      "metadata": {
        "colab": {
          "base_uri": "https://localhost:8080/"
        },
        "id": "h050tVKsk72h",
        "outputId": "0d72db48-9bc6-4fb5-f2b5-3613c3772c39"
      },
      "execution_count": null,
      "outputs": [
        {
          "output_type": "stream",
          "name": "stdout",
          "text": [
            "Enter Stringvarruna\n",
            "It is not an Palindromic String\n"
          ]
        }
      ]
    },
    {
      "cell_type": "code",
      "source": [],
      "metadata": {
        "id": "ERMpoNcoiodN"
      },
      "execution_count": null,
      "outputs": []
    },
    {
      "cell_type": "markdown",
      "source": [
        "3.Problem statement\n",
        "For a given input string(str), write a function to print all the possible substrings.\n",
        "\n",
        "Substring\n",
        "A substring is a contiguous sequence of characters within a string.\n",
        "Example: \"cod\" is a substring of \"coding\". Whereas, \"cdng\" is not as the characters taken are not contiguous\n",
        "\n",
        "Sample Input 1:\n",
        "abc\n",
        "Sample Output 1:\n",
        "a\n",
        "ab\n",
        "abc\n",
        "b\n",
        "bc\n",
        "c\n"
      ],
      "metadata": {
        "id": "l0dILPajoJNz"
      }
    },
    {
      "cell_type": "code",
      "source": [
        "text = input(\"Enter text\")\n",
        "\n",
        "list1 = []\n",
        "len_ = len(text)\n",
        "for i in range(len_):\n",
        "    str_ =\"\"\n",
        "    for j in range(i, len_):\n",
        "          str_ += text[j]\n",
        "          list1.append(str_)\n",
        "\n",
        "\n",
        "print(\"The substrings are:  \")\n",
        "print(list1)\n",
        "\n",
        "print(\"The count of Substrings are: \")\n",
        "\n",
        "print(len(list1))\n",
        "\n"
      ],
      "metadata": {
        "colab": {
          "base_uri": "https://localhost:8080/"
        },
        "id": "3JFfuIFooPGS",
        "outputId": "84c668f7-0674-4fcd-a39e-9844e7a82be5"
      },
      "execution_count": null,
      "outputs": [
        {
          "output_type": "stream",
          "name": "stdout",
          "text": [
            "Enter textVARUN\n",
            "The substrings are:  \n",
            "['V', 'VA', 'VAR', 'VARU', 'VARUN', 'A', 'AR', 'ARU', 'ARUN', 'R', 'RU', 'RUN', 'U', 'UN', 'N']\n",
            "The count of Substrings are: \n",
            "15\n"
          ]
        }
      ]
    },
    {
      "cell_type": "code",
      "source": [
        "#uning Recursion\n",
        "\n",
        "text = input(\"Enter text\")\n",
        "\n",
        "list1 = []\n",
        "\n",
        "\n",
        "def useRecur(text, ind,l,list1,temp_str):\n",
        "  #base case\n",
        "   if ind == l:\n",
        "      return\n",
        "\n",
        "   temp_str += text[ind]\n",
        "   list1.append(temp_str);\n",
        "   useRecur(text, ind+1,l,  list1, temp_str)\n",
        "\n",
        "\n",
        "\n",
        "\n",
        "\n",
        "\n",
        "\n",
        "\n",
        "l= len(text)\n",
        "list1 = []\n",
        "for i in range(l):\n",
        "\n",
        "    useRecur(text, i, l, list1, \"\")\n",
        "\n",
        "print(\"The substrings are:  \")\n",
        "print(list1)\n",
        "\n",
        "print(\"The count of Substrings are: \")\n",
        "\n",
        "\n",
        "print(len(list1))\n",
        "\n",
        "\n",
        "\n",
        "\n",
        "\n"
      ],
      "metadata": {
        "id": "XGhAnI2dpMu4"
      },
      "execution_count": null,
      "outputs": []
    },
    {
      "cell_type": "code",
      "source": [],
      "metadata": {
        "id": "20qGL8Hf-MuC"
      },
      "execution_count": null,
      "outputs": []
    },
    {
      "cell_type": "markdown",
      "source": [
        "4.check Permutation\n",
        "Problem statement\n",
        "For a given two strings, 'str1' and 'str2', check whether they are a permutation of each other or not.\n",
        "\n",
        "Permutations of each other\n",
        "Two strings are said to be a permutation of each other when either of the string's characters can be rearranged so that it becomes identical to the other one.\n",
        "\n",
        "Example:\n",
        "str1= \"sinrtg\"\n",
        "str2 = \"string\"\n",
        "\n",
        "The character of the first string(str1) can be rearranged to form str2 and hence we can say that the given strings are a permutation of each other.\n",
        "Sample Input 1:\n",
        "abcde\n",
        "baedc\n",
        "Sample Output 1:\n",
        "true\n"
      ],
      "metadata": {
        "id": "xSbIjjs1_mlF"
      }
    },
    {
      "cell_type": "code",
      "source": [
        "str1 = input(\"Enter String1: \")\n",
        "\n",
        "str2 = input(\"Enter String2: \")\n",
        "\n",
        "\n",
        "\n",
        "dict1={}\n",
        "dict2={}\n",
        "\n",
        "\n",
        "for  item in str1:\n",
        "    dict1[item] = dict1.get(item,0)+1\n",
        "\n",
        "\n",
        "for  item in str2:\n",
        "    dict2[item] = dict2.get(item,0)+1\n",
        "\n",
        "\n",
        "# compare two dictionaries\n",
        "if dict1 == dict2:\n",
        "   print(\"Strings are permutation of Each other\")\n",
        "else :\n",
        "   print(\"Strings are not permutation of each other\")\n",
        "\n"
      ],
      "metadata": {
        "colab": {
          "base_uri": "https://localhost:8080/"
        },
        "id": "ihGBh19b_vDr",
        "outputId": "fa960193-594f-4807-88da-096c3458b4fd"
      },
      "execution_count": null,
      "outputs": [
        {
          "name": "stdout",
          "output_type": "stream",
          "text": [
            "Enter String1: varun\n",
            "Enter String2: avran\n"
          ]
        }
      ]
    },
    {
      "cell_type": "code",
      "source": [],
      "metadata": {
        "id": "ebIIeX8dA2HB"
      },
      "execution_count": null,
      "outputs": []
    },
    {
      "cell_type": "markdown",
      "source": [
        "8.Compress the String\n",
        "Problem statement\n",
        "Write a program to do basic string compression. For a character which is consecutively repeated more than once, replace consecutive duplicate occurrences with the count of repetitions.\n",
        "\n",
        "Example:\n",
        "If a string has 'x' repeated 5 times, replace this \"xxxxx\" with \"x5\".\n",
        "\n",
        "The string is compressed only when the repeated character count is more than 1.\n",
        "Note:\n",
        "Consecutive count of every character in the input string is less than or equal to 9. You are not required to print anything. It has already been taken care of. Just implement the given function and return the compressed string@#"
      ],
      "metadata": {
        "id": "2QJnUeSOaMJ9"
      }
    },
    {
      "cell_type": "code",
      "source": [
        "# creating new string for ans\n",
        "\n",
        "\n",
        "str1 = input(\"Enter String\")\n",
        "\n",
        "ans = \"\"\n",
        "l = len(str1)\n",
        "count=1\n",
        "for i in range(l-1) :\n",
        "   if str1[i] == str1[i+1] :\n",
        "     count += 1\n",
        "   else :\n",
        "     ans += str1[i]\n",
        "     if count > 1:\n",
        "      ans += str(count)\n",
        "     count = 1\n",
        "\n",
        "\n",
        "ans += str1[l-1]\n",
        "if count > 1:\n",
        "  ans += str(count)\n",
        "\n",
        "\n",
        "print(ans)\n",
        "\n"
      ],
      "metadata": {
        "colab": {
          "base_uri": "https://localhost:8080/"
        },
        "id": "_0KZUBQSaNx0",
        "outputId": "4ff6f6e4-9b14-4fc1-bdaa-ef9784ba3f27"
      },
      "execution_count": null,
      "outputs": [
        {
          "output_type": "stream",
          "name": "stdout",
          "text": [
            "Enter Stringvvvaaarrrrun\n",
            "v3a3r4un\n"
          ]
        }
      ]
    },
    {
      "cell_type": "code",
      "source": [
        "#inplace approach\n",
        "\n",
        "\n",
        "for"
      ],
      "metadata": {
        "id": "g9TlxHyRblMx"
      },
      "execution_count": null,
      "outputs": []
    },
    {
      "cell_type": "markdown",
      "source": [
        "7.Highest Occuring Charactor\n",
        "Problem statement\n",
        "For a given a string(str), find and return the highest occurring character.\n",
        "\n",
        "Example:\n",
        "Input String: \"abcdeapapqarr\"\n",
        "Expected Output: 'a'\n",
        "Since 'a' has appeared four times in the string which happens to be the highest frequency character, the answer would be 'a'.\n",
        "If there are two characters in the input string with the same frequency, return the character which comes first.\n",
        "\n",
        "Consider:\n",
        "Assume all the characters in the given string to be in lowercase always.\n",
        "\n",
        "Sample Input 1:\n",
        "abdefgbabfba\n",
        "Sample Output 1:\n",
        "b"
      ],
      "metadata": {
        "id": "Ek1GGFM6dPr9"
      }
    },
    {
      "cell_type": "code",
      "source": [
        "\n",
        "#sort the array and  get character counts and find max Char count and corrosponding char\n",
        "\n",
        "str1 = input(\"Enter String\")\n",
        "\n",
        "#create dict\n",
        "\n",
        "dict1= {}\n",
        "for i in range(len(str1)):\n",
        "    dict1[str1[i]] = dict1.get(str1[i],i)\n",
        "\n",
        "\n",
        "l = len(str1)\n",
        "\n",
        "print(dict1)\n",
        "\n",
        "sorted_list = sorted(str1)\n",
        "\n",
        "\n",
        "\n",
        "\n",
        "\n",
        "\n",
        "count = 1\n",
        "max_count =0\n",
        "max_occurChar =' '\n",
        "str1= ''.join(sorted_list)\n",
        "\n",
        "print(str1)\n",
        "for i in range(l-1) :\n",
        "   if  str1[i] == str1[i+1] :\n",
        "         count += 1\n",
        "\n",
        "   else :\n",
        "      if count >= max_count :\n",
        "          if count > max_count:\n",
        "             max_count = count\n",
        "             max_occurChar = str1[i]\n",
        "          else :\n",
        "            if dict1[max_occurChar] > dict1[str1[i]] :\n",
        "             max_occurChar = str1[i]\n",
        "\n",
        "\n",
        "      count = 1\n",
        "\n",
        "\n",
        "if count >= max_count :\n",
        "      if count > max_count:\n",
        "         max_count = count\n",
        "         max_occurChar = str1[l-1]\n",
        "      else :\n",
        "\n",
        "         dict1[max_occurChar] > dict1[str1[l-1]]\n",
        "         max_occurChar = str1[l-1]\n",
        "         max_count = count\n",
        "\n",
        "\n",
        "print(f\"Max Occuring Character is {max_occurChar} , occuring {max_count } times\")\n",
        "\n",
        "\n",
        "\n",
        "\n"
      ],
      "metadata": {
        "colab": {
          "base_uri": "https://localhost:8080/"
        },
        "id": "u5inu00gdUIC",
        "outputId": "80fa6e95-693b-4f3d-985c-e9a949855751"
      },
      "execution_count": null,
      "outputs": [
        {
          "output_type": "stream",
          "name": "stdout",
          "text": [
            "Enter Stringaabbccc\n",
            "{'a': 0, 'b': 2, 'c': 4}\n",
            "aabbccc\n",
            "Max Occuring Character is c , occuring 3 times\n"
          ]
        }
      ]
    },
    {
      "cell_type": "code",
      "source": [
        "str1 = input(\"Enter String\")\n",
        "\n",
        "# create dict\n",
        "dict1 = {}\n",
        "for i in range(len(str1)):\n",
        "    dict1[str1[i]] = dict1.get(str1[i], 0) + 1\n",
        "\n",
        "l = len(str1)\n",
        "\n",
        "sorted_list = sorted(str1)\n",
        "\n",
        "count = 1\n",
        "max_count = 0\n",
        "max_occurChar = ' '\n",
        "str1 = ''.join(sorted_list)\n",
        "\n",
        "for i in range(l - 1):\n",
        "    if str1[i] == str1[i + 1]:\n",
        "        count += 1\n",
        "    else:\n",
        "        if count >= max_count:\n",
        "            if count > max_count:\n",
        "                max_count = count\n",
        "                max_occurChar = str1[i]\n",
        "            else:\n",
        "                if dict1[max_occurChar] > dict1[str1[i]]:\n",
        "                    max_occurChar = str1[i]\n",
        "\n",
        "        count = 1\n",
        "\n",
        "if count >= max_count:\n",
        "    if count > max_count:\n",
        "        max_count = count\n",
        "        max_occurChar = str1[-1]\n",
        "    else:\n",
        "        if dict1[max_occurChar] > dict1[str1[-1]]:\n",
        "            max_occurChar = str1[-1]\n",
        "\n",
        "print(f\"Max Occurring Character is {max_occurChar}, occurring {max_count} times\")\n"
      ],
      "metadata": {
        "colab": {
          "base_uri": "https://localhost:8080/"
        },
        "id": "VCJfa7ayrwhR",
        "outputId": "7e00deaf-b72a-4115-8ac4-4b70a0481db0"
      },
      "execution_count": null,
      "outputs": [
        {
          "output_type": "stream",
          "name": "stdout",
          "text": [
            "Enter Stringaabbccc\n",
            "Max Occurring Character is c, occurring 3 times\n"
          ]
        }
      ]
    },
    {
      "cell_type": "code",
      "source": [],
      "metadata": {
        "id": "HVS78JlGglVu"
      },
      "execution_count": null,
      "outputs": []
    },
    {
      "cell_type": "markdown",
      "source": [
        "5.Remove Consecutive Duplicates\n",
        "Problem statement\n",
        "For a given string(str), remove all the consecutive duplicate characters.\n",
        "\n",
        "Example:\n",
        "Input String: \"aaaa\"\n",
        "Expected Output: \"a\"\n",
        "\n",
        "Input String: \"aabbbcc\"\n",
        "Expected Output: \"abc\"\n"
      ],
      "metadata": {
        "id": "vJ37NBHkuRSU"
      }
    },
    {
      "cell_type": "code",
      "source": [
        "str1 = input(\"Enter String\")\n",
        "\n",
        "ans = ''\n",
        "l = len(str1)\n",
        "for i in range(l-1):\n",
        "    if str1[i] != str1[i+1]:\n",
        "        ans += str1[i]\n",
        "\n",
        "\n",
        "ans += str1[-1]\n",
        "\n",
        "print(ans)\n"
      ],
      "metadata": {
        "colab": {
          "base_uri": "https://localhost:8080/"
        },
        "id": "9E8QwsGjuzPS",
        "outputId": "42b235f0-0a55-457c-a083-50839b6cd554"
      },
      "execution_count": null,
      "outputs": [
        {
          "output_type": "stream",
          "name": "stdout",
          "text": [
            "Enter Stringaabbccc\n",
            "abc\n"
          ]
        }
      ]
    },
    {
      "cell_type": "markdown",
      "source": [
        "6.Remove character\n",
        "Problem statement\n",
        "For a given a string(str) and a character X, write a function to remove all the occurrences of X from the given string.\n",
        "\n",
        "The input string will remain unchanged if the given character(X) doesn't exist in the input string.\n",
        "\n",
        "Sample Input 1:\n",
        "aabccbaa\n",
        "a\n",
        "Sample Output 1:\n",
        "bccb"
      ],
      "metadata": {
        "id": "A_rF-uGsvq7W"
      }
    },
    {
      "cell_type": "code",
      "source": [
        "str1 = input(\"Enter String \")\n",
        "\n",
        "\n",
        "x = input(\"Enter value of X:\")\n",
        "ans = \"\"\n",
        "\n",
        "l = len(str1)\n",
        "for i in range(l):\n",
        "   if str1[i]!= x :\n",
        "     ans += str1[i]\n",
        "\n",
        "\n",
        "print(ans)\n",
        "\n",
        "\n"
      ],
      "metadata": {
        "colab": {
          "base_uri": "https://localhost:8080/"
        },
        "id": "6d_7NqaUvSnR",
        "outputId": "8f59127b-f11f-4cb6-e7e6-b21eb3ada7d1"
      },
      "execution_count": null,
      "outputs": [
        {
          "output_type": "stream",
          "name": "stdout",
          "text": [
            "Enter String aabbbcaaac\n",
            "Enter value of Xa\n",
            "bbbcc\n"
          ]
        }
      ]
    },
    {
      "cell_type": "code",
      "source": [],
      "metadata": {
        "id": "VXQTOuCUwV5Q"
      },
      "execution_count": null,
      "outputs": []
    }
  ]
}